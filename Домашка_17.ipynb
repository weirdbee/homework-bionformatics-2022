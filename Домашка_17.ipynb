{
  "nbformat": 4,
  "nbformat_minor": 0,
  "metadata": {
    "colab": {
      "name": "Домашка 17.ipynb",
      "provenance": [],
      "collapsed_sections": []
    },
    "kernelspec": {
      "name": "python3",
      "display_name": "Python 3"
    },
    "language_info": {
      "name": "python"
    }
  },
  "cells": [
    {
      "cell_type": "markdown",
      "source": [
        "# 1"
      ],
      "metadata": {
        "id": "2Ygh-TOVR0-v"
      }
    },
    {
      "cell_type": "code",
      "source": [
        "import pandas as pd\n",
        "import numpy as np\n",
        "\n",
        "\n",
        "from sklearn.pipeline import Pipeline\n",
        "from sklearn.preprocessing import StandardScaler\n",
        "from sklearn.neighbors import KNeighborsClassifier\n",
        "\n",
        "from sklearn.model_selection import train_test_split\n",
        "from sklearn.metrics import make_scorer\n",
        "from sklearn.metrics import accuracy_score"
      ],
      "metadata": {
        "id": "H6k5So6aSJzz"
      },
      "execution_count": null,
      "outputs": []
    },
    {
      "cell_type": "code",
      "source": [
        "df = pd.read_csv(\"BRCA_pam50 (1).tsv\", sep = \"\\t\", index_col=0)\n",
        "X = df.iloc[:, :-1].to_numpy()\n",
        "y = df[\"Subtype\"].to_numpy()\n",
        "\n",
        "X_train, X_test, y_train, y_test = train_test_split(\n",
        "    X, y, stratify = y, test_size=0.2, random_state=17\n",
        ")\n",
        "\n",
        "model = Pipeline([\n",
        "    (\"scaler\", StandardScaler()),\n",
        "    (\"clf\", KNeighborsClassifier(n_neighbors=5, weights=\"distance\", p=1))\n",
        "])\n",
        "model.fit(X_train, y_train)\n",
        "\n",
        "y_pred = model.predict(X_test)\n",
        "print(accuracy_score(y_pred, y_test))"
      ],
      "metadata": {
        "colab": {
          "base_uri": "https://localhost:8080/"
        },
        "id": "r7HXINF_SWcj",
        "outputId": "f5174a21-5c16-412f-c384-537b69a7ec1d"
      },
      "execution_count": null,
      "outputs": [
        {
          "output_type": "stream",
          "name": "stdout",
          "text": [
            "0.8633879781420765\n"
          ]
        }
      ]
    },
    {
      "cell_type": "markdown",
      "source": [
        "# 2"
      ],
      "metadata": {
        "id": "K7GRTYGnR0JF"
      }
    },
    {
      "cell_type": "code",
      "source": [
        "a = {i: 0 for i in np.unique(y_test)}\n",
        "for i, j in zip(y_pred, y_test):\n",
        "  if i == j:\n",
        "    a[i] += 1\n",
        "a = {i: round(a[i]/list(y_test).count(i), 3) for i in a}\n",
        "print(a)"
      ],
      "metadata": {
        "colab": {
          "base_uri": "https://localhost:8080/"
        },
        "id": "8bpZOVwMTChF",
        "outputId": "2eab1fe0-5442-4595-dfe7-992c2928632c"
      },
      "execution_count": null,
      "outputs": [
        {
          "output_type": "stream",
          "name": "stdout",
          "text": [
            "{'HER2-enriched': 0.769, 'Healthy': 1.0, 'Luminal A': 0.963, 'Luminal B': 0.595, 'Normal-like': 0.0, 'Triple-negative': 1.0}\n"
          ]
        }
      ]
    },
    {
      "cell_type": "markdown",
      "source": [
        "# 3"
      ],
      "metadata": {
        "id": "hnF-_PTRRzID"
      }
    },
    {
      "cell_type": "code",
      "source": [
        "from sklearn.neighbors import NearestCentroid"
      ],
      "metadata": {
        "id": "eeCPCfZVVyH-"
      },
      "execution_count": null,
      "outputs": []
    },
    {
      "cell_type": "code",
      "source": [
        "df = pd.read_csv(\"BRCA_pam50 (1).tsv\", sep = \"\\t\", index_col=0)\n",
        "X = df.iloc[:, :-1].to_numpy()\n",
        "y = df[\"Subtype\"].to_numpy()\n",
        "\n",
        "X_train, X_test, y_train, y_test = train_test_split(\n",
        "    X, y, stratify = y, test_size=0.2, random_state=17\n",
        ")\n",
        "\n",
        "model = Pipeline([\n",
        "    (\"scaler\", StandardScaler()),\n",
        "    (\"clf\", NearestCentroid())\n",
        "])\n",
        "\n",
        "model.fit(X_train, y_train)\n",
        "\n",
        "y_pred = model.predict(X_test)\n",
        "print(accuracy_score(y_pred, y_test))"
      ],
      "metadata": {
        "colab": {
          "base_uri": "https://localhost:8080/"
        },
        "id": "LHORPikiVmEW",
        "outputId": "aefd268c-1a05-4587-b7e2-368688b2f94f"
      },
      "execution_count": null,
      "outputs": [
        {
          "output_type": "stream",
          "name": "stdout",
          "text": [
            "0.8633879781420765\n"
          ]
        }
      ]
    },
    {
      "cell_type": "code",
      "source": [
        "a = {i: 0 for i in np.unique(y_test)}\n",
        "for i, j in zip(y_pred, y_test):\n",
        "  if i == j:\n",
        "    a[i] += 1\n",
        "a = {i: round(a[i]/list(y_test).count(i), 3) for i in a}\n",
        "print(a)"
      ],
      "metadata": {
        "colab": {
          "base_uri": "https://localhost:8080/"
        },
        "id": "tv_lE33nV_I2",
        "outputId": "8198fc09-7658-4604-a52c-cdb0903f4312"
      },
      "execution_count": null,
      "outputs": [
        {
          "output_type": "stream",
          "name": "stdout",
          "text": [
            "{'HER2-enriched': 1.0, 'Healthy': 0.9, 'Luminal A': 0.817, 'Luminal B': 0.838, 'Normal-like': 0.5, 'Triple-negative': 1.0}\n"
          ]
        }
      ]
    },
    {
      "cell_type": "markdown",
      "source": [
        "# 4"
      ],
      "metadata": {
        "id": "AnGRC2Gn3SX4"
      }
    },
    {
      "cell_type": "code",
      "execution_count": null,
      "metadata": {
        "id": "URNh-YnP3OwD"
      },
      "outputs": [],
      "source": [
        "from scipy.stats import *\n",
        "import pandas as pd\n",
        "import seaborn as sns\n",
        "import numpy as np"
      ]
    },
    {
      "cell_type": "code",
      "source": [
        "mark = ['blue', 'new', 'green']\n",
        "\n",
        "N = int(1e3)\n",
        "for i in range(N):\n",
        "  x = norm(0, 1).rvs(3)\n",
        "  y = norm(0, 1).rvs(3)\n",
        "  eq1 = abs(x[0] - x[1]) + abs(y[0] - y[1]) < abs(x[2] - x[1]) + abs(x[2] - x[1])\n",
        "  eq2 = (x[0] - x[1])**2 + (y[0] - y[1])**2 > (x[2] - x[1])**2 + (y[2] - y[1])**2\n",
        "  if eq1 and eq2:\n",
        "    print('координаты ближайших точек и новой точки:')\n",
        "    for i in range(3):\n",
        "      print(f'{mark[i]}: ({round(x[i], 3)}, {round(y[i], 3)})')\n",
        "    break\n",
        "\n",
        "x_blue = norm((5*x[0] - x[1] ) / 4, 0.1).rvs(10)\n",
        "y_blue = norm( (5*y[0] - y[1]) / 4, 0.1).rvs(10)\n",
        "\n",
        "x_green = norm( (5*x[2] - x[1] ) / 4, 0.1).rvs(10)\n",
        "y_green = norm( (5*y[2] - y[1]) / 4, 0.1).rvs(10)\n",
        "\n",
        "mark = mark + ['blue']*10 + ['green']*10\n",
        "x = list(x) + list(x_blue) + list(x_green)\n",
        "y = list(y) + list(y_blue) + list(y_green)\n",
        "\n",
        "df = pd.DataFrame()\n",
        "df['x'] = x\n",
        "df['y'] = y\n",
        "df['type'] = mark\n",
        "sns.scatterplot(x = 'x', y = 'y', hue = 'type', data = df)"
      ],
      "metadata": {
        "colab": {
          "base_uri": "https://localhost:8080/",
          "height": 370
        },
        "id": "Z9LMJLyW3YLC",
        "outputId": "6b39b88a-c5b7-4ab4-cc2b-bda98c70fb53"
      },
      "execution_count": null,
      "outputs": [
        {
          "output_type": "stream",
          "name": "stdout",
          "text": [
            "координаты ближайших точек и новой точки:\n",
            "blue: (-0.387, -1.194)\n",
            "new: (0.408, -0.035)\n",
            "green: (-0.883, 0.142)\n"
          ]
        },
        {
          "output_type": "execute_result",
          "data": {
            "text/plain": [
              "<matplotlib.axes._subplots.AxesSubplot at 0x7fbd834e3d90>"
            ]
          },
          "metadata": {},
          "execution_count": 133
        },
        {
          "output_type": "display_data",
          "data": {
            "text/plain": [
              "<Figure size 432x288 with 1 Axes>"
            ],
            "image/png": "[encoded data removed]"
          },
          "metadata": {
            "needs_background": "light"
          }
        }
      ]
    },
    {
      "cell_type": "markdown",
      "source": [
        "# 5"
      ],
      "metadata": {
        "id": "dauOdIdhH62e"
      }
    },
    {
      "cell_type": "markdown",
      "source": [
        "\\begin{equation*}\n",
        "C_1 > \\sqrt{2} \\\\\n",
        "\\sqrt{2} > C_2 \\\\\n",
        "C_3 > \\sqrt{2} \\\\\n",
        "C_5 > 2 \\\\\n",
        "C_6 < 2\n",
        "\\end{equation*}"
      ],
      "metadata": {
        "id": "orVGpIlaH7l_"
      }
    },
    {
      "cell_type": "code",
      "source": [
        "N = int(1e3)\n",
        "\n",
        "x = norm(0, 1).rvs(N)\n",
        "y = norm(0, 1).rvs(N)\n",
        "\n",
        "C1 = 2**0.5\n",
        "\n",
        "go = True\n",
        "for i in range(N):\n",
        "  if go:\n",
        "    for j in range(N):\n",
        "      if abs(x[i] - x[j]) + abs(y[i] - y[j]) < C1*((x[i] - x[j])**2 + (y[i] - y[j])**2)**0.5:\n",
        "        go = False\n",
        "        break\n",
        "\n",
        "if go:\n",
        "  print('коэффициент не подходит')\n",
        "else:\n",
        "  print(f'все ок, значение коэффициента C = {C1} подходит')"
      ],
      "metadata": {
        "colab": {
          "base_uri": "https://localhost:8080/"
        },
        "id": "xlrYYBo0IyPa",
        "outputId": "b84a3c23-75ee-4ed5-8cd3-18bc397152ba"
      },
      "execution_count": null,
      "outputs": [
        {
          "output_type": "stream",
          "name": "stdout",
          "text": [
            "все ок, значение коэффициента C = 1.4142135623730951 подходит\n"
          ]
        }
      ]
    }
  ]
}