{
  "nbformat": 4,
  "nbformat_minor": 0,
  "metadata": {
    "colab": {
      "name": "Домашка 7.ipynb",
      "provenance": []
    },
    "kernelspec": {
      "name": "python3",
      "display_name": "Python 3"
    },
    "language_info": {
      "name": "python"
    }
  },
  "cells": [
    {
      "cell_type": "markdown",
      "source": [
        "# 2\n",
        "\n",
        "reads_1 -> из первой задачи 7 семинара\n",
        "\n",
        "reads_6 -> из задачи которую разбирали на 6 лекции (начиная с 21 слайда), там по условию задачи нужно еще поставить k = 3"
      ],
      "metadata": {
        "id": "QlyLwgDKq43y"
      }
    },
    {
      "cell_type": "code",
      "source": [
        "import numpy as np\n",
        "import networkx as nx"
      ],
      "metadata": {
        "id": "_rMzZHlUrNS6"
      },
      "execution_count": 153,
      "outputs": []
    },
    {
      "cell_type": "code",
      "execution_count": 229,
      "metadata": {
        "colab": {
          "base_uri": "https://localhost:8080/",
          "height": 319
        },
        "id": "tBj7Oseaq3BO",
        "outputId": "c7924c38-ceaa-4947-d7b8-b1fadeaf8bc4"
      },
      "outputs": [
        {
          "output_type": "display_data",
          "data": {
            "image/png": "[encoded data removed]",
            "text/plain": [
              "<Figure size 432x288 with 1 Axes>"
            ]
          },
          "metadata": {}
        }
      ],
      "source": [
        "G = nx.DiGraph()\n",
        "reads_1 = 'TATA, ATAT, AATA, ATAA, AATT, ATTT, AAAT, TATT, ATTA, TTTA, TAAA, TTAT, TTAA, TAAT'.split(', ')\n",
        "reads_6 = 'CGTGCAA, ATGGCGT, CAATGGC, GGCGTGC, TGCAATG'.split(', ')\n",
        "k_mers = []\n",
        "k = 4\n",
        "\n",
        "k_mers = [i[j:j + k] for i in reads_1 for j in range(len(i) - k + 1)]\n",
        "\n",
        "G.add_edges_from([(i[:-1], i[1:]) for i in k_mers])\n",
        "\n",
        "nx.draw(G, pos = nx.circular_layout(G), with_labels = True, \n",
        "        node_color = 'r', node_size = 1000)"
      ]
    },
    {
      "cell_type": "code",
      "source": [
        "s = ''\n",
        "for i in nx.eulerian_circuit(G):\n",
        "  s += i[1][-1]\n",
        "print(s, len(s))"
      ],
      "metadata": {
        "colab": {
          "base_uri": "https://localhost:8080/"
        },
        "id": "dijd1XPIxS9g",
        "outputId": "393c0ef8-2b12-443d-a00a-d3cd4bdbbdd3"
      },
      "execution_count": 228,
      "outputs": [
        {
          "output_type": "stream",
          "name": "stdout",
          "text": [
            "TTAAATAATTATAT 14\n"
          ]
        }
      ]
    },
    {
      "cell_type": "markdown",
      "source": [
        "# 3\n",
        "\n",
        "Топ 10 Транскрипционных факторов по числу мишеней"
      ],
      "metadata": {
        "id": "_WWcKau-0sWa"
      }
    },
    {
      "cell_type": "code",
      "source": [
        "H = nx.read_graphml('TF_gene.graphml')\n",
        "a = sorted([i for i in H.out_degree()], key = lambda x: x[1], reverse = True)\n",
        "for i in a[:10]:\n",
        "  print(i)"
      ],
      "metadata": {
        "colab": {
          "base_uri": "https://localhost:8080/"
        },
        "id": "YwrgvXHy5Xxk",
        "outputId": "787a3324-c6fe-45a5-821b-a28917dbdc67"
      },
      "execution_count": 215,
      "outputs": [
        {
          "output_type": "stream",
          "name": "stdout",
          "text": [
            "('SP1', 472)\n",
            "('NFKB1', 303)\n",
            "('RELA', 301)\n",
            "('TP53', 164)\n",
            "('JUN', 149)\n",
            "('STAT3', 142)\n",
            "('E2F1', 134)\n",
            "('SP3', 113)\n",
            "('MYC', 100)\n",
            "('AR', 93)\n"
          ]
        }
      ]
    },
    {
      "cell_type": "markdown",
      "source": [
        "# 4\n",
        "\n",
        "Два транскрипционных фактора, которые имеют наибольшее число общих мишеней"
      ],
      "metadata": {
        "id": "uXqR7vMY-dHL"
      }
    },
    {
      "cell_type": "code",
      "source": [
        "H = nx.read_graphml('TF_gene.graphml')\n",
        "a = sorted([i for i in H.out_degree()], key = lambda x: x[1], reverse = True)\n",
        "for i in a[:10]:\n",
        "  print(i)\n",
        " \n",
        "b = {}\n",
        "for i in H.edges():\n",
        "  if i[0] not in b:\n",
        "    b[i[0]] = []\n",
        "  b[i[0]].append(i[1])\n",
        "\n",
        "name = [i[0] for i in a[:10]]\n",
        "\n",
        "max1 = len(set(b[name[0]]) & set(b[name[1]]))\n",
        "for i in range(len(name)):\n",
        "  for j in range(i + 1, len(name)):\n",
        "    x = len(set(b[name[i]]) & set(b[name[j]]))\n",
        "    if x > max1:\n",
        "      max1 = x\n",
        "      TF1 = name[i]\n",
        "      TF2 = name[j]\n",
        "print()\n",
        "print(max1, TF1, TF2)"
      ],
      "metadata": {
        "colab": {
          "base_uri": "https://localhost:8080/"
        },
        "id": "yiH4h7OqgcdX",
        "outputId": "24f48564-3d76-4399-ac12-888868877240"
      },
      "execution_count": 220,
      "outputs": [
        {
          "output_type": "stream",
          "name": "stdout",
          "text": [
            "('SP1', 472)\n",
            "('NFKB1', 303)\n",
            "('RELA', 301)\n",
            "('TP53', 164)\n",
            "('JUN', 149)\n",
            "('STAT3', 142)\n",
            "('E2F1', 134)\n",
            "('SP3', 113)\n",
            "('MYC', 100)\n",
            "('AR', 93)\n",
            "\n",
            "281 NFKB1 RELA\n"
          ]
        }
      ]
    },
    {
      "cell_type": "markdown",
      "source": [
        "# 5\n",
        "\n",
        "\n",
        "Есть ли путь в лабиринте? Лабиринт задается прямоугольной матрицей 0 - стена, 1 - проход"
      ],
      "metadata": {
        "id": "vvWMCM3v_UqX"
      }
    },
    {
      "cell_type": "code",
      "source": [
        "a = [[1, 1, 0, 1],\n",
        "     [0, 1, 0, 0],\n",
        "     [1, 1, 1, 1],\n",
        "     [1, 0, 0, 0],\n",
        "     [1, 1, 0, 0],\n",
        "     [0, 1, 0, 1],\n",
        "     [0, 1, 1, 1]\n",
        "]\n",
        "G = nx.Graph()\n",
        "\n",
        "n, m = len(a), len(a[0])\n",
        "print(f'matrix_size: {n}x{m}')\n",
        "\n",
        "for i in range(n):\n",
        "  for j in range(m):\n",
        "    if a[i][j] != 0:\n",
        "      if j < m - 1 and a[i][j + 1] == 1:\n",
        "        G.add_edge(f'{i},{j}', f'{i},{j + 1}')\n",
        "      if i < n - 1 and a[i + 1][j] == 1:\n",
        "        G.add_edge(f'{i},{j}', f'{i + 1},{j}')\n",
        "\n",
        "print('Graph has path?')\n",
        "if '0,0' not in G.nodes() or f'{n - 1},{m - 1}' not in G.nodes():\n",
        "  print('no')\n",
        "else: \n",
        "  ans = 'yes' if nx.has_path(G, f'0,0', f'{n - 1},{m - 1}') else 'no'\n",
        "  print(ans)"
      ],
      "metadata": {
        "colab": {
          "base_uri": "https://localhost:8080/"
        },
        "id": "AevfjVee_Va2",
        "outputId": "02a179c9-1efe-47ea-80d6-d59476f2e4a4"
      },
      "execution_count": 221,
      "outputs": [
        {
          "output_type": "stream",
          "name": "stdout",
          "text": [
            "matrix_size: 7x4\n",
            "Graph has path?\n",
            "yes\n"
          ]
        }
      ]
    }
  ]
}