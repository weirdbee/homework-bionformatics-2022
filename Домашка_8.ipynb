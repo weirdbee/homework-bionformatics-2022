{
  "nbformat": 4,
  "nbformat_minor": 0,
  "metadata": {
    "colab": {
      "name": "Домашка 8.ipynb",
      "provenance": []
    },
    "kernelspec": {
      "name": "python3",
      "display_name": "Python 3"
    },
    "language_info": {
      "name": "python"
    }
  },
  "cells": [
    {
      "cell_type": "markdown",
      "source": [
        "# 1"
      ],
      "metadata": {
        "id": "EcSAhW1LgjdI"
      }
    },
    {
      "cell_type": "code",
      "source": [
        "!pip install gffpandas"
      ],
      "metadata": {
        "colab": {
          "base_uri": "https://localhost:8080/"
        },
        "id": "VllTUAFQbepg",
        "outputId": "97feb99f-64de-49a8-a887-b3b637c62888"
      },
      "execution_count": 20,
      "outputs": [
        {
          "output_type": "stream",
          "name": "stdout",
          "text": [
            "Collecting gffpandas\n",
            "  Downloading gffpandas-1.2.0.tar.gz (178 kB)\n",
            "\u001b[?25l\r\u001b[K     |█▉                              | 10 kB 15.7 MB/s eta 0:00:01\r\u001b[K     |███▋                            | 20 kB 17.1 MB/s eta 0:00:01\r\u001b[K     |█████▌                          | 30 kB 20.0 MB/s eta 0:00:01\r\u001b[K     |███████▎                        | 40 kB 22.1 MB/s eta 0:00:01\r\u001b[K     |█████████▏                      | 51 kB 13.5 MB/s eta 0:00:01\r\u001b[K     |███████████                     | 61 kB 14.4 MB/s eta 0:00:01\r\u001b[K     |████████████▉                   | 71 kB 15.5 MB/s eta 0:00:01\r\u001b[K     |██████████████▋                 | 81 kB 16.2 MB/s eta 0:00:01\r\u001b[K     |████████████████▌               | 92 kB 17.6 MB/s eta 0:00:01\r\u001b[K     |██████████████████▎             | 102 kB 19.0 MB/s eta 0:00:01\r\u001b[K     |████████████████████▏           | 112 kB 19.0 MB/s eta 0:00:01\r\u001b[K     |██████████████████████          | 122 kB 19.0 MB/s eta 0:00:01\r\u001b[K     |███████████████████████▉        | 133 kB 19.0 MB/s eta 0:00:01\r\u001b[K     |█████████████████████████▋      | 143 kB 19.0 MB/s eta 0:00:01\r\u001b[K     |███████████████████████████▌    | 153 kB 19.0 MB/s eta 0:00:01\r\u001b[K     |█████████████████████████████▎  | 163 kB 19.0 MB/s eta 0:00:01\r\u001b[K     |███████████████████████████████▏| 174 kB 19.0 MB/s eta 0:00:01\r\u001b[K     |████████████████████████████████| 178 kB 19.0 MB/s \n",
            "\u001b[?25hBuilding wheels for collected packages: gffpandas\n",
            "  Building wheel for gffpandas (setup.py) ... \u001b[?25l\u001b[?25hdone\n",
            "  Created wheel for gffpandas: filename=gffpandas-1.2.0-py2.py3-none-any.whl size=6263 sha256=dd328a31c4f7c36c247a73bfb919dce5a6257d6778aa9301dfad8d7e325878c0\n",
            "  Stored in directory: /root/.cache/pip/wheels/a9/d0/2a/cb5ebf14451176d87e738547d58cb2ec39ebc46b19649133cc\n",
            "Successfully built gffpandas\n",
            "Installing collected packages: gffpandas\n",
            "Successfully installed gffpandas-1.2.0\n"
          ]
        }
      ]
    },
    {
      "cell_type": "code",
      "source": [
        "import gffpandas.gffpandas as gffpd\n",
        "import numpy as np\n",
        "import pandas as pd"
      ],
      "metadata": {
        "id": "waDbao1ygl0v"
      },
      "execution_count": 28,
      "outputs": []
    },
    {
      "cell_type": "code",
      "source": [
        "from google.colab import files\n",
        "files.upload()"
      ],
      "metadata": {
        "colab": {
          "resources": {
            "http://localhost:8080/nbextensions/google.colab/files.js": {
              "data": "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",
              "ok": true,
              "headers": [
                [
                  "content-type",
                  "application/javascript"
                ]
              ],
              "status": 200,
              "status_text": ""
            }
          },
          "base_uri": "https://localhost:8080/",
          "height": 113
        },
        "id": "rmOOQ6XYgleE",
        "outputId": "aa4c52ff-3883-4d67-f5b1-b439e136a30b"
      },
      "execution_count": 22,
      "outputs": [
        {
          "output_type": "display_data",
          "data": {
            "text/html": [
              "\n",
              "     <input type=\"file\" id=\"files-191a12d4-e25f-4545-8419-2a5f713a13cc\" name=\"files[]\" multiple disabled\n",
              "        style=\"border:none\" />\n",
              "     <output id=\"result-191a12d4-e25f-4545-8419-2a5f713a13cc\">\n",
              "      Upload widget is only available when the cell has been executed in the\n",
              "      current browser session. Please rerun this cell to enable.\n",
              "      </output>\n",
              "      <script src=\"/nbextensions/google.colab/files.js\"></script> "
            ],
            "text/plain": [
              "<IPython.core.display.HTML object>"
            ]
          },
          "metadata": {}
        },
        {
          "output_type": "stream",
          "name": "stdout",
          "text": [
            "Saving annotation.gff to annotation.gff\n"
          ]
        },
        {
          "output_type": "execute_result",
          "data": {
            "text/plain": [
              "{'annotation.gff': b\"##gff-version 3\\n#!gff-spec-version 1.21\\n#!processor NCBI annotwriter\\n#!genome-build ASM985889v3\\n#!genome-build-accession NCBI_Assembly:GCF_009858895.2\\n##sequence-region NC_045512.2 1 29903\\n##species https://www.ncbi.nlm.nih.gov/Taxonomy/Browser/wwwtax.cgi?id=2697049\\nNC_045512.2\\tRefSeq\\tregion\\t1\\t29903\\t.\\t+\\t.\\tID=NC_045512.2:1..29903;Dbxref=taxon:2697049;collection-date=Dec-2019;country=China;gb-acronym=SARS-CoV-2;gbkey=Src;genome=genomic;isolate=Wuhan-Hu-1;mol_type=genomic RNA;nat-host=Homo sapiens;old-name=Wuhan seafood market pneumonia virus\\nNC_045512.2\\tRefSeq\\tfive_prime_UTR\\t1\\t265\\t.\\t+\\t.\\tID=id-NC_045512.2:1..265;gbkey=5'UTR\\nNC_045512.2\\tRefSeq\\tgene\\t266\\t21555\\t.\\t+\\t.\\tID=gene-GU280_gp01;Dbxref=GeneID:43740578;Name=ORF1ab;gbkey=Gene;gene=ORF1ab;gene_biotype=protein_coding;locus_tag=GU280_gp01\\nNC_045512.2\\tRefSeq\\tCDS\\t266\\t13468\\t.\\t+\\t0\\tID=cds-YP_009724389.1;Parent=gene-GU280_gp01;Dbxref=Genbank:YP_009724389.1,GeneID:43740578;Name=YP_009724389.1;Note=pp1ab%3B translated by -1 ribosomal frameshift;exception=ribosomal slippage;gbkey=CDS;gene=ORF1ab;locus_tag=GU280_gp01;product=ORF1ab polyprotein;protein_id=YP_009724389.1\\nNC_045512.2\\tRefSeq\\tCDS\\t13468\\t21555\\t.\\t+\\t0\\tID=cds-YP_009724389.1;Parent=gene-GU280_gp01;Dbxref=Genbank:YP_009724389.1,GeneID:43740578;Name=YP_009724389.1;Note=pp1ab%3B translated by -1 ribosomal frameshift;exception=ribosomal slippage;gbkey=CDS;gene=ORF1ab;locus_tag=GU280_gp01;product=ORF1ab polyprotein;protein_id=YP_009724389.1\\nNC_045512.2\\tRefSeq\\tmature_protein_region_of_CDS\\t266\\t805\\t.\\t+\\t.\\tID=id-YP_009724389.1:1..180;Note=nsp1%3B produced by both pp1a and pp1ab;Parent=cds-YP_009724389.1;gbkey=Prot;product=leader protein;protein_id=YP_009725297.1\\nNC_045512.2\\tRefSeq\\tmature_protein_region_of_CDS\\t806\\t2719\\t.\\t+\\t.\\tID=id-YP_009724389.1:181..818;Note=produced by both pp1a and pp1ab;Parent=cds-YP_009724389.1;gbkey=Prot;product=nsp2;protein_id=YP_009725298.1\\nNC_045512.2\\tRefSeq\\tmature_protein_region_of_CDS\\t2720\\t8554\\t.\\t+\\t.\\tID=id-YP_009724389.1:819..2763;Note=former nsp1%3B conserved domains are: N-terminal acidic (Ac)%2C predicted phosphoesterase%2C papain-like proteinase%2C Y-domain%2C transmembrane domain 1 (TM1)%2C adenosine diphosphate-ribose 1''-phosphatase (ADRP)%3B produced by both pp1a and pp1ab;Parent=cds-YP_009724389.1;gbkey=Prot;product=nsp3;protein_id=YP_009725299.1\\nNC_045512.2\\tRefSeq\\tmature_protein_region_of_CDS\\t8555\\t10054\\t.\\t+\\t.\\tID=id-YP_009724389.1:2764..3263;Note=nsp4B_TM%3B contains transmembrane domain 2 (TM2)%3B produced by both pp1a and pp1ab;Parent=cds-YP_009724389.1;gbkey=Prot;product=nsp4;protein_id=YP_009725300.1\\nNC_045512.2\\tRefSeq\\tmature_protein_region_of_CDS\\t10055\\t10972\\t.\\t+\\t.\\tID=id-YP_009724389.1:3264..3569;Note=nsp5A_3CLpro and nsp5B_3CLpro%3B main proteinase (Mpro)%3B mediates cleavages downstream of nsp4. 3D structure of the SARSr-CoV homolog has been determined (Yang et al.%2C 2003)%3B produced by both pp1a and pp1ab;Parent=cds-YP_009724389.1;gbkey=Prot;product=3C-like proteinase;protein_id=YP_009725301.1\\nNC_045512.2\\tRefSeq\\tmature_protein_region_of_CDS\\t10973\\t11842\\t.\\t+\\t.\\tID=id-YP_009724389.1:3570..3859;Note=nsp6_TM%3B putative transmembrane domain%3B produced by both pp1a and pp1ab;Parent=cds-YP_009724389.1;gbkey=Prot;product=nsp6;protein_id=YP_009725302.1\\nNC_045512.2\\tRefSeq\\tmature_protein_region_of_CDS\\t11843\\t12091\\t.\\t+\\t.\\tID=id-YP_009724389.1:3860..3942;Note=produced by both pp1a and pp1ab;Parent=cds-YP_009724389.1;gbkey=Prot;product=nsp7;protein_id=YP_009725303.1\\nNC_045512.2\\tRefSeq\\tmature_protein_region_of_CDS\\t12092\\t12685\\t.\\t+\\t.\\tID=id-YP_009724389.1:3943..4140;Note=produced by both pp1a and pp1ab;Parent=cds-YP_009724389.1;gbkey=Prot;product=nsp8;protein_id=YP_009725304.1\\nNC_045512.2\\tRefSeq\\tmature_protein_region_of_CDS\\t12686\\t13024\\t.\\t+\\t.\\tID=id-YP_009724389.1:4141..4253;Note=ssRNA-binding protein%3B produced by both pp1a and pp1ab;Parent=cds-YP_009724389.1;gbkey=Prot;product=nsp9;protein_id=YP_009725305.1\\nNC_045512.2\\tRefSeq\\tmature_protein_region_of_CDS\\t13025\\t13441\\t.\\t+\\t.\\tID=id-YP_009724389.1:4254..4392;Note=nsp10_CysHis%3B formerly known as growth-factor-like protein (GFL)%3B produced by both pp1a and pp1ab;Parent=cds-YP_009724389.1;gbkey=Prot;product=nsp10;protein_id=YP_009725306.1\\nNC_045512.2\\tRefSeq\\tmature_protein_region_of_CDS\\t13442\\t13468\\t.\\t+\\t.\\tID=id-YP_009724389.1:4393..5324;Note=nsp12%3B NiRAN and RdRp%3B produced by pp1ab only;Parent=cds-YP_009724389.1;gbkey=Prot;product=RNA-dependent RNA polymerase;protein_id=YP_009725307.1\\nNC_045512.2\\tRefSeq\\tmature_protein_region_of_CDS\\t13468\\t16236\\t.\\t+\\t.\\tID=id-YP_009724389.1:4393..5324;Note=nsp12%3B NiRAN and RdRp%3B produced by pp1ab only;Parent=cds-YP_009724389.1;gbkey=Prot;product=RNA-dependent RNA polymerase;protein_id=YP_009725307.1\\nNC_045512.2\\tRefSeq\\tmature_protein_region_of_CDS\\t16237\\t18039\\t.\\t+\\t.\\tID=id-YP_009724389.1:5325..5925;Note=nsp13_ZBD%2C nsp13_TB%2C and nsp_HEL1core%3B zinc-binding domain (ZD)%2C NTPase/helicase domain (HEL)%2C RNA 5'-triphosphatase%3B produced by pp1ab only;Parent=cds-YP_009724389.1;gbkey=Prot;product=helicase;protein_id=YP_009725308.1\\nNC_045512.2\\tRefSeq\\tmature_protein_region_of_CDS\\t18040\\t19620\\t.\\t+\\t.\\tID=id-YP_009724389.1:5926..6452;Note=nsp14A2_ExoN and nsp14B_NMT%3B produced by pp1ab only;Parent=cds-YP_009724389.1;gbkey=Prot;product=3'-to-5' exonuclease;protein_id=YP_009725309.1\\nNC_045512.2\\tRefSeq\\tmature_protein_region_of_CDS\\t19621\\t20658\\t.\\t+\\t.\\tID=id-YP_009724389.1:6453..6798;Note=nsp15-A1 and nsp15B-NendoU%3B produced by pp1ab only;Parent=cds-YP_009724389.1;gbkey=Prot;product=endoRNAse;protein_id=YP_009725310.1\\nNC_045512.2\\tRefSeq\\tmature_protein_region_of_CDS\\t20659\\t21552\\t.\\t+\\t.\\tID=id-YP_009724389.1:6799..7096;Note=nsp16_OMT%3B 2'-o-MT%3B produced by pp1ab only;Parent=cds-YP_009724389.1;gbkey=Prot;product=2'-O-ribose methyltransferase;protein_id=YP_009725311.1\\nNC_045512.2\\tRefSeq\\tCDS\\t266\\t13483\\t.\\t+\\t0\\tID=cds-YP_009725295.1;Parent=gene-GU280_gp01;Dbxref=Genbank:YP_009725295.1,GeneID:43740578;Name=YP_009725295.1;Note=pp1a;gbkey=CDS;gene=ORF1ab;locus_tag=GU280_gp01;product=ORF1a polyprotein;protein_id=YP_009725295.1\\nNC_045512.2\\tRefSeq\\tmature_protein_region_of_CDS\\t266\\t805\\t.\\t+\\t.\\tID=id-YP_009725295.1:1..180;Note=nsp1%3B produced by both pp1a and pp1ab;Parent=cds-YP_009725295.1;gbkey=Prot;product=leader protein;protein_id=YP_009742608.1\\nNC_045512.2\\tRefSeq\\tmature_protein_region_of_CDS\\t806\\t2719\\t.\\t+\\t.\\tID=id-YP_009725295.1:181..818;Note=produced by both pp1a and pp1ab;Parent=cds-YP_009725295.1;gbkey=Prot;product=nsp2;protein_id=YP_009742609.1\\nNC_045512.2\\tRefSeq\\tmature_protein_region_of_CDS\\t2720\\t8554\\t.\\t+\\t.\\tID=id-YP_009725295.1:819..2763;Note=former nsp1%3B conserved domains are: N-terminal acidic (Ac)%2C predicted phosphoesterase%2C papain-like proteinase%2C Y-domain%2C transmembrane domain 1 (TM1)%2C adenosine diphosphate-ribose 1''-phosphatase (ADRP)%3B produced by both pp1a and pp1ab;Parent=cds-YP_009725295.1;gbkey=Prot;product=nsp3;protein_id=YP_009742610.1\\nNC_045512.2\\tRefSeq\\tmature_protein_region_of_CDS\\t8555\\t10054\\t.\\t+\\t.\\tID=id-YP_009725295.1:2764..3263;Note=nsp4B_TM%3B contains transmembrane domain 2 (TM2)%3B produced by both pp1a and pp1ab;Parent=cds-YP_009725295.1;gbkey=Prot;product=nsp4;protein_id=YP_009742611.1\\nNC_045512.2\\tRefSeq\\tmature_protein_region_of_CDS\\t10055\\t10972\\t.\\t+\\t.\\tID=id-YP_009725295.1:3264..3569;Note=nsp5A_3CLpro and nsp5B_3CLpro%3B main proteinase (Mpro)%3B mediates cleavages downstream of nsp4. 3D structure of the SARSr-CoV homolog has been determined (Yang et al.%2C 2003)%3B produced by both pp1a and pp1ab;Parent=cds-YP_009725295.1;gbkey=Prot;product=3C-like proteinase;protein_id=YP_009742612.1\\nNC_045512.2\\tRefSeq\\tmature_protein_region_of_CDS\\t10973\\t11842\\t.\\t+\\t.\\tID=id-YP_009725295.1:3570..3859;Note=nsp6_TM%3B putative transmembrane domain%3B produced by both pp1a and pp1ab;Parent=cds-YP_009725295.1;gbkey=Prot;product=nsp6;protein_id=YP_009742613.1\\nNC_045512.2\\tRefSeq\\tmature_protein_region_of_CDS\\t11843\\t12091\\t.\\t+\\t.\\tID=id-YP_009725295.1:3860..3942;Note=produced by both pp1a and pp1ab;Parent=cds-YP_009725295.1;gbkey=Prot;product=nsp7;protein_id=YP_009742614.1\\nNC_045512.2\\tRefSeq\\tmature_protein_region_of_CDS\\t12092\\t12685\\t.\\t+\\t.\\tID=id-YP_009725295.1:3943..4140;Note=produced by both pp1a and pp1ab;Parent=cds-YP_009725295.1;gbkey=Prot;product=nsp8;protein_id=YP_009742615.1\\nNC_045512.2\\tRefSeq\\tmature_protein_region_of_CDS\\t12686\\t13024\\t.\\t+\\t.\\tID=id-YP_009725295.1:4141..4253;Note=ssRNA-binding protein%3B produced by both pp1a and pp1ab;Parent=cds-YP_009725295.1;gbkey=Prot;product=nsp9;protein_id=YP_009742616.1\\nNC_045512.2\\tRefSeq\\tmature_protein_region_of_CDS\\t13025\\t13441\\t.\\t+\\t.\\tID=id-YP_009725295.1:4254..4392;Note=nsp10_CysHis%3B formerly known as growth-factor-like protein (GFL)%3B produced by both pp1a and pp1ab;Parent=cds-YP_009725295.1;gbkey=Prot;product=nsp10;protein_id=YP_009742617.1\\nNC_045512.2\\tRefSeq\\tmature_protein_region_of_CDS\\t13442\\t13480\\t.\\t+\\t.\\tID=id-YP_009725295.1:4393..4405;Note=produced by pp1a only;Parent=cds-YP_009725295.1;gbkey=Prot;product=nsp11;protein_id=YP_009725312.1\\nNC_045512.2\\tRefSeq\\tstem_loop\\t13476\\t13503\\t.\\t+\\t.\\tID=id-GU280_gp01;Dbxref=GeneID:43740578;function=Coronavirus frameshifting stimulation element stem-loop 1;gbkey=stem_loop;gene=ORF1ab;inference=COORDINATES: profile:Rfam-release-14.1:RF00507%2CInfernal:1.1.2;locus_tag=GU280_gp01\\nNC_045512.2\\tRefSeq\\tstem_loop\\t13488\\t13542\\t.\\t+\\t.\\tID=id-GU280_gp01-2;Dbxref=GeneID:43740578;function=Coronavirus frameshifting stimulation element stem-loop 2;gbkey=stem_loop;gene=ORF1ab;inference=COORDINATES: profile:Rfam-release-14.1:RF00507%2CInfernal:1.1.2;locus_tag=GU280_gp01\\nNC_045512.2\\tRefSeq\\tgene\\t21563\\t25384\\t.\\t+\\t.\\tID=gene-GU280_gp02;Dbxref=GeneID:43740568;Name=S;gbkey=Gene;gene=S;gene_biotype=protein_coding;gene_synonym=spike glycoprotein;locus_tag=GU280_gp02\\nNC_045512.2\\tRefSeq\\tCDS\\t21563\\t25384\\t.\\t+\\t0\\tID=cds-YP_009724390.1;Parent=gene-GU280_gp02;Dbxref=Genbank:YP_009724390.1,GeneID:43740568;Name=YP_009724390.1;Note=structural protein%3B spike protein;gbkey=CDS;gene=S;locus_tag=GU280_gp02;product=surface glycoprotein;protein_id=YP_009724390.1\\nNC_045512.2\\tRefSeq\\tgene\\t25393\\t26220\\t.\\t+\\t.\\tID=gene-GU280_gp03;Dbxref=GeneID:43740569;Name=ORF3a;gbkey=Gene;gene=ORF3a;gene_biotype=protein_coding;locus_tag=GU280_gp03\\nNC_045512.2\\tRefSeq\\tCDS\\t25393\\t26220\\t.\\t+\\t0\\tID=cds-YP_009724391.1;Parent=gene-GU280_gp03;Dbxref=Genbank:YP_009724391.1,GeneID:43740569;Name=YP_009724391.1;gbkey=CDS;gene=ORF3a;locus_tag=GU280_gp03;product=ORF3a protein;protein_id=YP_009724391.1\\nNC_045512.2\\tRefSeq\\tgene\\t26245\\t26472\\t.\\t+\\t.\\tID=gene-GU280_gp04;Dbxref=GeneID:43740570;Name=E;gbkey=Gene;gene=E;gene_biotype=protein_coding;locus_tag=GU280_gp04\\nNC_045512.2\\tRefSeq\\tCDS\\t26245\\t26472\\t.\\t+\\t0\\tID=cds-YP_009724392.1;Parent=gene-GU280_gp04;Dbxref=Genbank:YP_009724392.1,GeneID:43740570;Name=YP_009724392.1;Note=ORF4%3B structural protein%3B E protein;gbkey=CDS;gene=E;locus_tag=GU280_gp04;product=envelope protein;protein_id=YP_009724392.1\\nNC_045512.2\\tRefSeq\\tgene\\t26523\\t27191\\t.\\t+\\t.\\tID=gene-GU280_gp05;Dbxref=GeneID:43740571;Name=M;gbkey=Gene;gene=M;gene_biotype=protein_coding;locus_tag=GU280_gp05\\nNC_045512.2\\tRefSeq\\tCDS\\t26523\\t27191\\t.\\t+\\t0\\tID=cds-YP_009724393.1;Parent=gene-GU280_gp05;Dbxref=Genbank:YP_009724393.1,GeneID:43740571;Name=YP_009724393.1;Note=ORF5%3B structural protein;gbkey=CDS;gene=M;locus_tag=GU280_gp05;product=membrane glycoprotein;protein_id=YP_009724393.1\\nNC_045512.2\\tRefSeq\\tgene\\t27202\\t27387\\t.\\t+\\t.\\tID=gene-GU280_gp06;Dbxref=GeneID:43740572;Name=ORF6;gbkey=Gene;gene=ORF6;gene_biotype=protein_coding;locus_tag=GU280_gp06\\nNC_045512.2\\tRefSeq\\tCDS\\t27202\\t27387\\t.\\t+\\t0\\tID=cds-YP_009724394.1;Parent=gene-GU280_gp06;Dbxref=Genbank:YP_009724394.1,GeneID:43740572;Name=YP_009724394.1;gbkey=CDS;gene=ORF6;locus_tag=GU280_gp06;product=ORF6 protein;protein_id=YP_009724394.1\\nNC_045512.2\\tRefSeq\\tgene\\t27394\\t27759\\t.\\t+\\t.\\tID=gene-GU280_gp07;Dbxref=GeneID:43740573;Name=ORF7a;gbkey=Gene;gene=ORF7a;gene_biotype=protein_coding;locus_tag=GU280_gp07\\nNC_045512.2\\tRefSeq\\tCDS\\t27394\\t27759\\t.\\t+\\t0\\tID=cds-YP_009724395.1;Parent=gene-GU280_gp07;Dbxref=Genbank:YP_009724395.1,GeneID:43740573;Name=YP_009724395.1;gbkey=CDS;gene=ORF7a;locus_tag=GU280_gp07;product=ORF7a protein;protein_id=YP_009724395.1\\nNC_045512.2\\tRefSeq\\tgene\\t27756\\t27887\\t.\\t+\\t.\\tID=gene-GU280_gp08;Dbxref=GeneID:43740574;Name=ORF7b;gbkey=Gene;gene=ORF7b;gene_biotype=protein_coding;locus_tag=GU280_gp08\\nNC_045512.2\\tRefSeq\\tCDS\\t27756\\t27887\\t.\\t+\\t0\\tID=cds-YP_009725318.1;Parent=gene-GU280_gp08;Dbxref=Genbank:YP_009725318.1,GeneID:43740574;Name=YP_009725318.1;gbkey=CDS;gene=ORF7b;locus_tag=GU280_gp08;product=ORF7b;protein_id=YP_009725318.1\\nNC_045512.2\\tRefSeq\\tgene\\t27894\\t28259\\t.\\t+\\t.\\tID=gene-GU280_gp09;Dbxref=GeneID:43740577;Name=ORF8;gbkey=Gene;gene=ORF8;gene_biotype=protein_coding;locus_tag=GU280_gp09\\nNC_045512.2\\tRefSeq\\tCDS\\t27894\\t28259\\t.\\t+\\t0\\tID=cds-YP_009724396.1;Parent=gene-GU280_gp09;Dbxref=Genbank:YP_009724396.1,GeneID:43740577;Name=YP_009724396.1;gbkey=CDS;gene=ORF8;locus_tag=GU280_gp09;product=ORF8 protein;protein_id=YP_009724396.1\\nNC_045512.2\\tRefSeq\\tgene\\t28274\\t29533\\t.\\t+\\t.\\tID=gene-GU280_gp10;Dbxref=GeneID:43740575;Name=N;gbkey=Gene;gene=N;gene_biotype=protein_coding;locus_tag=GU280_gp10\\nNC_045512.2\\tRefSeq\\tCDS\\t28274\\t29533\\t.\\t+\\t0\\tID=cds-YP_009724397.2;Parent=gene-GU280_gp10;Dbxref=Genbank:YP_009724397.2,GeneID:43740575;Name=YP_009724397.2;Note=ORF9%3B structural protein;gbkey=CDS;gene=N;locus_tag=GU280_gp10;product=nucleocapsid phosphoprotein;protein_id=YP_009724397.2\\nNC_045512.2\\tRefSeq\\tgene\\t29558\\t29674\\t.\\t+\\t.\\tID=gene-GU280_gp11;Dbxref=GeneID:43740576;Name=ORF10;gbkey=Gene;gene=ORF10;gene_biotype=protein_coding;locus_tag=GU280_gp11\\nNC_045512.2\\tRefSeq\\tCDS\\t29558\\t29674\\t.\\t+\\t0\\tID=cds-YP_009725255.1;Parent=gene-GU280_gp11;Dbxref=Genbank:YP_009725255.1,GeneID:43740576;Name=YP_009725255.1;gbkey=CDS;gene=ORF10;locus_tag=GU280_gp11;product=ORF10 protein;protein_id=YP_009725255.1\\nNC_045512.2\\tRefSeq\\tstem_loop\\t29609\\t29644\\t.\\t+\\t.\\tID=id-GU280_gp11;Dbxref=GeneID:43740576;function=Coronavirus 3' UTR pseudoknot stem-loop 1;gbkey=stem_loop;gene=ORF10;inference=COORDINATES: profile::Rfam-release-14.1:RF00165%2CInfernal:1.1.2;locus_tag=GU280_gp11\\nNC_045512.2\\tRefSeq\\tstem_loop\\t29629\\t29657\\t.\\t+\\t.\\tID=id-GU280_gp11-2;Dbxref=GeneID:43740576;function=Coronavirus 3' UTR pseudoknot stem-loop 2;gbkey=stem_loop;gene=ORF10;inference=COORDINATES: profile::Rfam-release-14.1:RF00165%2CInfernal:1.1.2;locus_tag=GU280_gp11\\nNC_045512.2\\tRefSeq\\tthree_prime_UTR\\t29675\\t29903\\t.\\t+\\t.\\tID=id-NC_045512.2:29675..29903;gbkey=3'UTR\\nNC_045512.2\\tRefSeq\\tstem_loop\\t29728\\t29768\\t.\\t+\\t.\\tID=id-NC_045512.2:29728..29768;Note=basepair exception: alignment to the Rfam model implies coordinates 29740:29758 form a noncanonical C:T basepair%2C but the homologous positions form a highly conserved C:G basepair in other viruses%2C including SARS (NC_004718.3);function=Coronavirus 3' stem-loop II-like motif (s2m);gbkey=stem_loop;inference=COORDINATES: profile:Rfam-release-14.1:RF00164%2CInfernal:1.1.2\\n###\\n\"}"
            ]
          },
          "metadata": {},
          "execution_count": 22
        }
      ]
    },
    {
      "cell_type": "markdown",
      "source": [
        "1. считываем **gff** файл, фильтруем его, отбирая только данные имеющие type  = **gene**, переводим его в csv чтобы потом работать с ним как с датафреймом с помощью **pandas**\n",
        "2. создаем датафрейм **genes** из файла csv\n",
        "3. создаем новую колонку **length**, которая будет содержать длины всех генов"
      ],
      "metadata": {
        "id": "bRL4VsUltTEH"
      }
    },
    {
      "cell_type": "code",
      "source": [
        "ann = gffpd.read_gff3('annotation.gff')\n",
        "ann.filter_feature_of_type(['gene']).to_csv('genes.csv')\n",
        "genes = pd.read_csv('genes.csv', delimiter=',')\n",
        "genes['length'] = genes['end'] - genes['start'] + 1\n",
        "genes.head()"
      ],
      "metadata": {
        "colab": {
          "base_uri": "https://localhost:8080/",
          "height": 206
        },
        "id": "FjhxoN9YbtEU",
        "outputId": "74ae3067-290d-46e4-f163-f3be281c18a9"
      },
      "execution_count": 91,
      "outputs": [
        {
          "output_type": "execute_result",
          "data": {
            "text/html": [
              "\n",
              "  <div id=\"df-920ce0eb-300f-4b3a-b7d8-8b2bdc98e5ea\">\n",
              "    <div class=\"colab-df-container\">\n",
              "      <div>\n",
              "<style scoped>\n",
              "    .dataframe tbody tr th:only-of-type {\n",
              "        vertical-align: middle;\n",
              "    }\n",
              "\n",
              "    .dataframe tbody tr th {\n",
              "        vertical-align: top;\n",
              "    }\n",
              "\n",
              "    .dataframe thead th {\n",
              "        text-align: right;\n",
              "    }\n",
              "</style>\n",
              "<table border=\"1\" class=\"dataframe\">\n",
              "  <thead>\n",
              "    <tr style=\"text-align: right;\">\n",
              "      <th></th>\n",
              "      <th>seq_id</th>\n",
              "      <th>source</th>\n",
              "      <th>type</th>\n",
              "      <th>start</th>\n",
              "      <th>end</th>\n",
              "      <th>score</th>\n",
              "      <th>strand</th>\n",
              "      <th>phase</th>\n",
              "      <th>attributes</th>\n",
              "      <th>length</th>\n",
              "    </tr>\n",
              "  </thead>\n",
              "  <tbody>\n",
              "    <tr>\n",
              "      <th>0</th>\n",
              "      <td>NC_045512.2</td>\n",
              "      <td>RefSeq</td>\n",
              "      <td>gene</td>\n",
              "      <td>266</td>\n",
              "      <td>21555</td>\n",
              "      <td>.</td>\n",
              "      <td>+</td>\n",
              "      <td>.</td>\n",
              "      <td>ID=gene-GU280_gp01;Dbxref=GeneID:43740578;Name...</td>\n",
              "      <td>21290</td>\n",
              "    </tr>\n",
              "    <tr>\n",
              "      <th>1</th>\n",
              "      <td>NC_045512.2</td>\n",
              "      <td>RefSeq</td>\n",
              "      <td>gene</td>\n",
              "      <td>21563</td>\n",
              "      <td>25384</td>\n",
              "      <td>.</td>\n",
              "      <td>+</td>\n",
              "      <td>.</td>\n",
              "      <td>ID=gene-GU280_gp02;Dbxref=GeneID:43740568;Name...</td>\n",
              "      <td>3822</td>\n",
              "    </tr>\n",
              "    <tr>\n",
              "      <th>2</th>\n",
              "      <td>NC_045512.2</td>\n",
              "      <td>RefSeq</td>\n",
              "      <td>gene</td>\n",
              "      <td>25393</td>\n",
              "      <td>26220</td>\n",
              "      <td>.</td>\n",
              "      <td>+</td>\n",
              "      <td>.</td>\n",
              "      <td>ID=gene-GU280_gp03;Dbxref=GeneID:43740569;Name...</td>\n",
              "      <td>828</td>\n",
              "    </tr>\n",
              "    <tr>\n",
              "      <th>3</th>\n",
              "      <td>NC_045512.2</td>\n",
              "      <td>RefSeq</td>\n",
              "      <td>gene</td>\n",
              "      <td>26245</td>\n",
              "      <td>26472</td>\n",
              "      <td>.</td>\n",
              "      <td>+</td>\n",
              "      <td>.</td>\n",
              "      <td>ID=gene-GU280_gp04;Dbxref=GeneID:43740570;Name...</td>\n",
              "      <td>228</td>\n",
              "    </tr>\n",
              "    <tr>\n",
              "      <th>4</th>\n",
              "      <td>NC_045512.2</td>\n",
              "      <td>RefSeq</td>\n",
              "      <td>gene</td>\n",
              "      <td>26523</td>\n",
              "      <td>27191</td>\n",
              "      <td>.</td>\n",
              "      <td>+</td>\n",
              "      <td>.</td>\n",
              "      <td>ID=gene-GU280_gp05;Dbxref=GeneID:43740571;Name...</td>\n",
              "      <td>669</td>\n",
              "    </tr>\n",
              "  </tbody>\n",
              "</table>\n",
              "</div>\n",
              "      <button class=\"colab-df-convert\" onclick=\"convertToInteractive('df-920ce0eb-300f-4b3a-b7d8-8b2bdc98e5ea')\"\n",
              "              title=\"Convert this dataframe to an interactive table.\"\n",
              "              style=\"display:none;\">\n",
              "        \n",
              "  <svg xmlns=\"http://www.w3.org/2000/svg\" height=\"24px\"viewBox=\"0 0 24 24\"\n",
              "       width=\"24px\">\n",
              "    <path d=\"M0 0h24v24H0V0z\" fill=\"none\"/>\n",
              "    <path d=\"M18.56 5.44l.94 2.06.94-2.06 2.06-.94-2.06-.94-.94-2.06-.94 2.06-2.06.94zm-11 1L8.5 8.5l.94-2.06 2.06-.94-2.06-.94L8.5 2.5l-.94 2.06-2.06.94zm10 10l.94 2.06.94-2.06 2.06-.94-2.06-.94-.94-2.06-.94 2.06-2.06.94z\"/><path d=\"M17.41 7.96l-1.37-1.37c-.4-.4-.92-.59-1.43-.59-.52 0-1.04.2-1.43.59L10.3 9.45l-7.72 7.72c-.78.78-.78 2.05 0 2.83L4 21.41c.39.39.9.59 1.41.59.51 0 1.02-.2 1.41-.59l7.78-7.78 2.81-2.81c.8-.78.8-2.07 0-2.86zM5.41 20L4 18.59l7.72-7.72 1.47 1.35L5.41 20z\"/>\n",
              "  </svg>\n",
              "      </button>\n",
              "      \n",
              "  <style>\n",
              "    .colab-df-container {\n",
              "      display:flex;\n",
              "      flex-wrap:wrap;\n",
              "      gap: 12px;\n",
              "    }\n",
              "\n",
              "    .colab-df-convert {\n",
              "      background-color: #E8F0FE;\n",
              "      border: none;\n",
              "      border-radius: 50%;\n",
              "      cursor: pointer;\n",
              "      display: none;\n",
              "      fill: #1967D2;\n",
              "      height: 32px;\n",
              "      padding: 0 0 0 0;\n",
              "      width: 32px;\n",
              "    }\n",
              "\n",
              "    .colab-df-convert:hover {\n",
              "      background-color: #E2EBFA;\n",
              "      box-shadow: 0px 1px 2px rgba(60, 64, 67, 0.3), 0px 1px 3px 1px rgba(60, 64, 67, 0.15);\n",
              "      fill: #174EA6;\n",
              "    }\n",
              "\n",
              "    [theme=dark] .colab-df-convert {\n",
              "      background-color: #3B4455;\n",
              "      fill: #D2E3FC;\n",
              "    }\n",
              "\n",
              "    [theme=dark] .colab-df-convert:hover {\n",
              "      background-color: #434B5C;\n",
              "      box-shadow: 0px 1px 3px 1px rgba(0, 0, 0, 0.15);\n",
              "      filter: drop-shadow(0px 1px 2px rgba(0, 0, 0, 0.3));\n",
              "      fill: #FFFFFF;\n",
              "    }\n",
              "  </style>\n",
              "\n",
              "      <script>\n",
              "        const buttonEl =\n",
              "          document.querySelector('#df-920ce0eb-300f-4b3a-b7d8-8b2bdc98e5ea button.colab-df-convert');\n",
              "        buttonEl.style.display =\n",
              "          google.colab.kernel.accessAllowed ? 'block' : 'none';\n",
              "\n",
              "        async function convertToInteractive(key) {\n",
              "          const element = document.querySelector('#df-920ce0eb-300f-4b3a-b7d8-8b2bdc98e5ea');\n",
              "          const dataTable =\n",
              "            await google.colab.kernel.invokeFunction('convertToInteractive',\n",
              "                                                     [key], {});\n",
              "          if (!dataTable) return;\n",
              "\n",
              "          const docLinkHtml = 'Like what you see? Visit the ' +\n",
              "            '<a target=\"_blank\" href=https://colab.research.google.com/notebooks/data_table.ipynb>data table notebook</a>'\n",
              "            + ' to learn more about interactive tables.';\n",
              "          element.innerHTML = '';\n",
              "          dataTable['output_type'] = 'display_data';\n",
              "          await google.colab.output.renderOutput(dataTable, element);\n",
              "          const docLink = document.createElement('div');\n",
              "          docLink.innerHTML = docLinkHtml;\n",
              "          element.appendChild(docLink);\n",
              "        }\n",
              "      </script>\n",
              "    </div>\n",
              "  </div>\n",
              "  "
            ],
            "text/plain": [
              "        seq_id  source  type  start    end score strand phase  \\\n",
              "0  NC_045512.2  RefSeq  gene    266  21555     .      +     .   \n",
              "1  NC_045512.2  RefSeq  gene  21563  25384     .      +     .   \n",
              "2  NC_045512.2  RefSeq  gene  25393  26220     .      +     .   \n",
              "3  NC_045512.2  RefSeq  gene  26245  26472     .      +     .   \n",
              "4  NC_045512.2  RefSeq  gene  26523  27191     .      +     .   \n",
              "\n",
              "                                          attributes  length  \n",
              "0  ID=gene-GU280_gp01;Dbxref=GeneID:43740578;Name...   21290  \n",
              "1  ID=gene-GU280_gp02;Dbxref=GeneID:43740568;Name...    3822  \n",
              "2  ID=gene-GU280_gp03;Dbxref=GeneID:43740569;Name...     828  \n",
              "3  ID=gene-GU280_gp04;Dbxref=GeneID:43740570;Name...     228  \n",
              "4  ID=gene-GU280_gp05;Dbxref=GeneID:43740571;Name...     669  "
            ]
          },
          "metadata": {},
          "execution_count": 91
        }
      ]
    },
    {
      "cell_type": "markdown",
      "source": [
        "тут можно закончить, но мне не нравится колонка attributes, хотелось бы иметь нормальный датафрейм, а не это\n",
        "\n",
        "Посмотрим как выглядит **attributes**"
      ],
      "metadata": {
        "id": "rkXSEZ-BvhGj"
      }
    },
    {
      "cell_type": "code",
      "source": [
        "print(genes['attributes'][0])"
      ],
      "metadata": {
        "colab": {
          "base_uri": "https://localhost:8080/"
        },
        "id": "m_63goPUlYs9",
        "outputId": "de562976-57dd-4dd3-aac8-3963936ee199"
      },
      "execution_count": 81,
      "outputs": [
        {
          "output_type": "stream",
          "name": "stdout",
          "text": [
            "ID=gene-GU280_gp01;Dbxref=GeneID:43740578;Name=ORF1ab;gbkey=Gene;gene=ORF1ab;gene_biotype=protein_coding;locus_tag=GU280_gp01\n"
          ]
        }
      ]
    },
    {
      "cell_type": "markdown",
      "source": [
        "Понятно, что в исходном csv файле просто было два разделителя (; и ,) и можно было бы просто заменить один на другой (; на ,) и проблема была бы решена, но я не знаю как это сделать, поэтому пришлось идти окольными путями \n",
        "\n",
        "Вобщем я решил просто сделать из колонки **genes['attributes']** датафрейм и затем присоединить его к исходному"
      ],
      "metadata": {
        "id": "hsuQ5ydgv2pX"
      }
    },
    {
      "cell_type": "code",
      "source": [
        "att = pd.DataFrame([[j[j.index('=') + 1:] for j in i.split(';')] for i in genes['attributes'].tolist()], \n",
        "                   columns = ['ID', 'GeneID', 'Name', 'gbkey', 'gene', 'gene_biotype', 'locus_tag', 'None'])\n",
        "att"
      ],
      "metadata": {
        "colab": {
          "base_uri": "https://localhost:8080/",
          "height": 394
        },
        "id": "PrdpgWTFiR2J",
        "outputId": "92370bdb-284f-49e6-c334-e783f38d7f9d"
      },
      "execution_count": 92,
      "outputs": [
        {
          "output_type": "execute_result",
          "data": {
            "text/html": [
              "\n",
              "  <div id=\"df-f8efb895-ce89-426b-90a8-5d16f390eb0b\">\n",
              "    <div class=\"colab-df-container\">\n",
              "      <div>\n",
              "<style scoped>\n",
              "    .dataframe tbody tr th:only-of-type {\n",
              "        vertical-align: middle;\n",
              "    }\n",
              "\n",
              "    .dataframe tbody tr th {\n",
              "        vertical-align: top;\n",
              "    }\n",
              "\n",
              "    .dataframe thead th {\n",
              "        text-align: right;\n",
              "    }\n",
              "</style>\n",
              "<table border=\"1\" class=\"dataframe\">\n",
              "  <thead>\n",
              "    <tr style=\"text-align: right;\">\n",
              "      <th></th>\n",
              "      <th>ID</th>\n",
              "      <th>GeneID</th>\n",
              "      <th>Name</th>\n",
              "      <th>gbkey</th>\n",
              "      <th>gene</th>\n",
              "      <th>gene_biotype</th>\n",
              "      <th>locus_tag</th>\n",
              "      <th>None</th>\n",
              "    </tr>\n",
              "  </thead>\n",
              "  <tbody>\n",
              "    <tr>\n",
              "      <th>0</th>\n",
              "      <td>gene-GU280_gp01</td>\n",
              "      <td>GeneID:43740578</td>\n",
              "      <td>ORF1ab</td>\n",
              "      <td>Gene</td>\n",
              "      <td>ORF1ab</td>\n",
              "      <td>protein_coding</td>\n",
              "      <td>GU280_gp01</td>\n",
              "      <td>None</td>\n",
              "    </tr>\n",
              "    <tr>\n",
              "      <th>1</th>\n",
              "      <td>gene-GU280_gp02</td>\n",
              "      <td>GeneID:43740568</td>\n",
              "      <td>S</td>\n",
              "      <td>Gene</td>\n",
              "      <td>S</td>\n",
              "      <td>protein_coding</td>\n",
              "      <td>spike glycoprotein</td>\n",
              "      <td>GU280_gp02</td>\n",
              "    </tr>\n",
              "    <tr>\n",
              "      <th>2</th>\n",
              "      <td>gene-GU280_gp03</td>\n",
              "      <td>GeneID:43740569</td>\n",
              "      <td>ORF3a</td>\n",
              "      <td>Gene</td>\n",
              "      <td>ORF3a</td>\n",
              "      <td>protein_coding</td>\n",
              "      <td>GU280_gp03</td>\n",
              "      <td>None</td>\n",
              "    </tr>\n",
              "    <tr>\n",
              "      <th>3</th>\n",
              "      <td>gene-GU280_gp04</td>\n",
              "      <td>GeneID:43740570</td>\n",
              "      <td>E</td>\n",
              "      <td>Gene</td>\n",
              "      <td>E</td>\n",
              "      <td>protein_coding</td>\n",
              "      <td>GU280_gp04</td>\n",
              "      <td>None</td>\n",
              "    </tr>\n",
              "    <tr>\n",
              "      <th>4</th>\n",
              "      <td>gene-GU280_gp05</td>\n",
              "      <td>GeneID:43740571</td>\n",
              "      <td>M</td>\n",
              "      <td>Gene</td>\n",
              "      <td>M</td>\n",
              "      <td>protein_coding</td>\n",
              "      <td>GU280_gp05</td>\n",
              "      <td>None</td>\n",
              "    </tr>\n",
              "    <tr>\n",
              "      <th>5</th>\n",
              "      <td>gene-GU280_gp06</td>\n",
              "      <td>GeneID:43740572</td>\n",
              "      <td>ORF6</td>\n",
              "      <td>Gene</td>\n",
              "      <td>ORF6</td>\n",
              "      <td>protein_coding</td>\n",
              "      <td>GU280_gp06</td>\n",
              "      <td>None</td>\n",
              "    </tr>\n",
              "    <tr>\n",
              "      <th>6</th>\n",
              "      <td>gene-GU280_gp07</td>\n",
              "      <td>GeneID:43740573</td>\n",
              "      <td>ORF7a</td>\n",
              "      <td>Gene</td>\n",
              "      <td>ORF7a</td>\n",
              "      <td>protein_coding</td>\n",
              "      <td>GU280_gp07</td>\n",
              "      <td>None</td>\n",
              "    </tr>\n",
              "    <tr>\n",
              "      <th>7</th>\n",
              "      <td>gene-GU280_gp08</td>\n",
              "      <td>GeneID:43740574</td>\n",
              "      <td>ORF7b</td>\n",
              "      <td>Gene</td>\n",
              "      <td>ORF7b</td>\n",
              "      <td>protein_coding</td>\n",
              "      <td>GU280_gp08</td>\n",
              "      <td>None</td>\n",
              "    </tr>\n",
              "    <tr>\n",
              "      <th>8</th>\n",
              "      <td>gene-GU280_gp09</td>\n",
              "      <td>GeneID:43740577</td>\n",
              "      <td>ORF8</td>\n",
              "      <td>Gene</td>\n",
              "      <td>ORF8</td>\n",
              "      <td>protein_coding</td>\n",
              "      <td>GU280_gp09</td>\n",
              "      <td>None</td>\n",
              "    </tr>\n",
              "    <tr>\n",
              "      <th>9</th>\n",
              "      <td>gene-GU280_gp10</td>\n",
              "      <td>GeneID:43740575</td>\n",
              "      <td>N</td>\n",
              "      <td>Gene</td>\n",
              "      <td>N</td>\n",
              "      <td>protein_coding</td>\n",
              "      <td>GU280_gp10</td>\n",
              "      <td>None</td>\n",
              "    </tr>\n",
              "    <tr>\n",
              "      <th>10</th>\n",
              "      <td>gene-GU280_gp11</td>\n",
              "      <td>GeneID:43740576</td>\n",
              "      <td>ORF10</td>\n",
              "      <td>Gene</td>\n",
              "      <td>ORF10</td>\n",
              "      <td>protein_coding</td>\n",
              "      <td>GU280_gp11</td>\n",
              "      <td>None</td>\n",
              "    </tr>\n",
              "  </tbody>\n",
              "</table>\n",
              "</div>\n",
              "      <button class=\"colab-df-convert\" onclick=\"convertToInteractive('df-f8efb895-ce89-426b-90a8-5d16f390eb0b')\"\n",
              "              title=\"Convert this dataframe to an interactive table.\"\n",
              "              style=\"display:none;\">\n",
              "        \n",
              "  <svg xmlns=\"http://www.w3.org/2000/svg\" height=\"24px\"viewBox=\"0 0 24 24\"\n",
              "       width=\"24px\">\n",
              "    <path d=\"M0 0h24v24H0V0z\" fill=\"none\"/>\n",
              "    <path d=\"M18.56 5.44l.94 2.06.94-2.06 2.06-.94-2.06-.94-.94-2.06-.94 2.06-2.06.94zm-11 1L8.5 8.5l.94-2.06 2.06-.94-2.06-.94L8.5 2.5l-.94 2.06-2.06.94zm10 10l.94 2.06.94-2.06 2.06-.94-2.06-.94-.94-2.06-.94 2.06-2.06.94z\"/><path d=\"M17.41 7.96l-1.37-1.37c-.4-.4-.92-.59-1.43-.59-.52 0-1.04.2-1.43.59L10.3 9.45l-7.72 7.72c-.78.78-.78 2.05 0 2.83L4 21.41c.39.39.9.59 1.41.59.51 0 1.02-.2 1.41-.59l7.78-7.78 2.81-2.81c.8-.78.8-2.07 0-2.86zM5.41 20L4 18.59l7.72-7.72 1.47 1.35L5.41 20z\"/>\n",
              "  </svg>\n",
              "      </button>\n",
              "      \n",
              "  <style>\n",
              "    .colab-df-container {\n",
              "      display:flex;\n",
              "      flex-wrap:wrap;\n",
              "      gap: 12px;\n",
              "    }\n",
              "\n",
              "    .colab-df-convert {\n",
              "      background-color: #E8F0FE;\n",
              "      border: none;\n",
              "      border-radius: 50%;\n",
              "      cursor: pointer;\n",
              "      display: none;\n",
              "      fill: #1967D2;\n",
              "      height: 32px;\n",
              "      padding: 0 0 0 0;\n",
              "      width: 32px;\n",
              "    }\n",
              "\n",
              "    .colab-df-convert:hover {\n",
              "      background-color: #E2EBFA;\n",
              "      box-shadow: 0px 1px 2px rgba(60, 64, 67, 0.3), 0px 1px 3px 1px rgba(60, 64, 67, 0.15);\n",
              "      fill: #174EA6;\n",
              "    }\n",
              "\n",
              "    [theme=dark] .colab-df-convert {\n",
              "      background-color: #3B4455;\n",
              "      fill: #D2E3FC;\n",
              "    }\n",
              "\n",
              "    [theme=dark] .colab-df-convert:hover {\n",
              "      background-color: #434B5C;\n",
              "      box-shadow: 0px 1px 3px 1px rgba(0, 0, 0, 0.15);\n",
              "      filter: drop-shadow(0px 1px 2px rgba(0, 0, 0, 0.3));\n",
              "      fill: #FFFFFF;\n",
              "    }\n",
              "  </style>\n",
              "\n",
              "      <script>\n",
              "        const buttonEl =\n",
              "          document.querySelector('#df-f8efb895-ce89-426b-90a8-5d16f390eb0b button.colab-df-convert');\n",
              "        buttonEl.style.display =\n",
              "          google.colab.kernel.accessAllowed ? 'block' : 'none';\n",
              "\n",
              "        async function convertToInteractive(key) {\n",
              "          const element = document.querySelector('#df-f8efb895-ce89-426b-90a8-5d16f390eb0b');\n",
              "          const dataTable =\n",
              "            await google.colab.kernel.invokeFunction('convertToInteractive',\n",
              "                                                     [key], {});\n",
              "          if (!dataTable) return;\n",
              "\n",
              "          const docLinkHtml = 'Like what you see? Visit the ' +\n",
              "            '<a target=\"_blank\" href=https://colab.research.google.com/notebooks/data_table.ipynb>data table notebook</a>'\n",
              "            + ' to learn more about interactive tables.';\n",
              "          element.innerHTML = '';\n",
              "          dataTable['output_type'] = 'display_data';\n",
              "          await google.colab.output.renderOutput(dataTable, element);\n",
              "          const docLink = document.createElement('div');\n",
              "          docLink.innerHTML = docLinkHtml;\n",
              "          element.appendChild(docLink);\n",
              "        }\n",
              "      </script>\n",
              "    </div>\n",
              "  </div>\n",
              "  "
            ],
            "text/plain": [
              "                 ID           GeneID    Name gbkey    gene    gene_biotype  \\\n",
              "0   gene-GU280_gp01  GeneID:43740578  ORF1ab  Gene  ORF1ab  protein_coding   \n",
              "1   gene-GU280_gp02  GeneID:43740568       S  Gene       S  protein_coding   \n",
              "2   gene-GU280_gp03  GeneID:43740569   ORF3a  Gene   ORF3a  protein_coding   \n",
              "3   gene-GU280_gp04  GeneID:43740570       E  Gene       E  protein_coding   \n",
              "4   gene-GU280_gp05  GeneID:43740571       M  Gene       M  protein_coding   \n",
              "5   gene-GU280_gp06  GeneID:43740572    ORF6  Gene    ORF6  protein_coding   \n",
              "6   gene-GU280_gp07  GeneID:43740573   ORF7a  Gene   ORF7a  protein_coding   \n",
              "7   gene-GU280_gp08  GeneID:43740574   ORF7b  Gene   ORF7b  protein_coding   \n",
              "8   gene-GU280_gp09  GeneID:43740577    ORF8  Gene    ORF8  protein_coding   \n",
              "9   gene-GU280_gp10  GeneID:43740575       N  Gene       N  protein_coding   \n",
              "10  gene-GU280_gp11  GeneID:43740576   ORF10  Gene   ORF10  protein_coding   \n",
              "\n",
              "             locus_tag        None  \n",
              "0           GU280_gp01        None  \n",
              "1   spike glycoprotein  GU280_gp02  \n",
              "2           GU280_gp03        None  \n",
              "3           GU280_gp04        None  \n",
              "4           GU280_gp05        None  \n",
              "5           GU280_gp06        None  \n",
              "6           GU280_gp07        None  \n",
              "7           GU280_gp08        None  \n",
              "8           GU280_gp09        None  \n",
              "9           GU280_gp10        None  \n",
              "10          GU280_gp11        None  "
            ]
          },
          "metadata": {},
          "execution_count": 92
        }
      ]
    },
    {
      "cell_type": "markdown",
      "source": [
        "Раз мы получили из колонки датафрейм, то исходная колонка нам уже не нужна, можем удалить ее"
      ],
      "metadata": {
        "id": "6e_g4QiB0sud"
      }
    },
    {
      "cell_type": "code",
      "source": [
        "genes = genes.drop(['attributes'], axis = 1)"
      ],
      "metadata": {
        "id": "OAWJ6zBjkcap"
      },
      "execution_count": 93,
      "outputs": []
    },
    {
      "cell_type": "markdown",
      "source": [
        "Наконец соединим два датафрейма в один"
      ],
      "metadata": {
        "id": "z1Waljhb013G"
      }
    },
    {
      "cell_type": "code",
      "source": [
        "pd.concat([genes, att], axis = 1)"
      ],
      "metadata": {
        "colab": {
          "base_uri": "https://localhost:8080/",
          "height": 394
        },
        "id": "VgqxBAV0mCkt",
        "outputId": "6a491aa5-b01f-44e0-a326-1cb414116f32"
      },
      "execution_count": 94,
      "outputs": [
        {
          "output_type": "execute_result",
          "data": {
            "text/html": [
              "\n",
              "  <div id=\"df-3ce815b1-e68d-4917-a78f-ef1c88c01516\">\n",
              "    <div class=\"colab-df-container\">\n",
              "      <div>\n",
              "<style scoped>\n",
              "    .dataframe tbody tr th:only-of-type {\n",
              "        vertical-align: middle;\n",
              "    }\n",
              "\n",
              "    .dataframe tbody tr th {\n",
              "        vertical-align: top;\n",
              "    }\n",
              "\n",
              "    .dataframe thead th {\n",
              "        text-align: right;\n",
              "    }\n",
              "</style>\n",
              "<table border=\"1\" class=\"dataframe\">\n",
              "  <thead>\n",
              "    <tr style=\"text-align: right;\">\n",
              "      <th></th>\n",
              "      <th>seq_id</th>\n",
              "      <th>source</th>\n",
              "      <th>type</th>\n",
              "      <th>start</th>\n",
              "      <th>end</th>\n",
              "      <th>score</th>\n",
              "      <th>strand</th>\n",
              "      <th>phase</th>\n",
              "      <th>length</th>\n",
              "      <th>ID</th>\n",
              "      <th>GeneID</th>\n",
              "      <th>Name</th>\n",
              "      <th>gbkey</th>\n",
              "      <th>gene</th>\n",
              "      <th>gene_biotype</th>\n",
              "      <th>locus_tag</th>\n",
              "      <th>None</th>\n",
              "    </tr>\n",
              "  </thead>\n",
              "  <tbody>\n",
              "    <tr>\n",
              "      <th>0</th>\n",
              "      <td>NC_045512.2</td>\n",
              "      <td>RefSeq</td>\n",
              "      <td>gene</td>\n",
              "      <td>266</td>\n",
              "      <td>21555</td>\n",
              "      <td>.</td>\n",
              "      <td>+</td>\n",
              "      <td>.</td>\n",
              "      <td>21290</td>\n",
              "      <td>gene-GU280_gp01</td>\n",
              "      <td>GeneID:43740578</td>\n",
              "      <td>ORF1ab</td>\n",
              "      <td>Gene</td>\n",
              "      <td>ORF1ab</td>\n",
              "      <td>protein_coding</td>\n",
              "      <td>GU280_gp01</td>\n",
              "      <td>None</td>\n",
              "    </tr>\n",
              "    <tr>\n",
              "      <th>1</th>\n",
              "      <td>NC_045512.2</td>\n",
              "      <td>RefSeq</td>\n",
              "      <td>gene</td>\n",
              "      <td>21563</td>\n",
              "      <td>25384</td>\n",
              "      <td>.</td>\n",
              "      <td>+</td>\n",
              "      <td>.</td>\n",
              "      <td>3822</td>\n",
              "      <td>gene-GU280_gp02</td>\n",
              "      <td>GeneID:43740568</td>\n",
              "      <td>S</td>\n",
              "      <td>Gene</td>\n",
              "      <td>S</td>\n",
              "      <td>protein_coding</td>\n",
              "      <td>spike glycoprotein</td>\n",
              "      <td>GU280_gp02</td>\n",
              "    </tr>\n",
              "    <tr>\n",
              "      <th>2</th>\n",
              "      <td>NC_045512.2</td>\n",
              "      <td>RefSeq</td>\n",
              "      <td>gene</td>\n",
              "      <td>25393</td>\n",
              "      <td>26220</td>\n",
              "      <td>.</td>\n",
              "      <td>+</td>\n",
              "      <td>.</td>\n",
              "      <td>828</td>\n",
              "      <td>gene-GU280_gp03</td>\n",
              "      <td>GeneID:43740569</td>\n",
              "      <td>ORF3a</td>\n",
              "      <td>Gene</td>\n",
              "      <td>ORF3a</td>\n",
              "      <td>protein_coding</td>\n",
              "      <td>GU280_gp03</td>\n",
              "      <td>None</td>\n",
              "    </tr>\n",
              "    <tr>\n",
              "      <th>3</th>\n",
              "      <td>NC_045512.2</td>\n",
              "      <td>RefSeq</td>\n",
              "      <td>gene</td>\n",
              "      <td>26245</td>\n",
              "      <td>26472</td>\n",
              "      <td>.</td>\n",
              "      <td>+</td>\n",
              "      <td>.</td>\n",
              "      <td>228</td>\n",
              "      <td>gene-GU280_gp04</td>\n",
              "      <td>GeneID:43740570</td>\n",
              "      <td>E</td>\n",
              "      <td>Gene</td>\n",
              "      <td>E</td>\n",
              "      <td>protein_coding</td>\n",
              "      <td>GU280_gp04</td>\n",
              "      <td>None</td>\n",
              "    </tr>\n",
              "    <tr>\n",
              "      <th>4</th>\n",
              "      <td>NC_045512.2</td>\n",
              "      <td>RefSeq</td>\n",
              "      <td>gene</td>\n",
              "      <td>26523</td>\n",
              "      <td>27191</td>\n",
              "      <td>.</td>\n",
              "      <td>+</td>\n",
              "      <td>.</td>\n",
              "      <td>669</td>\n",
              "      <td>gene-GU280_gp05</td>\n",
              "      <td>GeneID:43740571</td>\n",
              "      <td>M</td>\n",
              "      <td>Gene</td>\n",
              "      <td>M</td>\n",
              "      <td>protein_coding</td>\n",
              "      <td>GU280_gp05</td>\n",
              "      <td>None</td>\n",
              "    </tr>\n",
              "    <tr>\n",
              "      <th>5</th>\n",
              "      <td>NC_045512.2</td>\n",
              "      <td>RefSeq</td>\n",
              "      <td>gene</td>\n",
              "      <td>27202</td>\n",
              "      <td>27387</td>\n",
              "      <td>.</td>\n",
              "      <td>+</td>\n",
              "      <td>.</td>\n",
              "      <td>186</td>\n",
              "      <td>gene-GU280_gp06</td>\n",
              "      <td>GeneID:43740572</td>\n",
              "      <td>ORF6</td>\n",
              "      <td>Gene</td>\n",
              "      <td>ORF6</td>\n",
              "      <td>protein_coding</td>\n",
              "      <td>GU280_gp06</td>\n",
              "      <td>None</td>\n",
              "    </tr>\n",
              "    <tr>\n",
              "      <th>6</th>\n",
              "      <td>NC_045512.2</td>\n",
              "      <td>RefSeq</td>\n",
              "      <td>gene</td>\n",
              "      <td>27394</td>\n",
              "      <td>27759</td>\n",
              "      <td>.</td>\n",
              "      <td>+</td>\n",
              "      <td>.</td>\n",
              "      <td>366</td>\n",
              "      <td>gene-GU280_gp07</td>\n",
              "      <td>GeneID:43740573</td>\n",
              "      <td>ORF7a</td>\n",
              "      <td>Gene</td>\n",
              "      <td>ORF7a</td>\n",
              "      <td>protein_coding</td>\n",
              "      <td>GU280_gp07</td>\n",
              "      <td>None</td>\n",
              "    </tr>\n",
              "    <tr>\n",
              "      <th>7</th>\n",
              "      <td>NC_045512.2</td>\n",
              "      <td>RefSeq</td>\n",
              "      <td>gene</td>\n",
              "      <td>27756</td>\n",
              "      <td>27887</td>\n",
              "      <td>.</td>\n",
              "      <td>+</td>\n",
              "      <td>.</td>\n",
              "      <td>132</td>\n",
              "      <td>gene-GU280_gp08</td>\n",
              "      <td>GeneID:43740574</td>\n",
              "      <td>ORF7b</td>\n",
              "      <td>Gene</td>\n",
              "      <td>ORF7b</td>\n",
              "      <td>protein_coding</td>\n",
              "      <td>GU280_gp08</td>\n",
              "      <td>None</td>\n",
              "    </tr>\n",
              "    <tr>\n",
              "      <th>8</th>\n",
              "      <td>NC_045512.2</td>\n",
              "      <td>RefSeq</td>\n",
              "      <td>gene</td>\n",
              "      <td>27894</td>\n",
              "      <td>28259</td>\n",
              "      <td>.</td>\n",
              "      <td>+</td>\n",
              "      <td>.</td>\n",
              "      <td>366</td>\n",
              "      <td>gene-GU280_gp09</td>\n",
              "      <td>GeneID:43740577</td>\n",
              "      <td>ORF8</td>\n",
              "      <td>Gene</td>\n",
              "      <td>ORF8</td>\n",
              "      <td>protein_coding</td>\n",
              "      <td>GU280_gp09</td>\n",
              "      <td>None</td>\n",
              "    </tr>\n",
              "    <tr>\n",
              "      <th>9</th>\n",
              "      <td>NC_045512.2</td>\n",
              "      <td>RefSeq</td>\n",
              "      <td>gene</td>\n",
              "      <td>28274</td>\n",
              "      <td>29533</td>\n",
              "      <td>.</td>\n",
              "      <td>+</td>\n",
              "      <td>.</td>\n",
              "      <td>1260</td>\n",
              "      <td>gene-GU280_gp10</td>\n",
              "      <td>GeneID:43740575</td>\n",
              "      <td>N</td>\n",
              "      <td>Gene</td>\n",
              "      <td>N</td>\n",
              "      <td>protein_coding</td>\n",
              "      <td>GU280_gp10</td>\n",
              "      <td>None</td>\n",
              "    </tr>\n",
              "    <tr>\n",
              "      <th>10</th>\n",
              "      <td>NC_045512.2</td>\n",
              "      <td>RefSeq</td>\n",
              "      <td>gene</td>\n",
              "      <td>29558</td>\n",
              "      <td>29674</td>\n",
              "      <td>.</td>\n",
              "      <td>+</td>\n",
              "      <td>.</td>\n",
              "      <td>117</td>\n",
              "      <td>gene-GU280_gp11</td>\n",
              "      <td>GeneID:43740576</td>\n",
              "      <td>ORF10</td>\n",
              "      <td>Gene</td>\n",
              "      <td>ORF10</td>\n",
              "      <td>protein_coding</td>\n",
              "      <td>GU280_gp11</td>\n",
              "      <td>None</td>\n",
              "    </tr>\n",
              "  </tbody>\n",
              "</table>\n",
              "</div>\n",
              "      <button class=\"colab-df-convert\" onclick=\"convertToInteractive('df-3ce815b1-e68d-4917-a78f-ef1c88c01516')\"\n",
              "              title=\"Convert this dataframe to an interactive table.\"\n",
              "              style=\"display:none;\">\n",
              "        \n",
              "  <svg xmlns=\"http://www.w3.org/2000/svg\" height=\"24px\"viewBox=\"0 0 24 24\"\n",
              "       width=\"24px\">\n",
              "    <path d=\"M0 0h24v24H0V0z\" fill=\"none\"/>\n",
              "    <path d=\"M18.56 5.44l.94 2.06.94-2.06 2.06-.94-2.06-.94-.94-2.06-.94 2.06-2.06.94zm-11 1L8.5 8.5l.94-2.06 2.06-.94-2.06-.94L8.5 2.5l-.94 2.06-2.06.94zm10 10l.94 2.06.94-2.06 2.06-.94-2.06-.94-.94-2.06-.94 2.06-2.06.94z\"/><path d=\"M17.41 7.96l-1.37-1.37c-.4-.4-.92-.59-1.43-.59-.52 0-1.04.2-1.43.59L10.3 9.45l-7.72 7.72c-.78.78-.78 2.05 0 2.83L4 21.41c.39.39.9.59 1.41.59.51 0 1.02-.2 1.41-.59l7.78-7.78 2.81-2.81c.8-.78.8-2.07 0-2.86zM5.41 20L4 18.59l7.72-7.72 1.47 1.35L5.41 20z\"/>\n",
              "  </svg>\n",
              "      </button>\n",
              "      \n",
              "  <style>\n",
              "    .colab-df-container {\n",
              "      display:flex;\n",
              "      flex-wrap:wrap;\n",
              "      gap: 12px;\n",
              "    }\n",
              "\n",
              "    .colab-df-convert {\n",
              "      background-color: #E8F0FE;\n",
              "      border: none;\n",
              "      border-radius: 50%;\n",
              "      cursor: pointer;\n",
              "      display: none;\n",
              "      fill: #1967D2;\n",
              "      height: 32px;\n",
              "      padding: 0 0 0 0;\n",
              "      width: 32px;\n",
              "    }\n",
              "\n",
              "    .colab-df-convert:hover {\n",
              "      background-color: #E2EBFA;\n",
              "      box-shadow: 0px 1px 2px rgba(60, 64, 67, 0.3), 0px 1px 3px 1px rgba(60, 64, 67, 0.15);\n",
              "      fill: #174EA6;\n",
              "    }\n",
              "\n",
              "    [theme=dark] .colab-df-convert {\n",
              "      background-color: #3B4455;\n",
              "      fill: #D2E3FC;\n",
              "    }\n",
              "\n",
              "    [theme=dark] .colab-df-convert:hover {\n",
              "      background-color: #434B5C;\n",
              "      box-shadow: 0px 1px 3px 1px rgba(0, 0, 0, 0.15);\n",
              "      filter: drop-shadow(0px 1px 2px rgba(0, 0, 0, 0.3));\n",
              "      fill: #FFFFFF;\n",
              "    }\n",
              "  </style>\n",
              "\n",
              "      <script>\n",
              "        const buttonEl =\n",
              "          document.querySelector('#df-3ce815b1-e68d-4917-a78f-ef1c88c01516 button.colab-df-convert');\n",
              "        buttonEl.style.display =\n",
              "          google.colab.kernel.accessAllowed ? 'block' : 'none';\n",
              "\n",
              "        async function convertToInteractive(key) {\n",
              "          const element = document.querySelector('#df-3ce815b1-e68d-4917-a78f-ef1c88c01516');\n",
              "          const dataTable =\n",
              "            await google.colab.kernel.invokeFunction('convertToInteractive',\n",
              "                                                     [key], {});\n",
              "          if (!dataTable) return;\n",
              "\n",
              "          const docLinkHtml = 'Like what you see? Visit the ' +\n",
              "            '<a target=\"_blank\" href=https://colab.research.google.com/notebooks/data_table.ipynb>data table notebook</a>'\n",
              "            + ' to learn more about interactive tables.';\n",
              "          element.innerHTML = '';\n",
              "          dataTable['output_type'] = 'display_data';\n",
              "          await google.colab.output.renderOutput(dataTable, element);\n",
              "          const docLink = document.createElement('div');\n",
              "          docLink.innerHTML = docLinkHtml;\n",
              "          element.appendChild(docLink);\n",
              "        }\n",
              "      </script>\n",
              "    </div>\n",
              "  </div>\n",
              "  "
            ],
            "text/plain": [
              "         seq_id  source  type  start    end score strand phase  length  \\\n",
              "0   NC_045512.2  RefSeq  gene    266  21555     .      +     .   21290   \n",
              "1   NC_045512.2  RefSeq  gene  21563  25384     .      +     .    3822   \n",
              "2   NC_045512.2  RefSeq  gene  25393  26220     .      +     .     828   \n",
              "3   NC_045512.2  RefSeq  gene  26245  26472     .      +     .     228   \n",
              "4   NC_045512.2  RefSeq  gene  26523  27191     .      +     .     669   \n",
              "5   NC_045512.2  RefSeq  gene  27202  27387     .      +     .     186   \n",
              "6   NC_045512.2  RefSeq  gene  27394  27759     .      +     .     366   \n",
              "7   NC_045512.2  RefSeq  gene  27756  27887     .      +     .     132   \n",
              "8   NC_045512.2  RefSeq  gene  27894  28259     .      +     .     366   \n",
              "9   NC_045512.2  RefSeq  gene  28274  29533     .      +     .    1260   \n",
              "10  NC_045512.2  RefSeq  gene  29558  29674     .      +     .     117   \n",
              "\n",
              "                 ID           GeneID    Name gbkey    gene    gene_biotype  \\\n",
              "0   gene-GU280_gp01  GeneID:43740578  ORF1ab  Gene  ORF1ab  protein_coding   \n",
              "1   gene-GU280_gp02  GeneID:43740568       S  Gene       S  protein_coding   \n",
              "2   gene-GU280_gp03  GeneID:43740569   ORF3a  Gene   ORF3a  protein_coding   \n",
              "3   gene-GU280_gp04  GeneID:43740570       E  Gene       E  protein_coding   \n",
              "4   gene-GU280_gp05  GeneID:43740571       M  Gene       M  protein_coding   \n",
              "5   gene-GU280_gp06  GeneID:43740572    ORF6  Gene    ORF6  protein_coding   \n",
              "6   gene-GU280_gp07  GeneID:43740573   ORF7a  Gene   ORF7a  protein_coding   \n",
              "7   gene-GU280_gp08  GeneID:43740574   ORF7b  Gene   ORF7b  protein_coding   \n",
              "8   gene-GU280_gp09  GeneID:43740577    ORF8  Gene    ORF8  protein_coding   \n",
              "9   gene-GU280_gp10  GeneID:43740575       N  Gene       N  protein_coding   \n",
              "10  gene-GU280_gp11  GeneID:43740576   ORF10  Gene   ORF10  protein_coding   \n",
              "\n",
              "             locus_tag        None  \n",
              "0           GU280_gp01        None  \n",
              "1   spike glycoprotein  GU280_gp02  \n",
              "2           GU280_gp03        None  \n",
              "3           GU280_gp04        None  \n",
              "4           GU280_gp05        None  \n",
              "5           GU280_gp06        None  \n",
              "6           GU280_gp07        None  \n",
              "7           GU280_gp08        None  \n",
              "8           GU280_gp09        None  \n",
              "9           GU280_gp10        None  \n",
              "10          GU280_gp11        None  "
            ]
          },
          "metadata": {},
          "execution_count": 94
        }
      ]
    },
    {
      "cell_type": "markdown",
      "source": [
        "# 2"
      ],
      "metadata": {
        "id": "RPPIPpKhmxGt"
      }
    },
    {
      "cell_type": "markdown",
      "source": [
        "тут не было ограничения на сложность или память, поэтому реализовал самый тупой алгоритм с созданием массива сдвигов - **a**, который отсортировал, и затем создал требуемый суффиксный массив, в котором просто прошелся по отсортированному массиву сдвигов и посмотрел на какой позиции в неотсортированном массиве сдвигов стояли те или иные слова"
      ],
      "metadata": {
        "id": "Z1mPRGBKLy0s"
      }
    },
    {
      "cell_type": "code",
      "source": [
        "x = 'ATATATTAG$'\n",
        "a = [x[i:] + x[:i] for i in range(len(x))]\n",
        "s = [a.index(i) + 1 for i in sorted(a)]\n",
        "print(s)"
      ],
      "metadata": {
        "colab": {
          "base_uri": "https://localhost:8080/"
        },
        "id": "KL14oz1RCUnT",
        "outputId": "e851ebb1-ac67-41f9-b5b5-fbe82c9748b3"
      },
      "execution_count": 18,
      "outputs": [
        {
          "output_type": "stream",
          "name": "stdout",
          "text": [
            "[10, 8, 1, 3, 5, 9, 7, 2, 4, 6]\n"
          ]
        }
      ]
    },
    {
      "cell_type": "markdown",
      "source": [
        "# 3\n"
      ],
      "metadata": {
        "id": "lQqbLoOUizjz"
      }
    },
    {
      "cell_type": "markdown",
      "source": [
        "Несколько алгоритмов подходят сразу под создание bwt\n",
        "\n",
        "Первый алгоритм это какая то магия, второй выглядит как \"создай сдвиг и затем скопируй у него последнюю букву\", а третий это тот исходный алгоритм который описывался в лекции"
      ],
      "metadata": {
        "id": "aXvJ6de2Mc_o"
      }
    },
    {
      "cell_type": "code",
      "source": [
        "x = 'ATATATTAG$'\n",
        "s = [10, 8, 1, 3, 5, 9, 7, 2, 4, 6]\n",
        "ans = 'GT$TTATAAA'\n",
        "\n",
        "bwt = ''\n",
        "for i in s:\n",
        "  bwt += x[abs(1 - i) - 1]\n",
        "print(bwt)\n",
        "\n",
        "bwt_1 = ''\n",
        "for i in s:\n",
        "  new = x[i - 1:] + x[:i - 1]\n",
        "  bwt_1 += new[-1]\n",
        "print(bwt_1)\n",
        "\n",
        "x = 'ATATATTAG'\n",
        "bwt_2 = ''\n",
        "for i in s:\n",
        "  if i == 1:\n",
        "    bwt_2 += '$'\n",
        "  else:\n",
        "    bwt_2 += x[i - 2]\n",
        "print(bwt_2)"
      ],
      "metadata": {
        "colab": {
          "base_uri": "https://localhost:8080/"
        },
        "id": "CZE1Eb5ji2WC",
        "outputId": "aefa8d70-6a4c-4e37-9637-a9f9ed4ac46b"
      },
      "execution_count": 87,
      "outputs": [
        {
          "output_type": "stream",
          "name": "stdout",
          "text": [
            "GT$TTATAAA\n",
            "GT$TTATAAA\n",
            "GT$TTATAAA\n"
          ]
        }
      ]
    },
    {
      "cell_type": "markdown",
      "source": [
        "Функция C\n",
        "\n",
        "По сложности алгоритм линеен - $O(k\\cdot n) = O(n)$"
      ],
      "metadata": {
        "id": "U0QUmtj8M9ok"
      }
    },
    {
      "cell_type": "code",
      "source": [
        "C = [['$', 0], ['A', 0], ['C', 0], ['G', 0], ['T', 0]]\n",
        "x = 'ATATATTAG$'\n",
        "\n",
        "for i in range(len(C) - 1):\n",
        "  for j in x:\n",
        "    if j == C[i][0]:\n",
        "      C[i + 1][1] += 1\n",
        "  C[i + 1][1] += C[i][1]\n",
        "\n",
        "C = {i[0]: i[1] for i in C}\n",
        "print(C)"
      ],
      "metadata": {
        "colab": {
          "base_uri": "https://localhost:8080/"
        },
        "id": "157KYsBnvBYS",
        "outputId": "887ba2d3-0ae9-44d0-8caa-58f8c1c9d596"
      },
      "execution_count": 63,
      "outputs": [
        {
          "output_type": "stream",
          "name": "stdout",
          "text": [
            "{'$': 0, 'A': 1, 'C': 5, 'G': 5, 'T': 6}\n"
          ]
        }
      ]
    },
    {
      "cell_type": "markdown",
      "source": [
        "# 4"
      ],
      "metadata": {
        "id": "x1YbJ5WP4qDg"
      }
    },
    {
      "cell_type": "markdown",
      "source": [
        "перебираем все перестановки букв в bwt, для каждой перестановки (каждая перестановка является кандидатом на исходное слово) создаем суффиксный массив и находим bwt_new, если bwt_new и bwt совпадают, то данная перестановка является исходным словом"
      ],
      "metadata": {
        "id": "fY-2krxOLIwL"
      }
    },
    {
      "cell_type": "markdown",
      "source": [
        "# 5"
      ],
      "metadata": {
        "id": "SMVQltGy4rGb"
      }
    },
    {
      "cell_type": "markdown",
      "source": [
        "5 - минимальное число мутаций, при котором можно придумать случай, при котором нет чистых k-меров длины 20\n",
        "\n",
        "(мутации на 20, 40, 60, 80 и 100 нуклеотиде)\n",
        "\n",
        "При 4 мутациях всегда есть хотя бы один чистый 20-мер\n",
        "\n",
        "Ответ: 4"
      ],
      "metadata": {
        "id": "RW84kwvg-I5a"
      }
    }
  ]
}