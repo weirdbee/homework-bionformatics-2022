{
  "nbformat": 4,
  "nbformat_minor": 0,
  "metadata": {
    "colab": {
      "name": "bonus_task_4.ipynb",
      "provenance": []
    },
    "kernelspec": {
      "name": "python3",
      "display_name": "Python 3"
    },
    "language_info": {
      "name": "python"
    }
  },
  "cells": [
    {
      "cell_type": "markdown",
      "source": [
        "$\\href{https://eduhseru-my.sharepoint.com/personal/snersisyan_hse_ru/_layouts/15/onedrive.aspx?id=%2Fpersonal%2Fsnersisyan_hse_ru%2FDocuments%2FВШЭ%20Биоинформатика%202022%2FСеминар%204}{Семинар \\ 4}$\n",
        "\n",
        "Написать программу, принимающую на вход две нуклеотидные последовательности, и вычисляющую их оптимальное выравнивание с помощью алгоритма Нидлмана-Вунша, используя матрицу штрафов DNAfull и аффинный штраф за гэп ($d = 10, e = 0.5$). \n",
        "\n",
        "P.s алгоритм описан в семинаре"
      ],
      "metadata": {
        "id": "D5yzP5muOfhp"
      }
    },
    {
      "cell_type": "code",
      "execution_count": 14,
      "metadata": {
        "colab": {
          "base_uri": "https://localhost:8080/"
        },
        "id": "BNUtTPvIHCKd",
        "outputId": "b89db57f-205f-4b5d-b846-598dc2a33069"
      },
      "outputs": [
        {
          "output_type": "stream",
          "name": "stdout",
          "text": [
            "[  0.  -10.  -10.5 -11.  -11.5 -12. ]\n",
            "[-10.    5.   -5.   -5.5  -6.   -6.5]\n",
            "[-10.5  -5.   10.    0.   -0.5  -1. ]\n",
            "[-11.   -5.5   0.    6.   -4.    4.5]\n"
          ]
        }
      ],
      "source": [
        "import numpy as np\n",
        "seq = 'CTCGA'\n",
        "seq1 = 'CTA'\n",
        "n, m = len(seq) + 1, len(seq1) + 1\n",
        "match, mismatch = 5, -4\n",
        "d, e = 10, 0.5\n",
        "\n",
        "a = np.zeros((m - 1, n - 1))\n",
        "b = np.zeros((m - 1, n - 1))\n",
        "s = np.zeros((m, n))\n",
        "\n",
        "for i in range(n - 1):\n",
        "  if i == 0:\n",
        "    a[0][0] = -2*d\n",
        "  else:\n",
        "    a[0][i] = a[0][i - 1] - e\n",
        "\n",
        "\n",
        "for j in range(m - 1):\n",
        "  if j == 0:\n",
        "    b[0][0] = -2*d\n",
        "  else:\n",
        "    b[j][0] = b[j - 1][0] - e\n",
        "\n",
        "\n",
        "s[0][1], s[1][0] = -d, -d\n",
        "for j in range(2, n):\n",
        "  s[0][j] = s[0][j - 1] - e\n",
        "for i in range(2, m):\n",
        "  s[i][0] = s[i - 1][0] - e\n",
        "\n",
        "for i in range(1, m):\n",
        "  for j in range(1, n):\n",
        "    c = match if seq[j - 1] == seq1[i - 1] else mismatch\n",
        "    s[i][j] = max(a[i - 1][j - 1], b[i - 1][j - 1], s[i - 1][j - 1] + c)\n",
        "    if j != n - 1:\n",
        "      b[i - 1][j] = max(b[i - 1][j - 1] - e, s[i][j] - d)\n",
        "  for k in range(n - 1):\n",
        "    if i != m - 1:\n",
        "      a[i][k] = max(a[i - 1][k] - e, s[i][k + 1] - d)\n",
        "\n",
        "for i in range(m):\n",
        "  print(s[i])"
      ]
    },
    {
      "cell_type": "markdown",
      "source": [
        "вывод оптимального выравнивания"
      ],
      "metadata": {
        "id": "S9XT4k8hUSTK"
      }
    },
    {
      "cell_type": "code",
      "source": [
        "i, j = len(seq1), len(seq)\n",
        "al_s, al_s1 = '', ''\n",
        "while i > 0 and j > 0:\n",
        "  c = match if seq[j - 1] == seq1[i - 1] else mismatch\n",
        "  if s[i][j] == s[i - 1][j - 1] + c:\n",
        "    al_s = seq[j - 1] + al_s\n",
        "    al_s1 = seq1[i - 1] + al_s1\n",
        "    i, j = i - 1, j - 1\n",
        "  elif s[i][j] == s[i - 1][j] - 10:\n",
        "    al_s = '-' + al_s\n",
        "    al_s1 = seq1[i - 1] + al_s1\n",
        "    i = i - 1\n",
        "  else:\n",
        "    al_s = seq[j - 1] + al_s\n",
        "    al_s1 = '-' + al_s1\n",
        "    j = j - 1\n",
        "\n",
        "while j > 0:\n",
        "  al_s = seq[j - 1] + al_s\n",
        "  al_s1 = '-' + al_s1\n",
        "  j = j - 1\n",
        "\n",
        "while i > 0:\n",
        "  al_s = '-' + al_s\n",
        "  al_s1 = seq1[i - 1] + al_s1\n",
        "  i = i - 1\n",
        "\n",
        "print(al_s)\n",
        "print(al_s1)"
      ],
      "metadata": {
        "colab": {
          "base_uri": "https://localhost:8080/"
        },
        "id": "U8StJlRbUR0U",
        "outputId": "32b03623-c460-439b-95fd-afcce2c2450a"
      },
      "execution_count": 15,
      "outputs": [
        {
          "output_type": "stream",
          "name": "stdout",
          "text": [
            "CTCGA\n",
            "CT--A\n"
          ]
        }
      ]
    }
  ]
}