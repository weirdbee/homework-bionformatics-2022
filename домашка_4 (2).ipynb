{
  "nbformat": 4,
  "nbformat_minor": 0,
  "metadata": {
    "colab": {
      "name": "домашка 4.ipynb",
      "provenance": [],
      "collapsed_sections": []
    },
    "kernelspec": {
      "name": "python3",
      "display_name": "Python 3"
    },
    "language_info": {
      "name": "python"
    }
  },
  "cells": [
    {
      "cell_type": "markdown",
      "source": [
        "UniProt  в европейском сайте биоинфы получше чем NCBI, ттем что там загружены кристаллы полученные с помощью рентгеноструктурного анализа, можно повертеть посмотреть"
      ],
      "metadata": {
        "id": "RSaGoUQ7eYbV"
      }
    },
    {
      "cell_type": "markdown",
      "source": [
        "геномные браузеры - вбиваем название гена, и переходим в браузер, вверху хромосома\n",
        "\n",
        "мелкие черточки и жирные - экзоны, все что между это интроны\n",
        "\n",
        "GeneCards"
      ],
      "metadata": {
        "id": "-fAw1EZ8enXc"
      }
    },
    {
      "cell_type": "markdown",
      "source": [
        "# №1"
      ],
      "metadata": {
        "id": "E6Bnw5ZpJ-2K"
      }
    },
    {
      "cell_type": "code",
      "execution_count": null,
      "metadata": {
        "colab": {
          "base_uri": "https://localhost:8080/",
          "height": 35
        },
        "id": "VcHguJL9iL04",
        "outputId": "52cbf2ab-93d7-4481-c517-e7d66de89767"
      },
      "outputs": [
        {
          "output_type": "execute_result",
          "data": {
            "application/vnd.google.colaboratory.intrinsic+json": {
              "type": "string"
            },
            "text/plain": [
              "'AGAGACTCAT'"
            ]
          },
          "metadata": {},
          "execution_count": 2
        }
      ],
      "source": [
        "s = 'ATGAGTCTCT'\n",
        "s1 = 'CTGTCTCCTG'\n",
        "sub = {'A': 'T', 'T': 'A', 'G':'C', 'C':'G'}\n",
        "s1 = ''\n",
        "for i in s:\n",
        "  s1 += sub[i]\n",
        "s1[::-1]"
      ]
    },
    {
      "cell_type": "markdown",
      "source": [
        "# №2"
      ],
      "metadata": {
        "id": "Vhj_ZZXsKC9j"
      }
    },
    {
      "cell_type": "markdown",
      "source": [
        "Линейный штраф за gaps ($d = -10$)\n",
        "\n",
        "\\begin{array}{c|c|c|c|c|c|c|}\n",
        "& & A & T & G & A & G & T & C & T & C & T \\\\ \\hline\n",
        "& 0. & -10. & -20. & -30. & -40. & -50. & -60. & -70. & -80. & -90. & -100. \\\\ \\hline\n",
        "C & -10. & \\searrow~\\textbf{-4}. & -14.& -24. & -34. & -44. & -54. & -55. & -65. & -75. & -85. \\\\ \\hline\n",
        "T & -20. & -14. &  \\searrow~\\textbf{1}. & -9. & -19. & -29. & -39. & -49. & -50. & -60. & -70. \\\\ \\hline\n",
        "G & -30. & -24. & -9. &  \\searrow~\\textbf{6}. & -4. & -14. & -24. & -34. & -44. & -54. & -64.\\\\ \\hline\n",
        "T & -40. & -34. & -19. & -4. &  \\searrow~\\textbf{2}. & -8. & -9. & -19. & -29. & -39. & -49. \\\\ \\hline\n",
        "C & -50. & -44. & -29. & -14. & -8. & \\searrow~\\textbf{-2}. & -12. & -4. & -14. & -24. & -34. \\\\ \\hline\n",
        "T & -60. & -54. & -39. & -24. & -18. & -12. &  \\searrow~\\textbf{3}. & -7. &  1. & -9. & -19. \\\\ \\hline\n",
        "C & -70. & -64. & -49. & -34. & -28. & -22. & -7. &  \\searrow~\\textbf{8}. & \\rightarrow~\\textbf{-2}. &  6. &  -4. \\\\ \\hline\n",
        "C & -80. & -74. & -59. & -44. & -38. & -32. & -17. & -2. &  4. &\\searrow~  \\textbf{3}. &  2. \\\\ \\hline\n",
        "T & -90. & -84. & -69. & -54. & -48. & -42. & -27. & -12. &  3. &  0. & \\searrow~\\textbf{8}. \\\\ \\hline\n",
        "G & -100. & -94. & -79. & -64. & -58. & -43. & -37. & -22. &  -7. &  -1. & \\downarrow~\\textbf{-2}.\\\\ \\hline\n",
        "\\end{array}"
      ],
      "metadata": {
        "id": "NEBXkSbNLqZQ"
      }
    },
    {
      "cell_type": "markdown",
      "source": [
        "Афинный штраф за gaps($d = -10, e = -0.5$)\n",
        "\n",
        "\\begin{array}{c|c|c|c|c|c|c|}\n",
        "& & A & T & G & A & T & G & C & T & C & T \\\\ \\hline\n",
        "& 0. & -10. & -10.5 & -11. & -11.5 & -12. & -12.5 & -13. & -13.5 & -14. & -14.5 \\\\ \\hline\n",
        "C & -10. &  \\searrow~\\textbf{-4}. & -14. & -14.5 & -15. & -15.5 & -16. & -7.5 & -17. & -8.5 & -18.\\\\ \\hline\n",
        "T & -10.5 & -14. & \\searrow~\\textbf{1}. & -9. & -9.5 & -10. & -10.5 & -11. & -2.5 & -12. & -3.5 \\\\ \\hline\n",
        "G & -11. & -14.5 & -9. & \\searrow~\\textbf{6}. & -4. & -4.5 & -5. & -5.5 & -6. & -6.5 & -7. \\\\ \\hline\n",
        "T & -11.5 & -15. & -9.5 & -4. &  \\searrow~\\textbf{2}. & \\rightarrow~\\textbf{-8}. & \\rightarrow~\\textbf{0.5} & -9. & -0.5 & -10. & -1.5 \\\\ \\hline\n",
        "C & -12. & -15.5 & -10. & -4.5 & -8. & -2. & -9.5 & \\searrow~\\textbf{5.5} & -4.5 & 4.5 & -5.5 \\\\ \\hline\n",
        "T & -12.5 & -16. & -10.5 & -5.  & -8.5 & -12. &  3. & -4.5 & \\searrow~\\textbf{10.5} &  0.5  & 9.5 \\\\ \\hline\n",
        "C & -13. & -16.5 & -11. & -5.5 & -9. & -12.5 & -7. & 8. & \\downarrow~\\textbf{0.5} & 15.5 & 5.5 \\\\ \\hline\n",
        "C & -13.5 & -17. & -11.5 & -6. & -9.5 & -13. & -7.5 & -2. & 4. & \\searrow~\\textbf{5.5} & 11.5 \\\\ \\hline\n",
        "T & -14. & -17.5 & -12. & -6.5 & -10. & -13.5 & -8. & -2.5  & 3. & \\downarrow~\\textbf{5}. & 10.5 \\\\ \\hline\n",
        "G & -14.5 & -18. & -12.5 & -7. & -10.5 & -5. &  -8.5 & -3. & -1. &  4.5 & \\searrow~\\textbf{1}. \\\\ \\hline\n",
        "\\end{array}"
      ],
      "metadata": {
        "id": "NB_bFIO5h4DA"
      }
    },
    {
      "cell_type": "markdown",
      "source": [
        "# №4"
      ],
      "metadata": {
        "id": "QMycmh5LKEpg"
      }
    },
    {
      "cell_type": "code",
      "source": [
        "import numpy as np\n",
        "s = 'ATGAGTCTCT'\n",
        "s1 = 'CTGTCTCCTG'\n",
        "n, m = len(s) + 1, len(s1) + 1\n",
        "match, mismatch = 5, -4\n",
        "d = 10\n",
        "\n",
        "a = np.zeros((m, n))\n",
        "for j in range(1, n):\n",
        "  a[0][j] = a[0][j - 1] - d\n",
        "for i in range(1, m):\n",
        "  a[i][0] = a[i - 1][0] - d\n",
        "\n",
        "for i in range(1, m):\n",
        "  for j in range(1, n):\n",
        "    c = match if s[j - 1] == s1[i - 1] else mismatch\n",
        "    a[i][j] = max(a[i][j - 1] - d, a[i - 1][j] - d, a[i - 1][j - 1] + c)\n",
        "print(f'score: {a[-1, -1]}')"
      ],
      "metadata": {
        "colab": {
          "base_uri": "https://localhost:8080/"
        },
        "id": "1hhfoMbEKMVK",
        "outputId": "152fb725-317f-400d-fe34-6684ce98fd58"
      },
      "execution_count": 5,
      "outputs": [
        {
          "output_type": "stream",
          "name": "stdout",
          "text": [
            "score: -2.0\n"
          ]
        }
      ]
    },
    {
      "cell_type": "markdown",
      "source": [
        "# №5"
      ],
      "metadata": {
        "id": "_Q3L1K-GKH4q"
      }
    },
    {
      "cell_type": "code",
      "source": [
        "import numpy as np\n",
        "s = 'ATGAGTCTCT'\n",
        "s1 = 'CTGTCTCCTG'\n",
        "n, m = len(s) + 1, len(s1) + 1\n",
        "\n",
        "match, mismatch = 5, -4\n",
        "d = 10\n",
        "\n",
        "a = np.zeros((m, n))\n",
        "for j in range(1, n):\n",
        "  a[0][j] = a[0][j - 1] - d\n",
        "for i in range(1, m):\n",
        "  a[i][0] = a[i - 1][0] - d\n",
        "\n",
        "for i in range(1, m):\n",
        "  for j in range(1, n):\n",
        "    c = match if s[j - 1] == s1[i - 1] else mismatch\n",
        "    a[i][j] = max(a[i][j - 1] - d, a[i - 1][j] - d, a[i - 1][j - 1] + c)"
      ],
      "metadata": {
        "id": "AQQ6jrNMKMvG"
      },
      "execution_count": null,
      "outputs": []
    },
    {
      "cell_type": "markdown",
      "source": [
        "Вывод оптимального выравнивания"
      ],
      "metadata": {
        "id": "ZPCD3lIYyx73"
      }
    },
    {
      "cell_type": "code",
      "source": [
        "i, j = len(s1), len(s)\n",
        "al_s, al_s1 = '', ''\n",
        "while i > 0 and j > 0:\n",
        "  c = match if s[j - 1] == s1[i - 1] else mismatch\n",
        "  if a[i][j] == a[i - 1][j - 1] + c:\n",
        "    al_s = s[j - 1] + al_s\n",
        "    al_s1 = s1[i - 1] + al_s1\n",
        "    i, j = i - 1, j - 1\n",
        "  elif a[i][j] == a[i - 1][j] - d:\n",
        "    al_s = '-' + al_s\n",
        "    al_s1 = s1[i - 1] + al_s1\n",
        "    i = i - 1\n",
        "  else:\n",
        "    al_s = s[j - 1] + al_s\n",
        "    al_s1 = '-' + al_s1\n",
        "    j = j - 1\n",
        "\n",
        "while j > 0:\n",
        "  al_s = s[j - 1] + al_s\n",
        "  al_s1 = '-' + al_s1\n",
        "  j = j - 1\n",
        "\n",
        "while i > 0:\n",
        "  al_s = '-' + al_s\n",
        "  al_s1 = s1[i - 1] + al_s1\n",
        "  i = i - 1\n",
        "\n",
        "print(al_s)\n",
        "print(al_s1)"
      ],
      "metadata": {
        "colab": {
          "base_uri": "https://localhost:8080/"
        },
        "id": "h2rNNeHtyz0p",
        "outputId": "15a88608-003e-41e2-eed3-28503520365f"
      },
      "execution_count": null,
      "outputs": [
        {
          "output_type": "stream",
          "name": "stdout",
          "text": [
            "ATGAGTCTCT-\n",
            "CTGTCTC-CTG\n"
          ]
        }
      ]
    }
  ]
}