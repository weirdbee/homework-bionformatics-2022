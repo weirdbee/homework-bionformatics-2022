{
  "nbformat": 4,
  "nbformat_minor": 0,
  "metadata": {
    "colab": {
      "name": "домашка 4.ipynb",
      "provenance": [],
      "collapsed_sections": []
    },
    "kernelspec": {
      "name": "python3",
      "display_name": "Python 3"
    },
    "language_info": {
      "name": "python"
    }
  },
  "cells": [
    {
      "cell_type": "markdown",
      "source": [
        "UniProt  в европейском сайте биоинфы получше чем NCBI, ттем что там загружены кристаллы полученные с помощью рентгеноструктурного анализа, можно повертеть посмотреть"
      ],
      "metadata": {
        "id": "RSaGoUQ7eYbV"
      }
    },
    {
      "cell_type": "markdown",
      "source": [
        "геномные браузеры - вбиваем название гена, и переходим в браузер, вверху хромосома\n",
        "\n",
        "мелкие черточки и жирные - экзоны, все что между это интроны\n",
        "\n",
        "GeneCards"
      ],
      "metadata": {
        "id": "-fAw1EZ8enXc"
      }
    },
    {
      "cell_type": "markdown",
      "source": [
        "# №1"
      ],
      "metadata": {
        "id": "E6Bnw5ZpJ-2K"
      }
    },
    {
      "cell_type": "code",
      "execution_count": null,
      "metadata": {
        "colab": {
          "base_uri": "https://localhost:8080/",
          "height": 35
        },
        "id": "VcHguJL9iL04",
        "outputId": "52cbf2ab-93d7-4481-c517-e7d66de89767"
      },
      "outputs": [
        {
          "output_type": "execute_result",
          "data": {
            "application/vnd.google.colaboratory.intrinsic+json": {
              "type": "string"
            },
            "text/plain": [
              "'AGAGACTCAT'"
            ]
          },
          "metadata": {},
          "execution_count": 2
        }
      ],
      "source": [
        "s = 'ATGAGTCTCT'\n",
        "s1 = 'CTGTCTCCTG'\n",
        "sub = {'A': 'T', 'T': 'A', 'G':'C', 'C':'G'}\n",
        "s1 = ''\n",
        "for i in s:\n",
        "  s1 += sub[i]\n",
        "s1[::-1]"
      ]
    },
    {
      "cell_type": "markdown",
      "source": [
        "# №2"
      ],
      "metadata": {
        "id": "Vhj_ZZXsKC9j"
      }
    },
    {
      "cell_type": "markdown",
      "source": [
        "\\begin{array}{c|c|c|c|c|c|c|}\n",
        "& & A & T & G & A & T & G & C & T & C & T \\\\ \\hline\n",
        "& 0 & -10 & -20 & -30 & -40 & -50 & -60 & -70 & -80 & -90 & -100 \\\\ \\hline\n",
        "C & -10 & \\searrow~-4 & \\rightarrow~-14 & \\rightarrow~-24 & \\rightarrow~-34 & \\rightarrow~-44 & \\rightarrow~-54 & \\searrow~-55 & \\rightarrow~-65 & \\rightarrow~-75 & \\rightarrow~-85\\\\ \\hline\n",
        "T & -20 & \\downarrow~-14 & \\searrow~1 & \\rightarrow~-11 & \\rightarrow~-21 & \\searrow~-29 & \\rightarrow~-39 & \\rightarrow~-49 & \\searrow~-50 & \\rightarrow~-60 & \\searrow~-70 \\\\ \\hline\n",
        "G & -30 & \\downarrow~-24 & \\downarrow~-9 & \\searrow~6 & \\searrow~-4 & \\rightarrow~14 & \\searrow~-24 & \\rightarrow~-34 & \\rightarrow~-44 & \\rightarrow~-54 & \\rightarrow~-64 \\\\ \\hline\n",
        "T & -40 & \\downarrow~-34 & \\searrow~-19 & \\\\ \\hline\n",
        "C & -50 & \\downarrow~-44 & \\downarrow~-29 & \\\\ \\hline\n",
        "T & -60 & \\downarrow~-54 & \\searrow~-39 & \\\\ \\hline\n",
        "C & -70 & \\downarrow~-64 & \\downarrow~-49 & \\\\ \\hline\n",
        "C & -80 & \\downarrow~-74 & \\downarrow~-59 & \\\\ \\hline\n",
        "T & -90 & \\downarrow~-84 & \\searrow~-69 & \\\\ \\hline\n",
        "G & -100 & \\downarrow~-94 & \\downarrow~-79 & \\\\ \\hline\n",
        "\\end{array}\n"
      ],
      "metadata": {
        "id": "NEBXkSbNLqZQ"
      }
    },
    {
      "cell_type": "markdown",
      "source": [
        "# №4"
      ],
      "metadata": {
        "id": "QMycmh5LKEpg"
      }
    },
    {
      "cell_type": "code",
      "source": [
        "import numpy as np\n",
        "s = 'ATGATGCTCT'\n",
        "s1 = 'CTGTCTCCTG'\n",
        "n, m = len(s) + 1, len(s1) + 1\n",
        "\n",
        "a = np.zeros((m, n))\n",
        "for j in range(1, n):\n",
        "  a[0][j] = a[0][j - 1] - 10\n",
        "for i in range(1, m):\n",
        "  a[i][0] = a[i - 1][0] - 10\n",
        "\n",
        "for i in range(1, m):\n",
        "  for j in range(1, n):\n",
        "    c = 5 if s[j - 1] == s1[i - 1] else -4\n",
        "    a[i][j] = max(a[i][j - 1] - 10, a[i - 1][j] - 10, a[i - 1][j - 1] + c)\n",
        "for i in range(m):\n",
        "  print(a[i])"
      ],
      "metadata": {
        "colab": {
          "base_uri": "https://localhost:8080/"
        },
        "id": "1hhfoMbEKMVK",
        "outputId": "a5ba425f-1d50-46f0-b34d-a13cf8a8c112"
      },
      "execution_count": 113,
      "outputs": [
        {
          "output_type": "stream",
          "name": "stdout",
          "text": [
            "[   0.  -10.  -20.  -30.  -40.  -50.  -60.  -70.  -80.  -90. -100.]\n",
            "[-10.  -4. -14. -24. -34. -44. -54. -55. -65. -75. -85.]\n",
            "[-20. -14.   1.  -9. -19. -29. -39. -49. -50. -60. -70.]\n",
            "[-30. -24.  -9.   6.  -4. -14. -24. -34. -44. -54. -64.]\n",
            "[-40. -34. -19.  -4.   2.   1.  -9. -19. -29. -39. -49.]\n",
            "[-50. -44. -29. -14.  -8.  -2.  -3.  -4. -14. -24. -34.]\n",
            "[-60. -54. -39. -24. -18.  -3.  -6.  -7.   1.  -9. -19.]\n",
            "[-70. -64. -49. -34. -28. -13.  -7.  -1.  -9.   6.  -4.]\n",
            "[-80. -74. -59. -44. -38. -23. -17.  -2.  -5.  -4.   2.]\n",
            "[-90. -84. -69. -54. -48. -33. -27. -12.   3.  -7.   1.]\n",
            "[-100.  -94.  -79.  -64.  -58.  -43.  -28.  -22.   -7.   -1.   -9.]\n"
          ]
        }
      ]
    },
    {
      "cell_type": "markdown",
      "source": [
        "# №5"
      ],
      "metadata": {
        "id": "_Q3L1K-GKH4q"
      }
    },
    {
      "cell_type": "code",
      "source": [
        "import numpy as np\n",
        "s = 'AGTACGCA'\n",
        "s1 = 'TATGC'\n",
        "n, m = len(s) + 1, len(s1) + 1\n",
        "\n",
        "a = np.zeros((m, n))\n",
        "for j in range(1, n):\n",
        "  a[0][j] = a[0][j - 1] - 10\n",
        "for i in range(1, m):\n",
        "  a[i][0] = a[i - 1][0] - 10\n",
        "\n",
        "for i in range(1, m):\n",
        "  for j in range(1, n):\n",
        "    c = 5 if s[j - 1] == s1[i - 1] else -4\n",
        "    a[i][j] = max(a[i][j - 1] - 10, a[i - 1][j] - 10, a[i - 1][j - 1] + c)"
      ],
      "metadata": {
        "id": "AQQ6jrNMKMvG"
      },
      "execution_count": 114,
      "outputs": []
    },
    {
      "cell_type": "markdown",
      "source": [
        "Вывод оптимального выравнивания"
      ],
      "metadata": {
        "id": "ZPCD3lIYyx73"
      }
    },
    {
      "cell_type": "code",
      "source": [
        "i, j = len(s1), len(s)\n",
        "al_s, al_s1 = '', ''\n",
        "while i > 0 and j > 0:\n",
        "  c = 5 if s[j - 1] == s1[i - 1] else -4\n",
        "  if a[i][j] == a[i - 1][j - 1] + c:\n",
        "    al_s = s[j - 1] + al_s\n",
        "    al_s1 = s1[i - 1] + al_s1\n",
        "    i, j = i - 1, j - 1\n",
        "  elif a[i][j] == a[i - 1][j] - 10:\n",
        "    al_s = '-' + al_s\n",
        "    al_s1 = s1[i - 1] + al_s1\n",
        "    i = i - 1\n",
        "  else:\n",
        "    al_s = s[j - 1] + al_s\n",
        "    al_s1 = '-' + al_s1\n",
        "    j = j - 1\n",
        "\n",
        "while j > 0:\n",
        "  al_s = s[j - 1] + al_s\n",
        "  al_s1 = '-' + al_s1\n",
        "  j = j - 1\n",
        "\n",
        "while i > 0:\n",
        "  al_s = '-' + al_s\n",
        "  al_s1 = s1[i - 1] + al_s1\n",
        "  i = i - 1\n",
        "\n",
        "print(al_s)\n",
        "print(al_s1)"
      ],
      "metadata": {
        "colab": {
          "base_uri": "https://localhost:8080/"
        },
        "id": "h2rNNeHtyz0p",
        "outputId": "2bd07d45-d639-4646-f93c-a953685066a9"
      },
      "execution_count": 115,
      "outputs": [
        {
          "output_type": "stream",
          "name": "stdout",
          "text": [
            "AGTACGCA\n",
            "--TATGC-\n"
          ]
        }
      ]
    }
  ]
}