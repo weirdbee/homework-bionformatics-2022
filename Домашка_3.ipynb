{
  "cells": [
    {
      "cell_type": "markdown",
      "source": [
        "# №1"
      ],
      "metadata": {
        "id": "AAcI5rQ5SmIP"
      },
      "id": "AAcI5rQ5SmIP"
    },
    {
      "cell_type": "markdown",
      "source": [
        "сортировка вставками"
      ],
      "metadata": {
        "id": "Ukn6vDnh05YP"
      },
      "id": "Ukn6vDnh05YP"
    },
    {
      "cell_type": "code",
      "source": [
        "a = [10, 9, 8, 7, 6, 4, 5, 3, 2, 1]\n",
        "for i in range(1, len(a)):\n",
        "  x = a[i]\n",
        "  j = i - 1 \n",
        "  while j >= 0 and x < a[j]:\n",
        "    a[j + 1] = a[j] \n",
        "    j -= 1 \n",
        "  a[j + 1] = x\n",
        "print(a)"
      ],
      "metadata": {
        "colab": {
          "base_uri": "https://localhost:8080/"
        },
        "id": "8M4C9qzl0svX",
        "outputId": "be173af5-812e-4c2b-a647-1c27cb7cf899"
      },
      "id": "8M4C9qzl0svX",
      "execution_count": 54,
      "outputs": [
        {
          "output_type": "stream",
          "name": "stdout",
          "text": [
            "[1, 2, 3, 4, 5, 6, 7, 8, 9, 10]\n"
          ]
        }
      ]
    },
    {
      "cell_type": "markdown",
      "source": [
        "сортировка слиянием, $O(n\\cdot log_2n)$"
      ],
      "metadata": {
        "id": "TVni4Qt_0v8M"
      },
      "id": "TVni4Qt_0v8M"
    },
    {
      "cell_type": "code",
      "source": [
        "def merge_sort(a):\n",
        "  if len(a) == 1:\n",
        "    return a\n",
        "  else:\n",
        "    x = merge_sort(a[:len(a)//2])\n",
        "    y = merge_sort(a[len(a)//2:])\n",
        "\n",
        "    result = []\n",
        "    i, j = 0, 0\n",
        "    while i < len(x) or j < len(y):\n",
        "      if i < len(x) and (j == len(y) or x[i] < y[j]):\n",
        "        result.append(x[i])\n",
        "        i += 1\n",
        "      else:\n",
        "        result.append(y[j])\n",
        "        j += 1\n",
        "    return result\n",
        "\n",
        "a = [10, 9, 8, 7, 6, 4, 5, 3, 2, 1]\n",
        "print(merge_sort(a))\n"
      ],
      "metadata": {
        "colab": {
          "base_uri": "https://localhost:8080/"
        },
        "id": "OFJWxnqyajBT",
        "outputId": "c13ef7ef-328c-4431-fddc-ac528d42c7c5"
      },
      "id": "OFJWxnqyajBT",
      "execution_count": 2,
      "outputs": [
        {
          "output_type": "stream",
          "name": "stdout",
          "text": [
            "[1, 2, 3, 4, 5, 6, 7, 8, 9, 10]\n"
          ]
        }
      ]
    },
    {
      "cell_type": "markdown",
      "source": [
        "# №2\n"
      ],
      "metadata": {
        "id": "QLE1Jrm3W_jG"
      },
      "id": "QLE1Jrm3W_jG"
    },
    {
      "cell_type": "code",
      "source": [
        "def b_search(a, x):\n",
        "    mid = 0\n",
        "    start = 0\n",
        "    end = len(a)\n",
        "    step = 0\n",
        "\n",
        "    while (start <= end):\n",
        "        step = step + 1\n",
        "        mid = (start + end) // 2\n",
        "\n",
        "        if x == a[mid]:\n",
        "            return mid\n",
        "\n",
        "        if x < a[mid]:\n",
        "            end = mid - 1\n",
        "        else:\n",
        "            start = mid + 1\n",
        "    return -1\n",
        "\n",
        "a = [1,2,3,4,5,67,8,9,0]\n",
        "x = 3\n",
        "b_search(a, x)"
      ],
      "metadata": {
        "colab": {
          "base_uri": "https://localhost:8080/"
        },
        "id": "8Y5lt3SjWwlT",
        "outputId": "3c8f85ca-3534-403b-8a0b-6f251af12f47"
      },
      "id": "8Y5lt3SjWwlT",
      "execution_count": 3,
      "outputs": [
        {
          "output_type": "execute_result",
          "data": {
            "text/plain": [
              "2"
            ]
          },
          "metadata": {},
          "execution_count": 3
        }
      ]
    },
    {
      "cell_type": "markdown",
      "source": [
        "# №3"
      ],
      "metadata": {
        "id": "BpRMVqincD3e"
      },
      "id": "BpRMVqincD3e"
    },
    {
      "cell_type": "code",
      "source": [
        ""
      ],
      "metadata": {
        "id": "4ZMpbVxmfcxo"
      },
      "id": "4ZMpbVxmfcxo",
      "execution_count": null,
      "outputs": []
    },
    {
      "cell_type": "markdown",
      "source": [
        "# №4\n"
      ],
      "metadata": {
        "id": "sHaDJr3ZcFa0"
      },
      "id": "sHaDJr3ZcFa0"
    },
    {
      "cell_type": "code",
      "source": [
        "a = [1, 2, 3, 4, 5, 6, 7, 8]\n",
        "b = [0]*len(a)\n",
        "b[0], b[1] = a[0], a[1]\n",
        "for i in range(2, len(a)):\n",
        "  b[i] = min(b[i - 1], b[i - 2]) + a[i]\n",
        "print(f'жадный поиск: {sum(a)}, динамический способ: {b[-1]}, отношение: {sum(a)/b[-1]}')"
      ],
      "metadata": {
        "colab": {
          "base_uri": "https://localhost:8080/"
        },
        "id": "i09KCLW5cVLG",
        "outputId": "89c22637-1cd2-4ed3-e2a2-6b1840082a1b"
      },
      "id": "i09KCLW5cVLG",
      "execution_count": 17,
      "outputs": [
        {
          "output_type": "stream",
          "name": "stdout",
          "text": [
            "жадный поиск: 36, динамический способ: 20, отношение: 1.8\n"
          ]
        }
      ]
    },
    {
      "cell_type": "markdown",
      "source": [
        "# №5"
      ],
      "metadata": {
        "id": "aIOnphlpcHKk"
      },
      "id": "aIOnphlpcHKk"
    },
    {
      "cell_type": "code",
      "source": [
        "a = [1, 10, 2, -9, -6, 4, 8, 0, -5, -2]\n",
        "max_sum, sum = float('-inf'), 0\n",
        "l1 = r1 = None\n",
        "for i in range(len(a)):\n",
        "  r = i\n",
        "  print(sum)\n",
        "  if sum <= 0:\n",
        "    l = r\n",
        "    sum = a[i]\n",
        "  else:\n",
        "    sum += a[i]\n",
        "\n",
        "  if sum > max_sum:\n",
        "    max_sum = sum\n",
        "    l1 = l\n",
        "    r1 = r + 1\n",
        "\n",
        "print(f'max_sum: {max_sum}, left_board: {l1}, right_board: {r1}')"
      ],
      "metadata": {
        "colab": {
          "base_uri": "https://localhost:8080/"
        },
        "id": "TlKWeW1Ne91H",
        "outputId": "2c5b6096-48fc-4895-ea01-49a2d6cd7629"
      },
      "id": "TlKWeW1Ne91H",
      "execution_count": 48,
      "outputs": [
        {
          "output_type": "stream",
          "name": "stdout",
          "text": [
            "0\n",
            "1\n",
            "11\n",
            "13\n",
            "4\n",
            "-2\n",
            "4\n",
            "12\n",
            "12\n",
            "7\n",
            "max_sum: 13, left_board: 0, right_board: 3\n"
          ]
        }
      ]
    }
  ],
  "metadata": {
    "kernelspec": {
      "display_name": "Python 3",
      "language": "python",
      "name": "python3"
    },
    "language_info": {
      "codemirror_mode": {
        "name": "ipython",
        "version": 3
      },
      "file_extension": ".py",
      "mimetype": "text/x-python",
      "name": "python",
      "nbconvert_exporter": "python",
      "pygments_lexer": "ipython3",
      "version": "3.6.15"
    },
    "colab": {
      "name": "Домашка 3.ipynb",
      "provenance": []
    }
  },
  "nbformat": 4,
  "nbformat_minor": 5
}