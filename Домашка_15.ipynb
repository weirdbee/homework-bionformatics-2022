{
  "nbformat": 4,
  "nbformat_minor": 0,
  "metadata": {
    "colab": {
      "name": "Домашка 15.ipynb",
      "provenance": []
    },
    "kernelspec": {
      "name": "python3",
      "display_name": "Python 3"
    },
    "language_info": {
      "name": "python"
    }
  },
  "cells": [
    {
      "cell_type": "markdown",
      "source": [
        "# 1"
      ],
      "metadata": {
        "id": "HLvX0-PRYFRY"
      }
    },
    {
      "cell_type": "markdown",
      "source": [
        "В случае нулевых средних арифметических коэффициент пирсона равен:\n",
        "\n",
        "\\begin{equation*}\n",
        "R = \\frac{cov(x, y)}{\\sigma_x \\sigma_y} = \\frac{\\sum_{i = 1}^n (x^i - \\overline{x})(y^i - \\overline{y})}{\\sqrt{\\sum_{i = 1}^n (x^i - \\overline x) \\cdot \\sum_{i = 1}^n (y^i - \\overline y)}} = \\frac{\\sum_{i = 1}^n x^i\\cdot y^i}{\\sqrt{\\sum_{i = 1}^n (x^i)^2 \\cdot \\sum_{i = 1}^n (y^i)^2}}\n",
        "\\end{equation*}\n",
        "\n",
        "Однако косинус угла между двумя векторами в туже очередь равен:\n",
        "\n",
        "\\begin{equation*}\n",
        "cos \\alpha = \\frac{u \\cdot v}{|u|\\cdot|v|} = \\frac{\\sum_{i = 1}^n x^i\\cdot y^i}{\\sqrt{\\sum_{i = 1}^n (x^i)^2 \\cdot \\sum_{i = 1}^n (y^i)^2}}\n",
        "\\end{equation*}\n",
        "\n",
        "Соответственно в случае нулевых средних арифметических коэффициент пирсона для двух выборок, равен косинусу угла между двумя векторами, представляющих эти выборки в $R^n$ пространстве\n",
        "\n"
      ],
      "metadata": {
        "id": "MYhlzcm9YH--"
      }
    },
    {
      "cell_type": "markdown",
      "source": [
        "# 2"
      ],
      "metadata": {
        "id": "0bmM7w7ta3nU"
      }
    },
    {
      "cell_type": "markdown",
      "source": [
        "Пусть нам дана матрица $X$, в которой $n$ строк и $d$ столбцов :\n",
        "$$\n",
        "X = \n",
        "\\begin{bmatrix}\n",
        "x_{11} & x_{12}  & \\cdots   & x_{1d}   \\\\\n",
        "x_{21} & x_{22}  & \\cdots   & x_{2d}  \\\\\n",
        "\\vdots & \\vdots  & \\ddots   & \\vdots  \\\\\n",
        "x_{n1} & x_{n2}  & \\cdots  & x_{nd}  \\\\\n",
        "\\end{bmatrix}\n",
        "$$\n",
        "\n",
        "тогда $X^T$, будет иметь $d$ строк и $n$ столбцов:\n",
        "$$\n",
        "X^T = \n",
        "\\begin{bmatrix}\n",
        "x_{11} & x_{21}  & \\cdots   & x_{1n}  \\\\\n",
        "x_{12} & x_{22}  & \\cdots   & x_{2n}  \\\\\n",
        "\\vdots & \\vdots  & \\ddots   & \\vdots  \\\\\n",
        "x_{d1} & x_{d2}  & \\cdots  & x_{dn}  \\\\\n",
        "\\end{bmatrix}\n",
        "$$\n",
        "При произведении $X^TX$ получим матрицу $A$:\n",
        "\n",
        "$$\n",
        "X^TX = \n",
        "\\begin{bmatrix}\n",
        "\\sum_k^d x_{1k}\\cdot x_{k1} & \\sum_k^d x_{1k}\\cdot x_{k2}  & \\sum_k^d x_{1k}\\cdot x_{kd}   \\\\\n",
        "\\sum_k^d x_{2k}\\cdot x_{k1} & \\sum_k^n x_{2k}\\cdot x_{k2}  & \\sum_k^d x_{2k}\\cdot x_{kd}   \\\\\n",
        "\\vdots & \\vdots  & \\ddots   & \\vdots  \\\\\n",
        "\\sum_k^d x_{nk}\\cdot x_{k1} & \\sum_k^n x_{nk}\\cdot x_{k2}  & \\sum_k^d x_{nk}\\cdot x_{kd}   \\\\\n",
        "\\end{bmatrix}\n",
        "$$\n",
        "\n",
        "Заметим, что выборочная ковариационная матрица для матрицы $X$ в точности равна $\\frac{1}{n}X^TX$, где n - это размер выборки, ведь $cov(x_{ik}, x_{kj}) = \\frac{1}{n}\\sum_{k = 1}^n x_{ik} \\cdot y_{kj}$"
      ],
      "metadata": {
        "id": "ZAZsLb9_OzY5"
      }
    },
    {
      "cell_type": "markdown",
      "source": [
        "# 3"
      ],
      "metadata": {
        "id": "N0y2N2nC_MVA"
      }
    },
    {
      "cell_type": "code",
      "source": [
        "import pandas as pd\n",
        "import numpy as np\n",
        "\n",
        "from sklearn.decomposition import PCA"
      ],
      "metadata": {
        "id": "aR98iGTrZExQ"
      },
      "execution_count": 18,
      "outputs": []
    },
    {
      "cell_type": "code",
      "source": [
        "df = pd.read_csv(\"BRCA_pam50 (1).tsv\", sep=\"\\t\", index_col=0)\n",
        "\n",
        "X = df.iloc[:, :-1].to_numpy()\n",
        "model = PCA()\n",
        "model.fit(X)\n",
        "\n",
        "x = model.components_\n",
        "xt = np.transpose(x)\n",
        "A = np.around(np.dot(x, xt), 14)\n",
        "I = np.identity(len(x)) \n",
        "print(f\"is X orthogonal?\\n{'yes' if np.all(np.equal(A, I)) else 'no'}\")"
      ],
      "metadata": {
        "colab": {
          "base_uri": "https://localhost:8080/"
        },
        "id": "cUQseEekZsLp",
        "outputId": "48d455aa-bbb9-42ac-b70f-85bed926e1ec"
      },
      "execution_count": 19,
      "outputs": [
        {
          "output_type": "stream",
          "name": "stdout",
          "text": [
            "is X orthogonal?\n",
            "yes\n"
          ]
        }
      ]
    },
    {
      "cell_type": "markdown",
      "source": [
        "# 4"
      ],
      "metadata": {
        "id": "nB5CFSES_OG1"
      }
    },
    {
      "cell_type": "code",
      "source": [
        "import pandas as pd\n",
        "import numpy as np\n",
        "\n",
        "from sklearn.decomposition import PCA"
      ],
      "metadata": {
        "id": "Hm15jVgkz5tU"
      },
      "execution_count": 1,
      "outputs": []
    },
    {
      "cell_type": "code",
      "source": [
        "df = pd.read_csv(\"BRCA_pam50 (1).tsv\", sep=\"\\t\", index_col=0)\n",
        "\n",
        "X = df.iloc[:, :-1].to_numpy()\n",
        "model = PCA()\n",
        "model.fit(X)\n",
        "\n",
        "X_pca = model.transform(X)\n",
        "df.iloc[:, :-1] = X_pca\n",
        "df.columns = [f\"PC{i + 1}\" for i in range(X.shape[1])] + [\"Subtype\"]\n",
        "\n",
        "np.array([i/sum(df.var()) for i in df.var()])"
      ],
      "metadata": {
        "colab": {
          "base_uri": "https://localhost:8080/"
        },
        "id": "siE2p6Wuz6J9",
        "outputId": "1b0943c3-2f0f-4220-d5b0-1f9a3dd87430"
      },
      "execution_count": 16,
      "outputs": [
        {
          "output_type": "stream",
          "name": "stderr",
          "text": [
            "/usr/local/lib/python3.7/dist-packages/ipykernel_launcher.py:11: FutureWarning: Dropping of nuisance columns in DataFrame reductions (with 'numeric_only=None') is deprecated; in a future version this will raise TypeError.  Select only valid columns before calling the reduction.\n",
            "  # This is added back by InteractiveShellApp.init_path()\n"
          ]
        },
        {
          "output_type": "execute_result",
          "data": {
            "text/plain": [
              "array([0.3327276 , 0.28947609, 0.08645656, 0.0496138 , 0.02774454,\n",
              "       0.02122277, 0.02062738, 0.01588512, 0.01253637, 0.01144837,\n",
              "       0.01057699, 0.00986824, 0.0083866 , 0.00773094, 0.00753618,\n",
              "       0.00691335, 0.00598777, 0.0057137 , 0.00512518, 0.00491742,\n",
              "       0.00482623, 0.00422932, 0.0039203 , 0.00350269, 0.00335749,\n",
              "       0.00322127, 0.00297009, 0.00292261, 0.00272757, 0.00261699,\n",
              "       0.00238564, 0.00213089, 0.00204414, 0.00191871, 0.00175182,\n",
              "       0.00159501, 0.00153376, 0.00142201, 0.00126514, 0.00124037,\n",
              "       0.00113123, 0.00109889, 0.00098075, 0.00092451, 0.00086863,\n",
              "       0.00070433, 0.00060184, 0.00057996, 0.00055518, 0.00047767])"
            ]
          },
          "metadata": {},
          "execution_count": 16
        }
      ]
    },
    {
      "cell_type": "code",
      "source": [
        "model.explained_variance_ratio_"
      ],
      "metadata": {
        "colab": {
          "base_uri": "https://localhost:8080/"
        },
        "id": "UlNDpX1p3p6s",
        "outputId": "87db1fec-ebc9-416b-fcf5-e1c0a67a6858"
      },
      "execution_count": 17,
      "outputs": [
        {
          "output_type": "execute_result",
          "data": {
            "text/plain": [
              "array([0.3327276 , 0.28947609, 0.08645656, 0.0496138 , 0.02774454,\n",
              "       0.02122277, 0.02062738, 0.01588512, 0.01253637, 0.01144837,\n",
              "       0.01057699, 0.00986824, 0.0083866 , 0.00773094, 0.00753618,\n",
              "       0.00691335, 0.00598777, 0.0057137 , 0.00512518, 0.00491742,\n",
              "       0.00482623, 0.00422932, 0.0039203 , 0.00350269, 0.00335749,\n",
              "       0.00322127, 0.00297009, 0.00292261, 0.00272757, 0.00261699,\n",
              "       0.00238564, 0.00213089, 0.00204414, 0.00191871, 0.00175182,\n",
              "       0.00159501, 0.00153376, 0.00142201, 0.00126514, 0.00124037,\n",
              "       0.00113123, 0.00109889, 0.00098075, 0.00092451, 0.00086863,\n",
              "       0.00070433, 0.00060184, 0.00057996, 0.00055518, 0.00047767])"
            ]
          },
          "metadata": {},
          "execution_count": 17
        }
      ]
    },
    {
      "cell_type": "markdown",
      "source": [
        "# 5"
      ],
      "metadata": {
        "id": "39ktZfdM_O26"
      }
    },
    {
      "cell_type": "code",
      "source": [
        "import pandas as pd\n",
        "import numpy as np\n",
        "\n",
        "import seaborn as sns\n",
        "import matplotlib.pyplot as plt\n",
        "\n",
        "from sklearn.decomposition import PCA"
      ],
      "metadata": {
        "id": "G6PV_JFR4pDQ"
      },
      "execution_count": 20,
      "outputs": []
    },
    {
      "cell_type": "code",
      "source": [
        "df = pd.read_csv(\"BRCA_pam50 (1).tsv\", sep=\"\\t\", index_col=0)"
      ],
      "metadata": {
        "id": "b_xhIqC_7WUI"
      },
      "execution_count": 4,
      "outputs": []
    },
    {
      "cell_type": "code",
      "source": [
        "s = ['ESR1', 'PGR', 'ERBB2', 'MKI67']\n",
        "expr = []\n",
        "for i in s:\n",
        "  expr = expr + list(df[i])\n",
        "\n",
        "gene = []\n",
        "for i in s:\n",
        "  for j in range(len(df[i])):\n",
        "    gene.append(i)\n",
        "\n",
        "sub = []\n",
        "for i in s:\n",
        "  sub = sub + list(df['Subtype'])\n",
        "\n",
        "A = pd.DataFrame({\n",
        "    'Expression': expr,\n",
        "    'Gene': gene,\n",
        "    'Subtype': sub\n",
        "})\n",
        "\n",
        "sns.set_theme(style=\"whitegrid\")\n",
        "fig = plt.gcf()\n",
        "fig.set_size_inches(24, 8)\n",
        "[plt.axvline(x, color = 'gray', linestyle='--') for x in [i + 0.5 for i in range(5)]]\n",
        "g = sns.boxplot(x = 'Subtype', y = 'Expression', hue = 'Gene', data = A, palette=\"Set3\")"
      ],
      "metadata": {
        "colab": {
          "base_uri": "https://localhost:8080/",
          "height": 502
        },
        "id": "N8n0xSoW-JHm",
        "outputId": "5fd66b03-93ea-47da-dfdd-a0cbe3e951e7"
      },
      "execution_count": 5,
      "outputs": [
        {
          "output_type": "display_data",
          "data": {
            "text/plain": [
              "<Figure size 1728x576 with 1 Axes>"
            ],
            "image/png": "[encoded data removed]"
          },
          "metadata": {}
        }
      ]
    }
  ]
}