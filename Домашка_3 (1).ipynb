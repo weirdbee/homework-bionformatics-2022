{
  "cells": [
    {
      "cell_type": "markdown",
      "metadata": {
        "id": "AAcI5rQ5SmIP"
      },
      "source": [
        "# №1"
      ],
      "id": "AAcI5rQ5SmIP"
    },
    {
      "cell_type": "markdown",
      "source": [
        "сортировка вставками"
      ],
      "metadata": {
        "id": "c6iZSXr1-DEs"
      },
      "id": "c6iZSXr1-DEs"
    },
    {
      "cell_type": "code",
      "source": [
        "a = [10, 8, 8, 7, 6, 4, 5, 3, 2, 1]\n",
        "for i in range(len(a)):\n",
        "  min1 = a[i]\n",
        "  for j in range(i, len(a)):\n",
        "    if a[j] <= min1:\n",
        "      min1 = a[j]\n",
        "      ind = j\n",
        "  a[ind] = a[i]\n",
        "  a[i] = min1\n",
        "print(a)"
      ],
      "metadata": {
        "colab": {
          "base_uri": "https://localhost:8080/"
        },
        "id": "oh-U9H4D8pkb",
        "outputId": "707f8375-93c4-4173-bd39-6b8adcbb0568"
      },
      "id": "oh-U9H4D8pkb",
      "execution_count": 10,
      "outputs": [
        {
          "output_type": "stream",
          "name": "stdout",
          "text": [
            "[1, 2, 3, 4, 5, 6, 7, 8, 8, 10]\n"
          ]
        }
      ]
    },
    {
      "cell_type": "markdown",
      "metadata": {
        "id": "Ukn6vDnh05YP"
      },
      "source": [
        "сортировка пузырьком(кажется)"
      ],
      "id": "Ukn6vDnh05YP"
    },
    {
      "cell_type": "code",
      "execution_count": null,
      "metadata": {
        "colab": {
          "base_uri": "https://localhost:8080/"
        },
        "id": "8M4C9qzl0svX",
        "outputId": "be173af5-812e-4c2b-a647-1c27cb7cf899"
      },
      "outputs": [
        {
          "name": "stdout",
          "output_type": "stream",
          "text": [
            "[1, 2, 3, 4, 5, 6, 7, 8, 9, 10]\n"
          ]
        }
      ],
      "source": [
        "a = [10, 9, 8, 7, 6, 4, 5, 3, 2, 1]\n",
        "for i in range(1, len(a)):\n",
        "  x = a[i]\n",
        "  j = i - 1 \n",
        "  while j >= 0 and x < a[j]:\n",
        "    a[j + 1] = a[j] \n",
        "    j -= 1 \n",
        "  a[j + 1] = x\n",
        "print(a)"
      ],
      "id": "8M4C9qzl0svX"
    },
    {
      "cell_type": "markdown",
      "metadata": {
        "id": "TVni4Qt_0v8M"
      },
      "source": [
        "сортировка слиянием, $O(n\\cdot log_2n)$"
      ],
      "id": "TVni4Qt_0v8M"
    },
    {
      "cell_type": "code",
      "execution_count": null,
      "metadata": {
        "colab": {
          "base_uri": "https://localhost:8080/"
        },
        "id": "OFJWxnqyajBT",
        "outputId": "c13ef7ef-328c-4431-fddc-ac528d42c7c5"
      },
      "outputs": [
        {
          "name": "stdout",
          "output_type": "stream",
          "text": [
            "[1, 2, 3, 4, 5, 6, 7, 8, 9, 10]\n"
          ]
        }
      ],
      "source": [
        "def merge_sort(a):\n",
        "  if len(a) == 1:\n",
        "    return a\n",
        "  else:\n",
        "    x = merge_sort(a[:len(a)//2])\n",
        "    y = merge_sort(a[len(a)//2:])\n",
        "\n",
        "    result = []\n",
        "    i, j = 0, 0\n",
        "    while i < len(x) or j < len(y):\n",
        "      if i < len(x) and (j == len(y) or x[i] < y[j]):\n",
        "        result.append(x[i])\n",
        "        i += 1\n",
        "      else:\n",
        "        result.append(y[j])\n",
        "        j += 1\n",
        "    return result\n",
        "\n",
        "a = [10, 9, 8, 7, 6, 4, 5, 3, 2, 1]\n",
        "print(merge_sort(a))\n"
      ],
      "id": "OFJWxnqyajBT"
    },
    {
      "cell_type": "markdown",
      "metadata": {
        "id": "QLE1Jrm3W_jG"
      },
      "source": [
        "# №2\n"
      ],
      "id": "QLE1Jrm3W_jG"
    },
    {
      "cell_type": "code",
      "execution_count": null,
      "metadata": {
        "colab": {
          "base_uri": "https://localhost:8080/"
        },
        "id": "8Y5lt3SjWwlT",
        "outputId": "419f5b27-c581-4e15-f794-c0501d3e505a"
      },
      "outputs": [
        {
          "data": {
            "text/plain": [
              "2"
            ]
          },
          "execution_count": 35,
          "metadata": {},
          "output_type": "execute_result"
        }
      ],
      "source": [
        "def b_search(a, x):\n",
        "    mid = 0\n",
        "    start = 0\n",
        "    end = len(a)\n",
        "    step = 0\n",
        "\n",
        "    while (start <= end):\n",
        "        step = step + 1\n",
        "        mid = (start + end) // 2\n",
        "\n",
        "        if x == a[mid]:\n",
        "            return mid\n",
        "\n",
        "        if x < a[mid]:\n",
        "            end = mid - 1\n",
        "        else:\n",
        "            start = mid + 1\n",
        "    return -1\n",
        "\n",
        "a = [1,2,3,4,5,6,7,8,9,10]\n",
        "x = 3\n",
        "b_search(a, x)"
      ],
      "id": "8Y5lt3SjWwlT"
    },
    {
      "cell_type": "markdown",
      "metadata": {
        "id": "BpRMVqincD3e"
      },
      "source": [
        "# №3"
      ],
      "id": "BpRMVqincD3e"
    },
    {
      "cell_type": "code",
      "execution_count": null,
      "metadata": {
        "colab": {
          "base_uri": "https://localhost:8080/"
        },
        "id": "T5-dJ6nNSojb",
        "outputId": "731e600c-9de8-4728-b768-a36cfdd66d41"
      },
      "outputs": [
        {
          "name": "stdout",
          "output_type": "stream",
          "text": [
            "[1, 2, 3, 53, 289, 555, 2121, 2880, 45341]\n"
          ]
        }
      ],
      "source": [
        "def rad_sort(a):\n",
        "  max_el = max(a)\n",
        "  d = 0\n",
        "  while max_el > 0:\n",
        "    max_el = max_el // 10\n",
        "    d += 1\n",
        "  for j in range(0, d):\n",
        "    temp = [[] for i in range(10)]\n",
        "    for i in a:\n",
        "      num = (i // (10 ** j)) % 10\n",
        "      temp[num].append(i)\n",
        "    a = []\n",
        "    for i in temp:\n",
        "      if len(i) != 0:\n",
        "        a = a + i\n",
        "  return a\n",
        " \n",
        " \n",
        "a = [555, 45341, 3, 289, 2121, 1, 2880, 53, 2]\n",
        "a = rad_sort(a)\n",
        "print(a)"
      ],
      "id": "T5-dJ6nNSojb"
    },
    {
      "cell_type": "markdown",
      "metadata": {
        "id": "sHaDJr3ZcFa0"
      },
      "source": [
        "# №4\n"
      ],
      "id": "sHaDJr3ZcFa0"
    },
    {
      "cell_type": "code",
      "execution_count": null,
      "metadata": {
        "colab": {
          "base_uri": "https://localhost:8080/"
        },
        "id": "i09KCLW5cVLG",
        "outputId": "89c22637-1cd2-4ed3-e2a2-6b1840082a1b"
      },
      "outputs": [
        {
          "name": "stdout",
          "output_type": "stream",
          "text": [
            "жадный поиск: 36, динамический способ: 20, отношение: 1.8\n"
          ]
        }
      ],
      "source": [
        "a = [1, 2, 3, 4, 5, 6, 7, 8]\n",
        "b = [0]*len(a)\n",
        "b[0], b[1] = a[0], a[1]\n",
        "for i in range(2, len(a)):\n",
        "  b[i] = min(b[i - 1], b[i - 2]) + a[i]\n",
        "print(f'жадный поиск: {sum(a)}, динамический способ: {b[-1]}, отношение: {sum(a)/b[-1]}')"
      ],
      "id": "i09KCLW5cVLG"
    },
    {
      "cell_type": "markdown",
      "metadata": {
        "id": "aIOnphlpcHKk"
      },
      "source": [
        "# №5"
      ],
      "id": "aIOnphlpcHKk"
    },
    {
      "cell_type": "code",
      "execution_count": null,
      "metadata": {
        "colab": {
          "background_save": true,
          "base_uri": "https://localhost:8080/"
        },
        "id": "TlKWeW1Ne91H",
        "outputId": "f39b7c67-6735-4387-e2ab-d65c88d91cc3"
      },
      "outputs": [
        {
          "name": "stdout",
          "output_type": "stream",
          "text": [
            "max_sum: 0, left_board: 7, right_board: 8\n"
          ]
        }
      ],
      "source": [
        "a = [-1, -10, -2, -9, -6, -4, -8, 0, -5, -2]\n",
        "max_sum, sum = float('-inf'), 0\n",
        "l1 = r1 = None\n",
        "for i in range(len(a)):\n",
        "  r = i\n",
        "  if sum <= 0:\n",
        "    l = r\n",
        "    sum = a[i]\n",
        "  else:\n",
        "    sum += a[i]\n",
        "\n",
        "  if sum > max_sum:\n",
        "    max_sum = sum\n",
        "    l1 = l\n",
        "    r1 = r + 1\n",
        "\n",
        "print(f'max_sum: {max_sum}, left_board: {l1}, right_board: {r1}')"
      ],
      "id": "TlKWeW1Ne91H"
    }
  ],
  "metadata": {
    "colab": {
      "name": "Домашка 3.ipynb",
      "provenance": []
    },
    "kernelspec": {
      "display_name": "Python 3",
      "language": "python",
      "name": "python3"
    },
    "language_info": {
      "codemirror_mode": {
        "name": "ipython",
        "version": 3
      },
      "file_extension": ".py",
      "mimetype": "text/x-python",
      "name": "python",
      "nbconvert_exporter": "python",
      "pygments_lexer": "ipython3",
      "version": "3.6.15"
    }
  },
  "nbformat": 4,
  "nbformat_minor": 5
}