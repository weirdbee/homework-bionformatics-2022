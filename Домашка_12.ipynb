{
  "nbformat": 4,
  "nbformat_minor": 0,
  "metadata": {
    "colab": {
      "name": "Домашка 12.ipynb",
      "provenance": []
    },
    "kernelspec": {
      "name": "python3",
      "display_name": "Python 3"
    },
    "language_info": {
      "name": "python"
    }
  },
  "cells": [
    {
      "cell_type": "markdown",
      "source": [
        "# 1"
      ],
      "metadata": {
        "id": "0mE6HpRYXyeu"
      }
    },
    {
      "cell_type": "code",
      "execution_count": 53,
      "metadata": {
        "id": "SK3wxf4EVVs3"
      },
      "outputs": [],
      "source": [
        "from scipy.stats import *"
      ]
    },
    {
      "cell_type": "code",
      "source": [
        "N = 1000\n",
        "n = 2\n",
        "for i in range(N):\n",
        "  x = norm(0, 1).rvs(n)\n",
        "  y = norm(0, 1).rvs(n)\n",
        "  if ttest_ind(x, y)[1] > 0.1 and ttest_rel(x, y)[1] < 0.05:\n",
        "    print(f'x = {x}, y = {y}')\n",
        "    break"
      ],
      "metadata": {
        "colab": {
          "base_uri": "https://localhost:8080/"
        },
        "id": "mGZcWYLlV3G1",
        "outputId": "136f8eeb-61f8-41c3-a07e-ffcc86aa60f8"
      },
      "execution_count": 4,
      "outputs": [
        {
          "output_type": "stream",
          "name": "stdout",
          "text": [
            "x = [ 0.8164909  -0.98125469], y = [ 0.70031669 -1.11405782]\n"
          ]
        }
      ]
    },
    {
      "cell_type": "markdown",
      "source": [
        "# 2"
      ],
      "metadata": {
        "id": "peJuPYiEYBTO"
      }
    },
    {
      "cell_type": "code",
      "source": [
        "from scipy.stats import *"
      ],
      "metadata": {
        "id": "v9UE9mqy4zJO"
      },
      "execution_count": null,
      "outputs": []
    },
    {
      "cell_type": "code",
      "source": [
        "N = 1000\n",
        "n = 2\n",
        "for i in range(N):\n",
        "  x = norm(0, 1).rvs(n)\n",
        "  y = norm(0, 1).rvs(n)\n",
        "  if ttest_ind(x, y)[1] < 0.05 and ttest_rel(x, y)[1] > 0.1:\n",
        "    print(f'x = {x}, y = {y}')\n",
        "    break"
      ],
      "metadata": {
        "colab": {
          "base_uri": "https://localhost:8080/"
        },
        "id": "tJNlph4hYCIw",
        "outputId": "c26a51be-d59b-4859-9d33-5eeccee31aab"
      },
      "execution_count": 5,
      "outputs": [
        {
          "output_type": "stream",
          "name": "stdout",
          "text": [
            "x = [0.44987146 0.79963518], y = [-0.91676435 -1.38425629]\n"
          ]
        }
      ]
    },
    {
      "cell_type": "markdown",
      "source": [
        "# 3"
      ],
      "metadata": {
        "id": "njDcHBkqYQVs"
      }
    },
    {
      "cell_type": "code",
      "source": [
        "from scipy.stats import *\n",
        "import pandas as pd"
      ],
      "metadata": {
        "id": "ySU4pA814uzf"
      },
      "execution_count": null,
      "outputs": []
    },
    {
      "cell_type": "code",
      "source": [
        "df = pd.read_csv('breast_cancer_1000_genes.tsv', sep = '\\t', index_col = 0)"
      ],
      "metadata": {
        "id": "dULATvkWYpCa"
      },
      "execution_count": 11,
      "outputs": []
    },
    {
      "cell_type": "code",
      "source": [
        "count = 0\n",
        "for i in df.index:\n",
        "  if shapiro(df.loc[i])[1] < 0.05:\n",
        "    count += 1\n",
        "print(count / len(df))"
      ],
      "metadata": {
        "colab": {
          "base_uri": "https://localhost:8080/"
        },
        "id": "pthWcLQaa3zr",
        "outputId": "d37596fd-9bc0-42b8-cd61-37c5e56419bf"
      },
      "execution_count": 16,
      "outputs": [
        {
          "output_type": "stream",
          "name": "stdout",
          "text": [
            "0.431\n"
          ]
        }
      ]
    },
    {
      "cell_type": "markdown",
      "source": [
        "# 4"
      ],
      "metadata": {
        "id": "XAapwNFobxEM"
      }
    },
    {
      "cell_type": "code",
      "source": [
        "from scipy.stats import *\n",
        "import pandas as pd\n",
        "import numpy as np"
      ],
      "metadata": {
        "id": "DOWOs9ne4qGF"
      },
      "execution_count": null,
      "outputs": []
    },
    {
      "cell_type": "code",
      "source": [
        "df = pd.read_csv('colon_cancer_tumor_vs_normal_unpaired_FPKM.tsv', sep = '\\t', index_col = 0)\n",
        "df1 = pd.read_csv('DESeq2_results_unpaired.tsv', sep = '\\t', index_col = 0)"
      ],
      "metadata": {
        "id": "fDdjdxnng0dr"
      },
      "execution_count": 61,
      "outputs": []
    },
    {
      "cell_type": "code",
      "source": [
        "df['p_value'] = [ttest_ind(df.loc[i][:5], df.loc[i][5:])[1] for i in df.index]\n",
        "df['padj_BH'] = np.minimum(df[\"p_value\"] * len(df) / rankdata(df[\"p_value\"]), 1)\n",
        "df = df.sort_values('padj_BH')"
      ],
      "metadata": {
        "id": "uhD8UcZYczvT"
      },
      "execution_count": 63,
      "outputs": []
    },
    {
      "cell_type": "code",
      "source": [
        "df_compare = pd.DataFrame({\n",
        "    'padj_BH': df.head(10).index,\n",
        "    'Deseq2': df1.head(10).index\n",
        "})\n",
        "df_compare"
      ],
      "metadata": {
        "colab": {
          "base_uri": "https://localhost:8080/",
          "height": 363
        },
        "id": "tIDxF079f9-F",
        "outputId": "9ed23e3d-3a5b-45f0-c248-2daf58f527cc"
      },
      "execution_count": 64,
      "outputs": [
        {
          "output_type": "execute_result",
          "data": {
            "text/plain": [
              "    padj_BH    Deseq2\n",
              "0  C17orf96     FABP6\n",
              "1      FUT1      ETV4\n",
              "2     IER5L     IER5L\n",
              "3      CDH3     KRT80\n",
              "4     FXYD5      FUT1\n",
              "5    ZNHIT2  C17orf96\n",
              "6      GPR4     CLDN1\n",
              "7      DKC1     ATG9B\n",
              "8      ETV4  KIAA1257\n",
              "9      MT1H    SLC51B"
            ],
            "text/html": [
              "\n",
              "  <div id=\"df-caadb479-4fbf-4e53-93b3-624846dc530f\">\n",
              "    <div class=\"colab-df-container\">\n",
              "      <div>\n",
              "<style scoped>\n",
              "    .dataframe tbody tr th:only-of-type {\n",
              "        vertical-align: middle;\n",
              "    }\n",
              "\n",
              "    .dataframe tbody tr th {\n",
              "        vertical-align: top;\n",
              "    }\n",
              "\n",
              "    .dataframe thead th {\n",
              "        text-align: right;\n",
              "    }\n",
              "</style>\n",
              "<table border=\"1\" class=\"dataframe\">\n",
              "  <thead>\n",
              "    <tr style=\"text-align: right;\">\n",
              "      <th></th>\n",
              "      <th>padj_BH</th>\n",
              "      <th>Deseq2</th>\n",
              "    </tr>\n",
              "  </thead>\n",
              "  <tbody>\n",
              "    <tr>\n",
              "      <th>0</th>\n",
              "      <td>C17orf96</td>\n",
              "      <td>FABP6</td>\n",
              "    </tr>\n",
              "    <tr>\n",
              "      <th>1</th>\n",
              "      <td>FUT1</td>\n",
              "      <td>ETV4</td>\n",
              "    </tr>\n",
              "    <tr>\n",
              "      <th>2</th>\n",
              "      <td>IER5L</td>\n",
              "      <td>IER5L</td>\n",
              "    </tr>\n",
              "    <tr>\n",
              "      <th>3</th>\n",
              "      <td>CDH3</td>\n",
              "      <td>KRT80</td>\n",
              "    </tr>\n",
              "    <tr>\n",
              "      <th>4</th>\n",
              "      <td>FXYD5</td>\n",
              "      <td>FUT1</td>\n",
              "    </tr>\n",
              "    <tr>\n",
              "      <th>5</th>\n",
              "      <td>ZNHIT2</td>\n",
              "      <td>C17orf96</td>\n",
              "    </tr>\n",
              "    <tr>\n",
              "      <th>6</th>\n",
              "      <td>GPR4</td>\n",
              "      <td>CLDN1</td>\n",
              "    </tr>\n",
              "    <tr>\n",
              "      <th>7</th>\n",
              "      <td>DKC1</td>\n",
              "      <td>ATG9B</td>\n",
              "    </tr>\n",
              "    <tr>\n",
              "      <th>8</th>\n",
              "      <td>ETV4</td>\n",
              "      <td>KIAA1257</td>\n",
              "    </tr>\n",
              "    <tr>\n",
              "      <th>9</th>\n",
              "      <td>MT1H</td>\n",
              "      <td>SLC51B</td>\n",
              "    </tr>\n",
              "  </tbody>\n",
              "</table>\n",
              "</div>\n",
              "      <button class=\"colab-df-convert\" onclick=\"convertToInteractive('df-caadb479-4fbf-4e53-93b3-624846dc530f')\"\n",
              "              title=\"Convert this dataframe to an interactive table.\"\n",
              "              style=\"display:none;\">\n",
              "        \n",
              "  <svg xmlns=\"http://www.w3.org/2000/svg\" height=\"24px\"viewBox=\"0 0 24 24\"\n",
              "       width=\"24px\">\n",
              "    <path d=\"M0 0h24v24H0V0z\" fill=\"none\"/>\n",
              "    <path d=\"M18.56 5.44l.94 2.06.94-2.06 2.06-.94-2.06-.94-.94-2.06-.94 2.06-2.06.94zm-11 1L8.5 8.5l.94-2.06 2.06-.94-2.06-.94L8.5 2.5l-.94 2.06-2.06.94zm10 10l.94 2.06.94-2.06 2.06-.94-2.06-.94-.94-2.06-.94 2.06-2.06.94z\"/><path d=\"M17.41 7.96l-1.37-1.37c-.4-.4-.92-.59-1.43-.59-.52 0-1.04.2-1.43.59L10.3 9.45l-7.72 7.72c-.78.78-.78 2.05 0 2.83L4 21.41c.39.39.9.59 1.41.59.51 0 1.02-.2 1.41-.59l7.78-7.78 2.81-2.81c.8-.78.8-2.07 0-2.86zM5.41 20L4 18.59l7.72-7.72 1.47 1.35L5.41 20z\"/>\n",
              "  </svg>\n",
              "      </button>\n",
              "      \n",
              "  <style>\n",
              "    .colab-df-container {\n",
              "      display:flex;\n",
              "      flex-wrap:wrap;\n",
              "      gap: 12px;\n",
              "    }\n",
              "\n",
              "    .colab-df-convert {\n",
              "      background-color: #E8F0FE;\n",
              "      border: none;\n",
              "      border-radius: 50%;\n",
              "      cursor: pointer;\n",
              "      display: none;\n",
              "      fill: #1967D2;\n",
              "      height: 32px;\n",
              "      padding: 0 0 0 0;\n",
              "      width: 32px;\n",
              "    }\n",
              "\n",
              "    .colab-df-convert:hover {\n",
              "      background-color: #E2EBFA;\n",
              "      box-shadow: 0px 1px 2px rgba(60, 64, 67, 0.3), 0px 1px 3px 1px rgba(60, 64, 67, 0.15);\n",
              "      fill: #174EA6;\n",
              "    }\n",
              "\n",
              "    [theme=dark] .colab-df-convert {\n",
              "      background-color: #3B4455;\n",
              "      fill: #D2E3FC;\n",
              "    }\n",
              "\n",
              "    [theme=dark] .colab-df-convert:hover {\n",
              "      background-color: #434B5C;\n",
              "      box-shadow: 0px 1px 3px 1px rgba(0, 0, 0, 0.15);\n",
              "      filter: drop-shadow(0px 1px 2px rgba(0, 0, 0, 0.3));\n",
              "      fill: #FFFFFF;\n",
              "    }\n",
              "  </style>\n",
              "\n",
              "      <script>\n",
              "        const buttonEl =\n",
              "          document.querySelector('#df-caadb479-4fbf-4e53-93b3-624846dc530f button.colab-df-convert');\n",
              "        buttonEl.style.display =\n",
              "          google.colab.kernel.accessAllowed ? 'block' : 'none';\n",
              "\n",
              "        async function convertToInteractive(key) {\n",
              "          const element = document.querySelector('#df-caadb479-4fbf-4e53-93b3-624846dc530f');\n",
              "          const dataTable =\n",
              "            await google.colab.kernel.invokeFunction('convertToInteractive',\n",
              "                                                     [key], {});\n",
              "          if (!dataTable) return;\n",
              "\n",
              "          const docLinkHtml = 'Like what you see? Visit the ' +\n",
              "            '<a target=\"_blank\" href=https://colab.research.google.com/notebooks/data_table.ipynb>data table notebook</a>'\n",
              "            + ' to learn more about interactive tables.';\n",
              "          element.innerHTML = '';\n",
              "          dataTable['output_type'] = 'display_data';\n",
              "          await google.colab.output.renderOutput(dataTable, element);\n",
              "          const docLink = document.createElement('div');\n",
              "          docLink.innerHTML = docLinkHtml;\n",
              "          element.appendChild(docLink);\n",
              "        }\n",
              "      </script>\n",
              "    </div>\n",
              "  </div>\n",
              "  "
            ]
          },
          "metadata": {},
          "execution_count": 64
        }
      ]
    },
    {
      "cell_type": "markdown",
      "source": [
        "# 5"
      ],
      "metadata": {
        "id": "T_A_M9geje-2"
      }
    },
    {
      "cell_type": "markdown",
      "source": [
        "Нет неверно, пусть $p_1 = 0.05$, $p_2 = 0,06$, $p_1 < p_2$,  тогда после поправки Бенджамини-Хохберга $$padj_1 = \\frac{p_1}{1} = 0.05$$, $$padj_2 = \\frac{p_2}{2} = \\frac{0.06}{2} = 0.03$$ $$padj_1 > padj_2$$"
      ],
      "metadata": {
        "id": "mmnpkTnHjg0C"
      }
    }
  ]
}