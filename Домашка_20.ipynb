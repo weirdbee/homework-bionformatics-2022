{
  "nbformat": 4,
  "nbformat_minor": 0,
  "metadata": {
    "colab": {
      "name": "Домашка 20.ipynb",
      "provenance": []
    },
    "kernelspec": {
      "name": "python3",
      "display_name": "Python 3"
    },
    "language_info": {
      "name": "python"
    }
  },
  "cells": [
    {
      "cell_type": "markdown",
      "source": [
        "# 1"
      ],
      "metadata": {
        "id": "NYugCcjVq3cn"
      }
    },
    {
      "cell_type": "markdown",
      "source": [
        "# 2"
      ],
      "metadata": {
        "id": "UqrjgD6Tq4T3"
      }
    },
    {
      "cell_type": "code",
      "execution_count": 2,
      "metadata": {
        "id": "Xw9Alkyeq1SB"
      },
      "outputs": [],
      "source": [
        "import pandas as pd\n",
        "import numpy as np\n",
        "\n",
        "import seaborn as sns\n",
        "import matplotlib.pyplot as plt\n",
        "\n",
        "from sklearn.model_selection import train_test_split\n",
        "from sklearn.linear_model import LinearRegression"
      ]
    },
    {
      "cell_type": "code",
      "source": [
        "df = pd.read_csv('sgn.csv')\n",
        "m = [1, 5, 20, 100, 1000]\n",
        "model = LinearRegression()\n",
        "\n",
        "for k in m:\n",
        "  x = df['x'][:k].to_numpy()\n",
        "  y = df['y'][:k].to_numpy()\n",
        "  X = np.hstack([np.hstack([np.array([np.sin(m*x)]).T,np.array([np.cos(m*x)]).T]) for m in range(1, k + 1)])\n",
        "  \n",
        "  model.fit(X, y)\n",
        "\n",
        "  print(f'm = {k}')\n",
        "  print(f'b0 = {model.intercept_}')\n",
        "  print(model.coef_)\n",
        "  print()\n",
        "  y_pred = model.predict(X)\n",
        "  sns.lineplot(x=x, y=y_pred)\n",
        "  sns.scatterplot(x=x, y=y)"
      ],
      "metadata": {
        "colab": {
          "base_uri": "https://localhost:8080/"
        },
        "id": "xN3jput0tODd",
        "outputId": "565755a2-4e9d-483e-ea5b-6e5db5967e74"
      },
      "execution_count": 28,
      "outputs": [
        {
          "output_type": "stream",
          "name": "stdout",
          "text": [
            "m = 1\n",
            "b0 = -0.9717565055116784\n",
            "[0. 0.]\n",
            "\n",
            "m = 5\n",
            "b0 = -2531877.7831394672\n",
            "[   -5973.02290202  -411714.18143428     2822.27337184   573656.39580612\n",
            "   -67735.98175548 -1896560.73037169    77097.50482786  1221541.94998834\n",
            "   104632.01970761  1571596.44621747]\n",
            "\n",
            "m = 20\n",
            "b0 = 10470735970046.63\n",
            "[-5.71916594e+12  1.91731202e+12 -2.97903630e+11 -9.46141210e+12\n",
            "  5.33029141e+12 -1.83706950e+12 -2.99181943e+12 -5.54444943e+12\n",
            " -6.95776678e+11  4.19680225e+11 -4.74943572e+12  7.45546139e+12\n",
            " -7.55153762e+12  5.94596210e+12  6.69516781e+12  7.72436220e+12\n",
            " -3.48275655e+12 -2.64986417e+12  1.04253174e+13 -1.00714026e+13\n",
            "  4.17479034e+13  5.12535338e+12  1.43502638e+13  1.52250956e+13\n",
            " -6.46416196e+12 -1.43740567e+12 -3.71468493e+12 -2.72612099e+13\n",
            " -1.81614321e+13 -2.60646403e+13 -2.71833479e+12  3.73500297e+12\n",
            "  2.89777207e+13  2.49618120e+13  2.37722586e+13  2.12579126e+13\n",
            "  5.35530335e+12  8.63685972e+12 -8.14537049e+10  1.48790307e+12]\n",
            "\n",
            "m = 100\n",
            "b0 = -1055967264770.9766\n",
            "[-3.13992494e+11  3.75060249e+11  5.76051734e+11  2.10881011e+11\n",
            " -5.02333640e+11 -7.67236728e+11 -1.57559583e+11  7.98640113e+11\n",
            " -1.19391857e+11 -5.62001441e+11 -3.96918708e+11 -1.64238453e+10\n",
            "  9.39935609e+11  6.93488245e+10  3.75173005e+11 -7.47232221e+11\n",
            "  5.02059048e+11  5.51461961e+11  9.58526794e+11 -7.42758770e+11\n",
            "  8.14494645e+11 -2.86759440e+11  1.20772813e+11  5.31483107e+11\n",
            " -5.35582636e+10 -8.42475778e+11  9.39616998e+11 -1.00019175e+12\n",
            " -7.63708725e+11  1.21425670e+12 -4.19440511e+11  9.30403049e+10\n",
            " -6.88615656e+11 -1.36836429e+12  8.59765844e+11 -3.28371789e+11\n",
            "  9.02806551e+11 -1.45168173e+12 -5.17260386e+11  1.18162977e+12\n",
            "  1.65685821e+12  2.92707674e+11 -5.08297808e+11  3.28973642e+11\n",
            " -2.70555671e+12  8.66834872e+11 -1.10031993e+12 -1.77296214e+12\n",
            "  1.11713926e+12  1.96432449e+12 -8.52380090e+11  3.30400539e+12\n",
            " -1.07616693e+12 -2.04268614e+11  7.93558877e+11  2.71800361e+11\n",
            " -1.38718741e+11  9.32146555e+11  1.81442935e+11 -6.25353109e+11\n",
            "  6.65574717e+11 -2.93927001e+11 -2.35482638e+11 -1.99252559e+11\n",
            "  1.05218238e+12  1.15618098e+12  2.74383372e+11 -5.80075046e+11\n",
            " -2.14148478e+12 -2.34041972e+12  6.99459806e+11  3.19806230e+12\n",
            "  3.42096384e+11  3.61814984e+12 -2.07209269e+12 -2.25850883e+12\n",
            " -2.37739437e+12 -2.01187332e+12 -2.33416379e+12  1.23879836e+12\n",
            "  2.31202831e+12 -1.74172106e+12  1.70788117e+12 -1.50756454e+12\n",
            " -1.03513262e+12  2.30397259e+12 -2.43828208e+11 -1.20431788e+12\n",
            " -6.54563324e+11 -1.14262079e+12  3.06294511e+10 -1.27560490e+12\n",
            "  3.54708801e+10 -3.07288945e+11  9.13764889e+11  9.37497140e+11\n",
            " -1.32005808e+12 -1.91734417e+12  1.87108628e+12  1.91179468e+12\n",
            "  2.63749219e+12  1.23653798e+12 -3.49647043e+12 -3.10232390e+12\n",
            " -2.81059556e+12 -3.36732598e+12 -3.74236997e+10  1.10948473e+12\n",
            "  5.10894914e+11  3.88147032e+10 -1.99208795e+12 -1.17194178e+12\n",
            "  2.34998573e+12  9.82422722e+11  2.80265766e+12 -6.65248042e+11\n",
            " -8.13329218e+09  1.47224367e+12  4.74061744e+11 -3.55211300e+11\n",
            "  5.49112202e+10 -1.72847816e+11  1.21926893e+12  3.46619958e+11\n",
            " -1.05203956e+12 -1.02420155e+12  2.13311572e+11  4.44620982e+11\n",
            "  9.88125440e+11 -6.42991896e+11 -1.05899403e+12 -1.60014089e+12\n",
            " -6.96491824e+11 -1.20242390e+12  1.00345322e+12  3.40441364e+11\n",
            "  2.52477063e+12 -5.69723486e+11  2.93435238e+12 -1.50478888e+12\n",
            "  2.15790403e+12 -1.46432829e+12 -1.76356216e+12 -5.03613333e+11\n",
            " -1.13556420e+12  1.72095664e+12  1.44754044e+12  5.97734689e+11\n",
            " -1.25728422e+12  1.35850947e+12  1.67274676e+11  1.79265727e+12\n",
            "  2.68041149e+12 -2.35124209e+12  5.02859258e+11  6.86333596e+11\n",
            "  6.60744290e+11  3.48186020e+12 -3.47688948e+11 -5.76821356e+11\n",
            "  1.15266841e+12  1.37708350e+12  3.51075027e+12  2.13310125e+12\n",
            " -2.65250650e+12  7.12941217e+11 -3.79966677e+12  1.46360566e+12\n",
            " -3.65784459e+10 -1.24710339e+12  8.73569468e+11 -1.62858952e+12\n",
            "  1.80597414e+12 -3.90518352e+11  8.58878557e+10  5.40021901e+11\n",
            " -7.27379553e+11  1.73003330e+12  2.01215246e+11 -1.13421833e+12\n",
            " -7.60654874e+11 -2.93258099e+12 -7.40197393e+11 -1.16978137e+12\n",
            "  1.69044538e+10 -7.66035415e+11 -6.73829678e+10 -1.57227188e+12\n",
            " -6.09054771e+10 -1.64829050e+12  3.99859734e+10 -9.09551966e+11\n",
            "  9.84991301e+10 -7.26115586e+10  1.45535995e+11  1.80866970e+11\n",
            "  8.31370932e+10  7.52043691e+10  1.52116372e+10  7.83695748e+09]\n",
            "\n",
            "m = 1000\n",
            "b0 = -0.008372245511789401\n",
            "[-7.75638488e+09  5.96595937e+08  5.23376726e+09 ...  0.00000000e+00\n",
            " -2.85069812e+10  2.97620312e+09]\n",
            "\n"
          ]
        }
      ]
    },
    {
      "cell_type": "markdown",
      "source": [
        "# 3"
      ],
      "metadata": {
        "id": "8rvXuOhzq4wq"
      }
    },
    {
      "cell_type": "code",
      "source": [
        "import pandas as pd\n",
        "import numpy as np\n",
        "import seaborn as sns\n",
        "import matplotlib.pyplot as plt\n",
        "from sklearn.linear_model import *"
      ],
      "metadata": {
        "id": "69_MPqmZ6QLg"
      },
      "execution_count": 29,
      "outputs": []
    },
    {
      "cell_type": "code",
      "source": [
        "df = pd.read_csv('sgn.csv')\n",
        "\n",
        "m = 1000\n",
        "\n",
        "x = df['x'][:N].to_numpy()\n",
        "y = df['y'][:N].to_numpy()\n",
        "X = np.hstack([np.hstack([np.array([np.sin(m*x)]).T, np.array([np.cos(m*x)]).T]) for m in range(1, m + 1)])\n",
        "\n",
        "model = LassoCV()\n",
        "model.fit(X, y)\n",
        "\n",
        "print(f'm = {k}')\n",
        "print(f'b0 = {model.intercept_}')\n",
        "print(model.coef_)\n",
        "\n",
        "y_pred = model.predict(X)\n",
        "sns.lineplot(x=x, y=y_pred)\n",
        "sns.scatterplot(x=x, y=y)"
      ],
      "metadata": {
        "colab": {
          "base_uri": "https://localhost:8080/",
          "height": 356
        },
        "id": "L-cCGBx35uaH",
        "outputId": "d787aedb-fa14-467a-b296-dd8f1cb1c2a6"
      },
      "execution_count": 32,
      "outputs": [
        {
          "output_type": "stream",
          "name": "stdout",
          "text": [
            "m = 1000\n",
            "b0 = -0.004452634115688674\n",
            "[ 1.16231549e+00  0.00000000e+00  0.00000000e+00 ...  0.00000000e+00\n",
            " -5.83797275e-14 -0.00000000e+00]\n"
          ]
        },
        {
          "output_type": "execute_result",
          "data": {
            "text/plain": [
              "<matplotlib.axes._subplots.AxesSubplot at 0x7f9a0b50af50>"
            ]
          },
          "metadata": {},
          "execution_count": 32
        },
        {
          "output_type": "display_data",
          "data": {
            "text/plain": [
              "<Figure size 432x288 with 1 Axes>"
            ],
            "image/png": "[encoded data removed]"
          },
          "metadata": {
            "needs_background": "light"
          }
        }
      ]
    },
    {
      "cell_type": "markdown",
      "source": [
        "# 4"
      ],
      "metadata": {
        "id": "MLGlMhq5q5P5"
      }
    },
    {
      "cell_type": "markdown",
      "source": [
        "# SVC"
      ],
      "metadata": {
        "id": "wSRarWv19z_M"
      }
    },
    {
      "cell_type": "code",
      "source": [
        "import pandas as pd\n",
        "\n",
        "from sklearn.svm import SVC\n",
        "from sklearn.metrics import *\n",
        "from sklearn.model_selection import train_test_split\n",
        "\n",
        "from sklearn.linear_model import LogisticRegression"
      ],
      "metadata": {
        "id": "kpYplsv58J-g"
      },
      "execution_count": 41,
      "outputs": []
    },
    {
      "cell_type": "code",
      "source": [
        "df = pd.read_csv(\"BRCA_pam50.tsv\", sep=\"\\t\", index_col=0)\n",
        "df = df.loc[df[\"Subtype\"].isin([\"Luminal A\", \"Luminal B\"])]\n",
        "\n",
        "X = df.iloc[:, :-1].to_numpy()\n",
        "y = df[\"Subtype\"].to_numpy()\n",
        "\n",
        "X_train, X_test, y_train, y_test = train_test_split(X, y, stratify=y, random_state=17)\n",
        "model = SVC(kernel=\"linear\", class_weight=\"balanced\")\n",
        "\n",
        "model.fit(X_train, y_train)\n",
        "y_pred = model.predict(X_test)\n",
        "\n",
        "print(balanced_accuracy_score(y_test, y_pred))\n",
        "\n",
        "genes = df.columns[np.argsort(np.abs(model.coef_[0]))][::-1][:2].to_list()"
      ],
      "metadata": {
        "colab": {
          "base_uri": "https://localhost:8080/"
        },
        "id": "b8QUtVWV9oxO",
        "outputId": "b18e94ca-817b-4430-bda3-ca6522d2f72f"
      },
      "execution_count": 39,
      "outputs": [
        {
          "output_type": "stream",
          "name": "stdout",
          "text": [
            "0.8862389193752638\n"
          ]
        }
      ]
    },
    {
      "cell_type": "markdown",
      "source": [
        "# SVC top-2"
      ],
      "metadata": {
        "id": "RdQiXGID_S09"
      }
    },
    {
      "cell_type": "code",
      "source": [
        "df = pd.read_csv(\"BRCA_pam50.tsv\", sep=\"\\t\", index_col=0)\n",
        "df = df.loc[df[\"Subtype\"].isin([\"Luminal A\", \"Luminal B\"]), genes + ['Subtype']]\n",
        "\n",
        "X = df.iloc[:, :-1].to_numpy()\n",
        "y = df[\"Subtype\"].to_numpy()\n",
        "\n",
        "X_train, X_test, y_train, y_test = train_test_split(X, y, stratify=y, random_state=17)\n",
        "model = SVC(kernel=\"linear\", class_weight=\"balanced\")\n",
        "\n",
        "model.fit(X_train, y_train)\n",
        "y_pred = model.predict(X_test)\n",
        "\n",
        "print(balanced_accuracy_score(y_test, y_pred))"
      ],
      "metadata": {
        "colab": {
          "base_uri": "https://localhost:8080/"
        },
        "id": "i_arC2fI_U-v",
        "outputId": "5b8429ad-eb70-4cc5-9e99-eb006c58eeed"
      },
      "execution_count": 40,
      "outputs": [
        {
          "output_type": "stream",
          "name": "stdout",
          "text": [
            "0.7747994934571549\n"
          ]
        }
      ]
    },
    {
      "cell_type": "markdown",
      "source": [
        "# LogisticRegression"
      ],
      "metadata": {
        "id": "QNkB1Scn_kp-"
      }
    },
    {
      "cell_type": "code",
      "source": [
        "df = pd.read_csv(\"BRCA_pam50.tsv\", sep=\"\\t\", index_col=0)\n",
        "df = df.loc[df[\"Subtype\"].isin([\"Luminal A\", \"Luminal B\"])]\n",
        "\n",
        "X = df.iloc[:, :-1].to_numpy()\n",
        "y = df[\"Subtype\"].to_numpy()\n",
        "\n",
        "X_train, X_test, y_train, y_test = train_test_split(X, y, stratify=y, random_state=17)\n",
        "model = LogisticRegression(class_weight='balanced', C = 0.01, \n",
        "                           penalty='l1', solver='liblinear')\n",
        "\n",
        "model.fit(X_train, y_train)\n",
        "y_pred = model.predict(X_test)\n",
        "\n",
        "print(balanced_accuracy_score(y_test, y_pred))"
      ],
      "metadata": {
        "colab": {
          "base_uri": "https://localhost:8080/"
        },
        "id": "8PteEYcN_nbV",
        "outputId": "93d405d4-7b77-4a12-8b8a-68a3a2d0f86e"
      },
      "execution_count": 42,
      "outputs": [
        {
          "output_type": "stream",
          "name": "stdout",
          "text": [
            "0.8448712536935415\n"
          ]
        }
      ]
    },
    {
      "cell_type": "markdown",
      "source": [
        "# 5"
      ],
      "metadata": {
        "id": "HwHFqbyJ7Z7j"
      }
    },
    {
      "cell_type": "code",
      "source": [
        "from scipy.stats import *\n",
        "import numpy as np"
      ],
      "metadata": {
        "id": "VJ4ByW-PAovQ"
      },
      "execution_count": 43,
      "outputs": []
    },
    {
      "cell_type": "code",
      "source": [
        "np.random.seed(17)\n",
        "N = 20\n",
        "M = 10000\n",
        "count = 0\n",
        "for i in range(M):\n",
        "  X = np.random.normal(loc=0, size=(N, 2))\n",
        "  y = ['one']*10 + ['two']*10\n",
        "\n",
        "  X_train, X_test, y_train, y_test = train_test_split(X, y, stratify=y, random_state=17)\n",
        "  \n",
        "  model = LogisticRegression(penalty=\"none\")\n",
        "\n",
        "  model.fit(X_train, y_train)\n",
        "  y_pred = model.predict(X_test)\n",
        "\n",
        "  if balanced_accuracy_score(y_test, y_pred) == 1:\n",
        "    count += 1\n",
        "\n",
        "print(count)"
      ],
      "metadata": {
        "colab": {
          "base_uri": "https://localhost:8080/"
        },
        "id": "BF7dfz0SAWdb",
        "outputId": "c86e9c32-c58c-4f44-d3e3-4978aa1e49be"
      },
      "execution_count": 51,
      "outputs": [
        {
          "output_type": "stream",
          "name": "stdout",
          "text": [
            "223\n"
          ]
        }
      ]
    }
  ]
}