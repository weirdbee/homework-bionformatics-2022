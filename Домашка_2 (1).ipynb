{
  "nbformat": 4,
  "nbformat_minor": 0,
  "metadata": {
    "colab": {
      "name": "Домашка 2.ipynb",
      "provenance": []
    },
    "kernelspec": {
      "name": "python3",
      "display_name": "Python 3"
    },
    "language_info": {
      "name": "python"
    }
  },
  "cells": [
    {
      "cell_type": "markdown",
      "source": [
        "# №1"
      ],
      "metadata": {
        "id": "l-O-CJlqZ1h1"
      }
    },
    {
      "cell_type": "code",
      "execution_count": null,
      "metadata": {
        "colab": {
          "base_uri": "https://localhost:8080/"
        },
        "id": "t9yOyRTHZ01F",
        "outputId": "f41b0010-61e2-45af-9e05-d78a7d38798d"
      },
      "outputs": [
        {
          "output_type": "stream",
          "name": "stdout",
          "text": [
            "n = 4\n",
            "x = 2\n",
            "1\n",
            "2\n",
            "2\n",
            "3\n",
            "ans: 2\n"
          ]
        }
      ],
      "source": [
        "n, x = int(input('n = ')), input('x = ')\n",
        "count = 0\n",
        "for i in range(n):\n",
        "  if input() == x:\n",
        "    count += 1\n",
        "print(f'ans: {count}')"
      ]
    },
    {
      "cell_type": "markdown",
      "source": [
        "# №2"
      ],
      "metadata": {
        "id": "cL7wpK8OebWk"
      }
    },
    {
      "cell_type": "code",
      "source": [
        "n = input('n = ')\n",
        "max = [None, None]\n",
        "for i in range(int(n)):\n",
        "  x = float(input())\n",
        "  if x not in max:\n",
        "    if max[0] is None or x > max[0]:\n",
        "      max[0], max[1] = x, max[0]\n",
        "    elif max[1] is None or x > max[1]:\n",
        "      max[1] = x\n",
        "print(f'2-й наибольший элемент в массиве равен {max[1]}')"
      ],
      "metadata": {
        "colab": {
          "base_uri": "https://localhost:8080/"
        },
        "id": "sk26CCTtcDjz",
        "outputId": "3a570747-a9f3-4e53-9373-2386cb0bc9c4"
      },
      "execution_count": null,
      "outputs": [
        {
          "output_type": "stream",
          "name": "stdout",
          "text": [
            "n = 6\n",
            "1\n",
            "5\n",
            "-2\n",
            "5\n",
            "4\n",
            "0\n",
            "2-й наибольший элемент в массиве равен 4.0\n"
          ]
        }
      ]
    },
    {
      "cell_type": "markdown",
      "source": [
        "# №3\n"
      ],
      "metadata": {
        "id": "6W53sjtUynJ6"
      }
    },
    {
      "cell_type": "markdown",
      "source": [
        "## Условие\n",
        "Есть числовой массив $X = [𝑥_1,\\ldots,𝑥_𝑛]$\n",
        "\n",
        "Требуется найти максимум $m$-го порядка на данном массиве, за $O(1)$ по памяти\n",
        "\n",
        "**Переформулировка:** найти максимум $m$-го порядка равносильно найти m-й наибольший элемент (второй наибольший (m = 2), третий наибольший(m = 3) и т.д)\n",
        "\n",
        "**Заметка:** $O(1)$  по памяти значит, что мы можем создавать списки, если их длина не зависит от $n$ (обьема введенных данных)\n",
        "\n",
        "\n"
      ],
      "metadata": {
        "id": "jiSSzZPs_t85"
      }
    },
    {
      "cell_type": "markdown",
      "source": [
        "## Решение\n",
        "**Идея:** ввели новое число, проверили равен ли какой то из максимумов этому числу,если да,то игнорим данное число, если нет, тогда проходимся по максимумам, находим либо первый равный None, либо первый максимум, который меньше введенного числа, если нашли, то начиная с этого максимума обновляем список.\n",
        "\n",
        "****\n",
        "\n",
        "$list \\ of \\ max = [X_0, X_1, \\ldots, X_{m - 1}]$, где $X_i$ - это случайная величина принимающая значение максимума $(i + 1)$-го порядка на массиве $X$, \n",
        "причем\n",
        " $ X_i > X_{i + 1}, i \\in [0, m - 1]$"
      ],
      "metadata": {
        "id": "rX_sGiaHXHS1"
      }
    },
    {
      "cell_type": "markdown",
      "source": [
        "### Реализация"
      ],
      "metadata": {
        "id": "BBuneRSynX_5"
      }
    },
    {
      "cell_type": "markdown",
      "source": [
        "\n",
        "Считали размер входных данных, указали какого порядка наибольший элемент нам нужно найти (третий наибольший, второй наибольший и т.д)\n",
        "```\n",
        "n, m = int(input('n = ')), 3\n",
        "```\n",
        "\n"
      ],
      "metadata": {
        "id": "wrPaFNS6jYy_"
      }
    },
    {
      "cell_type": "markdown",
      "source": [
        "\n",
        "Создали список случайных величин длины m, хотим найти третий наибольший элемент, тогда будет список длины 3\n",
        "```\n",
        "list_of_max = [None for i in range(m)]\n",
        "```\n",
        "\n"
      ],
      "metadata": {
        "id": "i_vFAcHLirRy"
      }
    },
    {
      "cell_type": "markdown",
      "source": [
        "\n",
        "Считали число, если уже какой то из максимумов уже равен этому числу пропускаем его, нам повторяющиеся значения не интересны.\n",
        "```\n",
        "for i in range(n):\n",
        "  x = float(input())\n",
        "  if x not in list_of_max:\n",
        "...\n",
        "```\n",
        "\n"
      ],
      "metadata": {
        "id": "2OR5j-Wfi81x"
      }
    },
    {
      "cell_type": "markdown",
      "source": [
        "\n",
        "Проходимся по всему списку максимумов, ищем такой который либо пуст либо который меньше чем только что введенного числа\n",
        "```\n",
        "    ...\n",
        "    for j in range(m):\n",
        "      if list_of_max[j] is None or x > list_of_max[j]:\n",
        "    ...\n",
        "```\n",
        "\n"
      ],
      "metadata": {
        "id": "5oMYa8o5juRR"
      }
    },
    {
      "cell_type": "markdown",
      "source": [
        "\n",
        "Если нашли максимум который меньше чем только что введенное число, делаем сдвиг значений массива вправо на 1 позицию\n",
        "```\n",
        "        ...\n",
        "        if list_of_max[j] is not None:\n",
        "          for k in range(m - 1, j, -1):\n",
        "            list_of_max[k] = list_of_max[k - 1]\n",
        "        ...\n",
        "```\n",
        "**Ex_1**:\n",
        "\n",
        "**x = 19**, а\n",
        "**list_of_max** сейчас равен [17, 13, 7, 3]\n",
        "\n",
        "тогда после описанных выше операций \n",
        "**list_of_max** станет равным [19, 17, 13, 7]\n",
        "\n",
        "**Ex_2**:\n",
        "\n",
        "**x = 15**, а\n",
        "**list_of_max** пусть равен [17, 13, None, None]\n",
        "\n",
        "тогда после описанных выше операций \n",
        "**list_of_max** станет равным [17, 15, 13, None]\n",
        "\n"
      ],
      "metadata": {
        "id": "Mj2wt-E7kPRQ"
      }
    },
    {
      "cell_type": "markdown",
      "source": [
        "Обновляем $j$-й максимум, присваивая его значению x, выходим из внутреннего цикла\n",
        "\n",
        "```\n",
        "      ...\n",
        "      if list_of_max[j] is None or x > list_of_max[j]:\n",
        "        if list_of_max[j] is not None:\n",
        "          ...\n",
        "        list_of_max[j] = x\n",
        "        print(list_of_max)\n",
        "        break\n",
        "      ...\n",
        "```\n",
        "\n"
      ],
      "metadata": {
        "id": "fBEvoRCKl4i0"
      }
    },
    {
      "cell_type": "markdown",
      "source": [
        "### **Пример работы**\n",
        "Пример работы на списке $X = [1,7,5,8,1,-2,13,9,5,4]$\n",
        "\n",
        "\\begin{equation*}\n",
        "  \\begin{array}{c|c|c}\n",
        "    list \\ of \\ max & 1 & 7 & 5 & 8 & 1 & -2 & 13 & 9 & 5 & 4 \\\\\n",
        "    \\hline\n",
        "    X_1 & 1.0 & 7.0 & 7.0 & 8.0 & 8.0 & 8.0 & 13.0 & 13.0 & 13.0 & 13.0\\\\\n",
        "    X_2 & None & 1.0 & 5.0 & 7.0 & 7.0 & 7.0 & 8.0 & 9.0 & 9.0 & 9.0\\\\\n",
        "    X_3 & None & None & 1.0 & 5.0 & 5.0 & 5.0 & 7.0 & 8.0 & 8.0 & 8.0\\\\\n",
        "  \\end{array}\n",
        "\\end{equation*}\n",
        "\n"
      ],
      "metadata": {
        "id": "CTrKBiyuPtjO"
      }
    },
    {
      "cell_type": "markdown",
      "source": [
        "#### **Итог:**\n",
        "Вроде алгоритм находит на заданном массиве наибольший элемент нужного порядка. (второй наибольший, третий наибольший и т.д)\n",
        "\n",
        "за $O(1)$ по памяти и $O(n)$ по сложности, если m не зависит от n"
      ],
      "metadata": {
        "id": "Z2xclG4MSoMk"
      }
    },
    {
      "cell_type": "code",
      "source": [
        "n, m = int(input('n = ')), 3\n",
        "list_of_max = [None for i in range(m)]\n",
        "\n",
        "for i in range(n):\n",
        "  x = float(input())\n",
        "  if x not in list_of_max:\n",
        "\n",
        "    for j in range(m):\n",
        "      if list_of_max[j] is None or x > list_of_max[j]:\n",
        "\n",
        "        if list_of_max[j] is not None:\n",
        "          for k in range(m - 1, j, -1):\n",
        "            list_of_max[k] = list_of_max[k - 1]\n",
        "\n",
        "        list_of_max[j] = x\n",
        "        print(list_of_max)\n",
        "        break\n",
        "        \n",
        "print(f'{m}-й наибольший элемент в массиве равен {list_of_max[m - 1]}')"
      ],
      "metadata": {
        "colab": {
          "base_uri": "https://localhost:8080/"
        },
        "id": "zxA7Zd2CpyoZ",
        "outputId": "253e2b9a-b40d-4f2f-fd71-4bd5f2a031c7"
      },
      "execution_count": 1,
      "outputs": [
        {
          "output_type": "stream",
          "name": "stdout",
          "text": [
            "n = 10\n",
            "1\n",
            "[1.0, None, None]\n",
            "7\n",
            "[7.0, 1.0, None]\n",
            "5\n",
            "[7.0, 5.0, 1.0]\n",
            "8\n",
            "[8.0, 7.0, 5.0]\n",
            "1\n",
            "-2\n",
            "13\n",
            "[13.0, 8.0, 7.0]\n",
            "9\n",
            "[13.0, 9.0, 8.0]\n",
            "5\n",
            "4\n",
            "3-й наибольший элемент в массиве равен 8.0\n"
          ]
        }
      ]
    },
    {
      "cell_type": "markdown",
      "source": [
        "# №4"
      ],
      "metadata": {
        "id": "4QL5YgEFzKJT"
      }
    },
    {
      "cell_type": "code",
      "source": [
        "x = input()\n",
        "'yes' if x[:len(x)//2] == x[len(x)//2 + len(x)%2 :][::-1] and len(x) > 1 else 'no'"
      ],
      "metadata": {
        "colab": {
          "base_uri": "https://localhost:8080/",
          "height": 54
        },
        "id": "SYKKwcNizJgh",
        "outputId": "7abd9a93-504d-45c3-bcab-5031921f2c72"
      },
      "execution_count": null,
      "outputs": [
        {
          "name": "stdout",
          "output_type": "stream",
          "text": [
            "фисиф\n"
          ]
        },
        {
          "output_type": "execute_result",
          "data": {
            "application/vnd.google.colaboratory.intrinsic+json": {
              "type": "string"
            },
            "text/plain": [
              "'yes'"
            ]
          },
          "metadata": {},
          "execution_count": 5
        }
      ]
    },
    {
      "cell_type": "markdown",
      "source": [
        "# №5"
      ],
      "metadata": {
        "id": "adW264aZz7KQ"
      }
    },
    {
      "cell_type": "code",
      "source": [
        "x, y = [7, 1], [9,8, 1]\n",
        "z = []\n",
        "if len(x) < len(y):\n",
        "  x, y = y, x\n",
        "c = 0\n",
        "for i in range(len(x)):\n",
        "  if i < len(y):\n",
        "    z.append((x[i] + y[i] + c) % 10)\n",
        "    c = (x[i] + y[i] + c) // 10\n",
        "  else:\n",
        "    z.append((x[i] + c) % 10)\n",
        "    c = (x[i] + c) // 10\n",
        "if c!= 0:\n",
        "  z.append(c)\n",
        "z"
      ],
      "metadata": {
        "colab": {
          "base_uri": "https://localhost:8080/"
        },
        "id": "kl_BPZaZz8eW",
        "outputId": "a9bb38d3-eb3d-4b7b-8d20-4369ec1fa719"
      },
      "execution_count": null,
      "outputs": [
        {
          "output_type": "execute_result",
          "data": {
            "text/plain": [
              "[6, 0, 2]"
            ]
          },
          "metadata": {},
          "execution_count": 6
        }
      ]
    }
  ]
}
