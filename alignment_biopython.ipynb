{
  "nbformat": 4,
  "nbformat_minor": 0,
  "metadata": {
    "colab": {
      "name": "alignment_biopython.ipynb",
      "provenance": []
    },
    "kernelspec": {
      "name": "python3",
      "display_name": "Python 3"
    },
    "language_info": {
      "name": "python"
    }
  },
  "cells": [
    {
      "cell_type": "markdown",
      "source": [
        "https://biopython.org/DIST/docs/tutorial/Tutorial.html\n",
        "\n",
        "https://biopython.org/docs/1.77/api/Bio.pairwise2.html"
      ],
      "metadata": {
        "id": "KSin5NUDfXkI"
      }
    },
    {
      "cell_type": "code",
      "source": [
        "!pip install Bio"
      ],
      "metadata": {
        "colab": {
          "base_uri": "https://localhost:8080/"
        },
        "id": "TB_ozFBwTf2w",
        "outputId": "d4fc190b-ecbb-43b8-da63-743c680f205c"
      },
      "execution_count": 1,
      "outputs": [
        {
          "output_type": "stream",
          "name": "stdout",
          "text": [
            "Collecting Bio\n",
            "  Downloading bio-1.3.3-py3-none-any.whl (271 kB)\n",
            "\u001b[K     |████████████████████████████████| 271 kB 5.2 MB/s \n",
            "\u001b[?25hCollecting mygene\n",
            "  Downloading mygene-3.2.2-py2.py3-none-any.whl (5.4 kB)\n",
            "Requirement already satisfied: tqdm in /usr/local/lib/python3.7/dist-packages (from Bio) (4.62.3)\n",
            "Requirement already satisfied: requests in /usr/local/lib/python3.7/dist-packages (from Bio) (2.23.0)\n",
            "Collecting biopython>=1.79\n",
            "  Downloading biopython-1.79-cp37-cp37m-manylinux_2_5_x86_64.manylinux1_x86_64.whl (2.3 MB)\n",
            "\u001b[K     |████████████████████████████████| 2.3 MB 46.0 MB/s \n",
            "\u001b[?25hRequirement already satisfied: numpy in /usr/local/lib/python3.7/dist-packages (from biopython>=1.79->Bio) (1.19.5)\n",
            "Collecting biothings-client>=0.2.6\n",
            "  Downloading biothings_client-0.2.6-py2.py3-none-any.whl (37 kB)\n",
            "Requirement already satisfied: certifi>=2017.4.17 in /usr/local/lib/python3.7/dist-packages (from requests->Bio) (2021.10.8)\n",
            "Requirement already satisfied: chardet<4,>=3.0.2 in /usr/local/lib/python3.7/dist-packages (from requests->Bio) (3.0.4)\n",
            "Requirement already satisfied: urllib3!=1.25.0,!=1.25.1,<1.26,>=1.21.1 in /usr/local/lib/python3.7/dist-packages (from requests->Bio) (1.24.3)\n",
            "Requirement already satisfied: idna<3,>=2.5 in /usr/local/lib/python3.7/dist-packages (from requests->Bio) (2.10)\n",
            "Installing collected packages: biothings-client, mygene, biopython, Bio\n",
            "Successfully installed Bio-1.3.3 biopython-1.79 biothings-client-0.2.6 mygene-3.2.2\n"
          ]
        }
      ]
    },
    {
      "cell_type": "code",
      "execution_count": 2,
      "metadata": {
        "id": "Ki6bSIWwR_Ay"
      },
      "outputs": [],
      "source": [
        "from Bio import pairwise2 as pair\n",
        "from Bio.Seq import Seq\n",
        "from Bio.pairwise2 import format_alignment as f_a\n",
        "from Bio.Align import substitution_matrices as sub_matrix"
      ]
    },
    {
      "cell_type": "code",
      "source": [
        "seq1 = Seq('ATGAGTCTCT') \n",
        "seq2 = Seq('CTGTCTCCTG')\n",
        "d, e = -10, -0.5\n",
        "al = pair.align.globalms(seq1, seq2, match = 5, mismatch = -4, open = d, extend = e)\n",
        "for i in al: \n",
        "  print(f_a(*i)) "
      ],
      "metadata": {
        "colab": {
          "base_uri": "https://localhost:8080/"
        },
        "id": "OBVUyDfwSMht",
        "outputId": "e83d8f97-fbef-4fc2-e6af-0aad228fda73"
      },
      "execution_count": 3,
      "outputs": [
        {
          "output_type": "stream",
          "name": "stdout",
          "text": [
            "ATGAGTCTC--T\n",
            ".|  |||||  .\n",
            "CT--GTCTCCTG\n",
            "  Score=1\n",
            "\n",
            "ATGAGTCTC--T\n",
            ".||  ||||  .\n",
            "CTG--TCTCCTG\n",
            "  Score=1\n",
            "\n",
            "ATGAGTCTCT--\n",
            ".|  |||||.  \n",
            "CT--GTCTCCTG\n",
            "  Score=1\n",
            "\n",
            "ATGAGTCTCT--\n",
            ".||  ||||.  \n",
            "CTG--TCTCCTG\n",
            "  Score=1\n",
            "\n"
          ]
        }
      ]
    }
  ]
}